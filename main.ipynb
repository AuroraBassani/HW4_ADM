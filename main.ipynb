{
 "cells": [
  {
   "cell_type": "markdown",
   "metadata": {},
   "source": [
    "# 1. Finding Similar Costumers"
   ]
  },
  {
   "cell_type": "code",
   "execution_count": 11,
   "metadata": {},
   "outputs": [],
   "source": [
    "import pandas as pd\n",
    "import numpy as np\n",
    "from sklearn.preprocessing import OneHotEncoder\n",
    "import random\n",
    "from tqdm import tqdm\n",
    "import pickle\n",
    "from datetime import datetime\n",
    "from collections import Counter"
   ]
  },
  {
   "cell_type": "code",
   "execution_count": 19,
   "metadata": {},
   "outputs": [],
   "source": [
    "import adm4"
   ]
  },
  {
   "cell_type": "markdown",
   "metadata": {},
   "source": [
    "### 1.1 Set up the data\n"
   ]
  },
  {
   "cell_type": "markdown",
   "metadata": {},
   "source": [
    "First of all let's import the dataset and have a look at it:"
   ]
  },
  {
   "cell_type": "code",
   "execution_count": 13,
   "metadata": {},
   "outputs": [
    {
     "data": {
      "text/html": [
       "<div>\n",
       "<style scoped>\n",
       "    .dataframe tbody tr th:only-of-type {\n",
       "        vertical-align: middle;\n",
       "    }\n",
       "\n",
       "    .dataframe tbody tr th {\n",
       "        vertical-align: top;\n",
       "    }\n",
       "\n",
       "    .dataframe thead th {\n",
       "        text-align: right;\n",
       "    }\n",
       "</style>\n",
       "<table border=\"1\" class=\"dataframe\">\n",
       "  <thead>\n",
       "    <tr style=\"text-align: right;\">\n",
       "      <th></th>\n",
       "      <th>TransactionID</th>\n",
       "      <th>CustomerID</th>\n",
       "      <th>CustomerDOB</th>\n",
       "      <th>CustGender</th>\n",
       "      <th>CustLocation</th>\n",
       "      <th>CustAccountBalance</th>\n",
       "      <th>TransactionDate</th>\n",
       "      <th>TransactionTime</th>\n",
       "      <th>TransactionAmount (INR)</th>\n",
       "    </tr>\n",
       "  </thead>\n",
       "  <tbody>\n",
       "    <tr>\n",
       "      <th>0</th>\n",
       "      <td>T1</td>\n",
       "      <td>C5841053</td>\n",
       "      <td>10/1/94</td>\n",
       "      <td>F</td>\n",
       "      <td>JAMSHEDPUR</td>\n",
       "      <td>17819.05</td>\n",
       "      <td>2/8/16</td>\n",
       "      <td>143207</td>\n",
       "      <td>25.0</td>\n",
       "    </tr>\n",
       "    <tr>\n",
       "      <th>1</th>\n",
       "      <td>T2</td>\n",
       "      <td>C2142763</td>\n",
       "      <td>4/4/57</td>\n",
       "      <td>M</td>\n",
       "      <td>JHAJJAR</td>\n",
       "      <td>2270.69</td>\n",
       "      <td>2/8/16</td>\n",
       "      <td>141858</td>\n",
       "      <td>27999.0</td>\n",
       "    </tr>\n",
       "    <tr>\n",
       "      <th>2</th>\n",
       "      <td>T3</td>\n",
       "      <td>C4417068</td>\n",
       "      <td>26/11/96</td>\n",
       "      <td>F</td>\n",
       "      <td>MUMBAI</td>\n",
       "      <td>17874.44</td>\n",
       "      <td>2/8/16</td>\n",
       "      <td>142712</td>\n",
       "      <td>459.0</td>\n",
       "    </tr>\n",
       "    <tr>\n",
       "      <th>3</th>\n",
       "      <td>T4</td>\n",
       "      <td>C5342380</td>\n",
       "      <td>14/9/73</td>\n",
       "      <td>F</td>\n",
       "      <td>MUMBAI</td>\n",
       "      <td>866503.21</td>\n",
       "      <td>2/8/16</td>\n",
       "      <td>142714</td>\n",
       "      <td>2060.0</td>\n",
       "    </tr>\n",
       "    <tr>\n",
       "      <th>4</th>\n",
       "      <td>T5</td>\n",
       "      <td>C9031234</td>\n",
       "      <td>24/3/88</td>\n",
       "      <td>F</td>\n",
       "      <td>NAVI MUMBAI</td>\n",
       "      <td>6714.43</td>\n",
       "      <td>2/8/16</td>\n",
       "      <td>181156</td>\n",
       "      <td>1762.5</td>\n",
       "    </tr>\n",
       "  </tbody>\n",
       "</table>\n",
       "</div>"
      ],
      "text/plain": [
       "  TransactionID CustomerID CustomerDOB CustGender CustLocation  \\\n",
       "0            T1   C5841053     10/1/94          F   JAMSHEDPUR   \n",
       "1            T2   C2142763      4/4/57          M      JHAJJAR   \n",
       "2            T3   C4417068    26/11/96          F       MUMBAI   \n",
       "3            T4   C5342380     14/9/73          F       MUMBAI   \n",
       "4            T5   C9031234     24/3/88          F  NAVI MUMBAI   \n",
       "\n",
       "   CustAccountBalance TransactionDate  TransactionTime  \\\n",
       "0            17819.05          2/8/16           143207   \n",
       "1             2270.69          2/8/16           141858   \n",
       "2            17874.44          2/8/16           142712   \n",
       "3           866503.21          2/8/16           142714   \n",
       "4             6714.43          2/8/16           181156   \n",
       "\n",
       "   TransactionAmount (INR)  \n",
       "0                     25.0  \n",
       "1                  27999.0  \n",
       "2                    459.0  \n",
       "3                   2060.0  \n",
       "4                   1762.5  "
      ]
     },
     "execution_count": 13,
     "metadata": {},
     "output_type": "execute_result"
    }
   ],
   "source": [
    "data = pd.read_csv('bank_transactions.csv')\n",
    "data.head(5)"
   ]
  },
  {
   "cell_type": "markdown",
   "metadata": {},
   "source": [
    "Let's see how many NaN values we have for each variable:"
   ]
  },
  {
   "cell_type": "code",
   "execution_count": 14,
   "metadata": {},
   "outputs": [
    {
     "data": {
      "text/plain": [
       "TransactionID                 0\n",
       "CustomerID                    0\n",
       "CustomerDOB                3397\n",
       "CustGender                 1100\n",
       "CustLocation                151\n",
       "CustAccountBalance         2369\n",
       "TransactionDate               0\n",
       "TransactionTime               0\n",
       "TransactionAmount (INR)       0\n",
       "dtype: int64"
      ]
     },
     "execution_count": 14,
     "metadata": {},
     "output_type": "execute_result"
    }
   ],
   "source": [
    "data.isna().sum()"
   ]
  },
  {
   "cell_type": "markdown",
   "metadata": {},
   "source": [
    "Since we have to look for similarity we think that NaN values are useless and so we can drop them:"
   ]
  },
  {
   "cell_type": "code",
   "execution_count": 15,
   "metadata": {},
   "outputs": [],
   "source": [
    "data.dropna(inplace=True)"
   ]
  },
  {
   "cell_type": "markdown",
   "metadata": {},
   "source": [
    "We can notice that in the dataframe we have that some CustomerID are present more than once:"
   ]
  },
  {
   "cell_type": "code",
   "execution_count": 16,
   "metadata": {},
   "outputs": [
    {
     "data": {
      "text/plain": [
       "False"
      ]
     },
     "execution_count": 16,
     "metadata": {},
     "output_type": "execute_result"
    }
   ],
   "source": [
    "data.CustomerID.is_unique"
   ]
  },
  {
   "cell_type": "markdown",
   "metadata": {},
   "source": [
    "This means that for these customers we have more than 1 transaction in the dataframe. Since later we want to find similarity between customers we think that we should group by CustomerID in order to have unique values in the column ***CustomerID***.   \n",
    "Grouping by the ID we'll create some new columns such as: \n",
    "- Most_common_location: in which we'll store the most common location between all the transactions for each customer;\n",
    "- Average_transaction_amount: in which we'll store the average of all the transaction amount for each customer;\n",
    "- Customer_age\n",
    "- LastAccountBalance: in which we store the last Balance recorded for each customer"
   ]
  },
  {
   "cell_type": "markdown",
   "metadata": {},
   "source": [
    "These columns are also the ones that we'll use to compare customers."
   ]
  },
  {
   "cell_type": "markdown",
   "metadata": {},
   "source": [
    "We've created a function that given the dataframe data will group rows by CustomerId and it will creat the columns we've talked about above.    \n",
    "You can find the function  in the file adm4.py:"
   ]
  },
  {
   "cell_type": "code",
   "execution_count": 20,
   "metadata": {},
   "outputs": [],
   "source": [
    "data = grouping(data)"
   ]
  },
  {
   "cell_type": "markdown",
   "metadata": {},
   "source": [
    "Let's have a look at the new dataframe:"
   ]
  },
  {
   "cell_type": "code",
   "execution_count": 163,
   "metadata": {},
   "outputs": [
    {
     "data": {
      "text/html": [
       "<div>\n",
       "<style scoped>\n",
       "    .dataframe tbody tr th:only-of-type {\n",
       "        vertical-align: middle;\n",
       "    }\n",
       "\n",
       "    .dataframe tbody tr th {\n",
       "        vertical-align: top;\n",
       "    }\n",
       "\n",
       "    .dataframe thead th {\n",
       "        text-align: right;\n",
       "    }\n",
       "</style>\n",
       "<table border=\"1\" class=\"dataframe\">\n",
       "  <thead>\n",
       "    <tr style=\"text-align: right;\">\n",
       "      <th></th>\n",
       "      <th>CustomerID</th>\n",
       "      <th>Average_transaction_amount</th>\n",
       "      <th>Most_common_location</th>\n",
       "      <th>LastAccountBalance</th>\n",
       "      <th>CustomerAge</th>\n",
       "    </tr>\n",
       "  </thead>\n",
       "  <tbody>\n",
       "    <tr>\n",
       "      <th>1</th>\n",
       "      <td>C1010012</td>\n",
       "      <td>1499.0</td>\n",
       "      <td>MUMBAI</td>\n",
       "      <td>24204.49</td>\n",
       "      <td>28</td>\n",
       "    </tr>\n",
       "    <tr>\n",
       "      <th>2</th>\n",
       "      <td>C1010014</td>\n",
       "      <td>727.5</td>\n",
       "      <td>MUMBAI</td>\n",
       "      <td>161848.76</td>\n",
       "      <td>31</td>\n",
       "    </tr>\n",
       "    <tr>\n",
       "      <th>3</th>\n",
       "      <td>C1010018</td>\n",
       "      <td>30.0</td>\n",
       "      <td>CHAMPARAN</td>\n",
       "      <td>496.18</td>\n",
       "      <td>33</td>\n",
       "    </tr>\n",
       "    <tr>\n",
       "      <th>4</th>\n",
       "      <td>C1010024</td>\n",
       "      <td>5000.0</td>\n",
       "      <td>KOLKATA</td>\n",
       "      <td>87058.65</td>\n",
       "      <td>57</td>\n",
       "    </tr>\n",
       "    <tr>\n",
       "      <th>5</th>\n",
       "      <td>C1010028</td>\n",
       "      <td>557.0</td>\n",
       "      <td>DELHI</td>\n",
       "      <td>296828.37</td>\n",
       "      <td>34</td>\n",
       "    </tr>\n",
       "  </tbody>\n",
       "</table>\n",
       "</div>"
      ],
      "text/plain": [
       "  CustomerID  Average_transaction_amount Most_common_location  \\\n",
       "1   C1010012                      1499.0               MUMBAI   \n",
       "2   C1010014                       727.5               MUMBAI   \n",
       "3   C1010018                        30.0            CHAMPARAN   \n",
       "4   C1010024                      5000.0              KOLKATA   \n",
       "5   C1010028                       557.0                DELHI   \n",
       "\n",
       "   LastAccountBalance  CustomerAge  \n",
       "1            24204.49           28  \n",
       "2           161848.76           31  \n",
       "3              496.18           33  \n",
       "4            87058.65           57  \n",
       "5           296828.37           34  "
      ]
     },
     "execution_count": 163,
     "metadata": {},
     "output_type": "execute_result"
    }
   ],
   "source": [
    "data.head(5)"
   ]
  },
  {
   "cell_type": "markdown",
   "metadata": {},
   "source": [
    "Since we have to compute a minhash algorithm we think that the proper variables to work with are categorical ones.  \n",
    "For that reason from the dataframe data we'll work with just some columns:"
   ]
  },
  {
   "cell_type": "code",
   "execution_count": 164,
   "metadata": {},
   "outputs": [],
   "source": [
    "data = data[[\"CustomerID\",\"Average_transaction_amount\",\"Most_common_location\",\"LastAccountBalance\",\"CustomerAge\"]]\n",
    "data.dropna(inplace=True)"
   ]
  },
  {
   "cell_type": "markdown",
   "metadata": {},
   "source": [
    "Starting from these variables we'll create categorical variables.   \n",
    "In particular we'll create 3  categorical variables using ***Average_transaction_amount***, ***CustomerAge*** and ***LastAccountBalance***."
   ]
  },
  {
   "cell_type": "markdown",
   "metadata": {},
   "source": [
    "**Average_transaction_amount**:"
   ]
  },
  {
   "cell_type": "markdown",
   "metadata": {},
   "source": [
    "Our idea is to create a new variable called ***Class_transaction*** that can take values in *[1_Class_transaction, ..., 10_Class_transaction]*.  \n",
    "We'll take the maximum and minimum values of Average_transaction_amount and we'll divide max-min for 10. So that we obtain 10 intervals of the same length.   \n",
    "i_Class_transaction means that that customer has an Average_transaction_amount in the class i."
   ]
  },
  {
   "cell_type": "markdown",
   "metadata": {},
   "source": [
    "In order to create this new column we use a function CLASSES that you can find in adm4.py."
   ]
  },
  {
   "cell_type": "code",
   "execution_count": 165,
   "metadata": {},
   "outputs": [],
   "source": [
    "df = classes(data,data,\"Average_transaction_amount\",\"Class_transaction\",\"Average_transaction_amount\",10)"
   ]
  },
  {
   "cell_type": "markdown",
   "metadata": {},
   "source": [
    "**CustomerAge**"
   ]
  },
  {
   "cell_type": "markdown",
   "metadata": {},
   "source": [
    "We now do the same thing with ***CustomerAge***."
   ]
  },
  {
   "cell_type": "markdown",
   "metadata": {},
   "source": [
    "Even in this case we use the function classes but with different parameters."
   ]
  },
  {
   "cell_type": "code",
   "execution_count": 166,
   "metadata": {},
   "outputs": [],
   "source": [
    "df = classes(data,df,\"CustomerAge\",\"Class_age\",\"CustomerAge\",10)"
   ]
  },
  {
   "cell_type": "markdown",
   "metadata": {},
   "source": [
    "**LastAccountBalance**"
   ]
  },
  {
   "cell_type": "markdown",
   "metadata": {},
   "source": [
    "As we can see the difference between the maximum value and minimum value of LastAccountBalance is large.   \n",
    "For this reason we've thought that in this case it was better to create only 4 classes with different lengths."
   ]
  },
  {
   "cell_type": "code",
   "execution_count": 167,
   "metadata": {},
   "outputs": [
    {
     "data": {
      "text/plain": [
       "115035495.1"
      ]
     },
     "execution_count": 167,
     "metadata": {},
     "output_type": "execute_result"
    }
   ],
   "source": [
    "df.LastAccountBalance.max()-df.LastAccountBalance.min()"
   ]
  },
  {
   "cell_type": "code",
   "execution_count": 168,
   "metadata": {},
   "outputs": [],
   "source": [
    "df[\"Class_income\"]=0\n",
    "df.loc[(df[\"LastAccountBalance\"] >= 10000) & (df[\"LastAccountBalance\"] < 100000),\"Class_income\"]=1\n",
    "df.loc[(df[\"LastAccountBalance\"] >= 100000) & (df[\"LastAccountBalance\"] < 1000000),\"Class_income\"]=2\n",
    "df.loc[(df[\"LastAccountBalance\"] >= 1000000),\"Class_income\"]=3"
   ]
  },
  {
   "cell_type": "markdown",
   "metadata": {},
   "source": [
    "Let's have a look at the new columns:"
   ]
  },
  {
   "cell_type": "code",
   "execution_count": 169,
   "metadata": {},
   "outputs": [
    {
     "data": {
      "text/html": [
       "<div>\n",
       "<style scoped>\n",
       "    .dataframe tbody tr th:only-of-type {\n",
       "        vertical-align: middle;\n",
       "    }\n",
       "\n",
       "    .dataframe tbody tr th {\n",
       "        vertical-align: top;\n",
       "    }\n",
       "\n",
       "    .dataframe thead th {\n",
       "        text-align: right;\n",
       "    }\n",
       "</style>\n",
       "<table border=\"1\" class=\"dataframe\">\n",
       "  <thead>\n",
       "    <tr style=\"text-align: right;\">\n",
       "      <th></th>\n",
       "      <th>CustomerID</th>\n",
       "      <th>Average_transaction_amount</th>\n",
       "      <th>Most_common_location</th>\n",
       "      <th>LastAccountBalance</th>\n",
       "      <th>CustomerAge</th>\n",
       "      <th>Class_transaction</th>\n",
       "      <th>Class_age</th>\n",
       "      <th>Class_income</th>\n",
       "    </tr>\n",
       "  </thead>\n",
       "  <tbody>\n",
       "    <tr>\n",
       "      <th>1</th>\n",
       "      <td>C1010012</td>\n",
       "      <td>1499.0</td>\n",
       "      <td>MUMBAI</td>\n",
       "      <td>24204.49</td>\n",
       "      <td>28</td>\n",
       "      <td>1_Class_transaction</td>\n",
       "      <td>1_Class_age</td>\n",
       "      <td>1</td>\n",
       "    </tr>\n",
       "    <tr>\n",
       "      <th>2</th>\n",
       "      <td>C1010014</td>\n",
       "      <td>727.5</td>\n",
       "      <td>MUMBAI</td>\n",
       "      <td>161848.76</td>\n",
       "      <td>31</td>\n",
       "      <td>1_Class_transaction</td>\n",
       "      <td>1_Class_age</td>\n",
       "      <td>2</td>\n",
       "    </tr>\n",
       "    <tr>\n",
       "      <th>3</th>\n",
       "      <td>C1010018</td>\n",
       "      <td>30.0</td>\n",
       "      <td>CHAMPARAN</td>\n",
       "      <td>496.18</td>\n",
       "      <td>33</td>\n",
       "      <td>1_Class_transaction</td>\n",
       "      <td>2_Class_age</td>\n",
       "      <td>0</td>\n",
       "    </tr>\n",
       "    <tr>\n",
       "      <th>4</th>\n",
       "      <td>C1010024</td>\n",
       "      <td>5000.0</td>\n",
       "      <td>KOLKATA</td>\n",
       "      <td>87058.65</td>\n",
       "      <td>57</td>\n",
       "      <td>1_Class_transaction</td>\n",
       "      <td>4_Class_age</td>\n",
       "      <td>1</td>\n",
       "    </tr>\n",
       "    <tr>\n",
       "      <th>5</th>\n",
       "      <td>C1010028</td>\n",
       "      <td>557.0</td>\n",
       "      <td>DELHI</td>\n",
       "      <td>296828.37</td>\n",
       "      <td>34</td>\n",
       "      <td>1_Class_transaction</td>\n",
       "      <td>2_Class_age</td>\n",
       "      <td>2</td>\n",
       "    </tr>\n",
       "  </tbody>\n",
       "</table>\n",
       "</div>"
      ],
      "text/plain": [
       "  CustomerID  Average_transaction_amount Most_common_location  \\\n",
       "1   C1010012                      1499.0               MUMBAI   \n",
       "2   C1010014                       727.5               MUMBAI   \n",
       "3   C1010018                        30.0            CHAMPARAN   \n",
       "4   C1010024                      5000.0              KOLKATA   \n",
       "5   C1010028                       557.0                DELHI   \n",
       "\n",
       "   LastAccountBalance  CustomerAge    Class_transaction    Class_age  \\\n",
       "1            24204.49           28  1_Class_transaction  1_Class_age   \n",
       "2           161848.76           31  1_Class_transaction  1_Class_age   \n",
       "3              496.18           33  1_Class_transaction  2_Class_age   \n",
       "4            87058.65           57  1_Class_transaction  4_Class_age   \n",
       "5           296828.37           34  1_Class_transaction  2_Class_age   \n",
       "\n",
       "   Class_income  \n",
       "1             1  \n",
       "2             2  \n",
       "3             0  \n",
       "4             1  \n",
       "5             2  "
      ]
     },
     "execution_count": 169,
     "metadata": {},
     "output_type": "execute_result"
    }
   ],
   "source": [
    "df.head(5)"
   ]
  },
  {
   "cell_type": "markdown",
   "metadata": {},
   "source": [
    "We can now extract from the dataframe just the column we're interested in.   \n",
    "In particular: ***CustomerID***, ***Most_common_location***, ***Class_transaction*** and ***Class_age***."
   ]
  },
  {
   "cell_type": "code",
   "execution_count": 170,
   "metadata": {},
   "outputs": [],
   "source": [
    "df = df[[\"CustomerID\",\"Most_common_location\",\"Class_income\",\"Class_transaction\",\"Class_age\"]]"
   ]
  },
  {
   "cell_type": "code",
   "execution_count": 171,
   "metadata": {},
   "outputs": [],
   "source": [
    "df.reset_index(inplace=True)\n",
    "df.drop('index', inplace=True, axis=1)"
   ]
  },
  {
   "cell_type": "markdown",
   "metadata": {},
   "source": [
    "Have a look at the shape and the first rows of the final dataframe."
   ]
  },
  {
   "cell_type": "code",
   "execution_count": 172,
   "metadata": {},
   "outputs": [
    {
     "data": {
      "text/plain": [
       "(717241, 5)"
      ]
     },
     "execution_count": 172,
     "metadata": {},
     "output_type": "execute_result"
    }
   ],
   "source": [
    "df.shape"
   ]
  },
  {
   "cell_type": "code",
   "execution_count": 173,
   "metadata": {},
   "outputs": [
    {
     "data": {
      "text/html": [
       "<div>\n",
       "<style scoped>\n",
       "    .dataframe tbody tr th:only-of-type {\n",
       "        vertical-align: middle;\n",
       "    }\n",
       "\n",
       "    .dataframe tbody tr th {\n",
       "        vertical-align: top;\n",
       "    }\n",
       "\n",
       "    .dataframe thead th {\n",
       "        text-align: right;\n",
       "    }\n",
       "</style>\n",
       "<table border=\"1\" class=\"dataframe\">\n",
       "  <thead>\n",
       "    <tr style=\"text-align: right;\">\n",
       "      <th></th>\n",
       "      <th>CustomerID</th>\n",
       "      <th>Most_common_location</th>\n",
       "      <th>Class_income</th>\n",
       "      <th>Class_transaction</th>\n",
       "      <th>Class_age</th>\n",
       "    </tr>\n",
       "  </thead>\n",
       "  <tbody>\n",
       "    <tr>\n",
       "      <th>0</th>\n",
       "      <td>C1010012</td>\n",
       "      <td>MUMBAI</td>\n",
       "      <td>1</td>\n",
       "      <td>1_Class_transaction</td>\n",
       "      <td>1_Class_age</td>\n",
       "    </tr>\n",
       "    <tr>\n",
       "      <th>1</th>\n",
       "      <td>C1010014</td>\n",
       "      <td>MUMBAI</td>\n",
       "      <td>2</td>\n",
       "      <td>1_Class_transaction</td>\n",
       "      <td>1_Class_age</td>\n",
       "    </tr>\n",
       "    <tr>\n",
       "      <th>2</th>\n",
       "      <td>C1010018</td>\n",
       "      <td>CHAMPARAN</td>\n",
       "      <td>0</td>\n",
       "      <td>1_Class_transaction</td>\n",
       "      <td>2_Class_age</td>\n",
       "    </tr>\n",
       "    <tr>\n",
       "      <th>3</th>\n",
       "      <td>C1010024</td>\n",
       "      <td>KOLKATA</td>\n",
       "      <td>1</td>\n",
       "      <td>1_Class_transaction</td>\n",
       "      <td>4_Class_age</td>\n",
       "    </tr>\n",
       "    <tr>\n",
       "      <th>4</th>\n",
       "      <td>C1010028</td>\n",
       "      <td>DELHI</td>\n",
       "      <td>2</td>\n",
       "      <td>1_Class_transaction</td>\n",
       "      <td>2_Class_age</td>\n",
       "    </tr>\n",
       "    <tr>\n",
       "      <th>5</th>\n",
       "      <td>C1010036</td>\n",
       "      <td>GURGAON</td>\n",
       "      <td>2</td>\n",
       "      <td>1_Class_transaction</td>\n",
       "      <td>1_Class_age</td>\n",
       "    </tr>\n",
       "    <tr>\n",
       "      <th>6</th>\n",
       "      <td>C1010037</td>\n",
       "      <td>BANGALORE</td>\n",
       "      <td>1</td>\n",
       "      <td>1_Class_transaction</td>\n",
       "      <td>2_Class_age</td>\n",
       "    </tr>\n",
       "    <tr>\n",
       "      <th>7</th>\n",
       "      <td>C1010038</td>\n",
       "      <td>LOHIT</td>\n",
       "      <td>0</td>\n",
       "      <td>1_Class_transaction</td>\n",
       "      <td>1_Class_age</td>\n",
       "    </tr>\n",
       "    <tr>\n",
       "      <th>8</th>\n",
       "      <td>C1010039</td>\n",
       "      <td>CHANDIGARH</td>\n",
       "      <td>1</td>\n",
       "      <td>1_Class_transaction</td>\n",
       "      <td>1_Class_age</td>\n",
       "    </tr>\n",
       "    <tr>\n",
       "      <th>9</th>\n",
       "      <td>C1010045</td>\n",
       "      <td>AHMEDABAD</td>\n",
       "      <td>0</td>\n",
       "      <td>1_Class_transaction</td>\n",
       "      <td>2_Class_age</td>\n",
       "    </tr>\n",
       "  </tbody>\n",
       "</table>\n",
       "</div>"
      ],
      "text/plain": [
       "  CustomerID Most_common_location  Class_income    Class_transaction  \\\n",
       "0   C1010012               MUMBAI             1  1_Class_transaction   \n",
       "1   C1010014               MUMBAI             2  1_Class_transaction   \n",
       "2   C1010018            CHAMPARAN             0  1_Class_transaction   \n",
       "3   C1010024              KOLKATA             1  1_Class_transaction   \n",
       "4   C1010028                DELHI             2  1_Class_transaction   \n",
       "5   C1010036              GURGAON             2  1_Class_transaction   \n",
       "6   C1010037            BANGALORE             1  1_Class_transaction   \n",
       "7   C1010038                LOHIT             0  1_Class_transaction   \n",
       "8   C1010039           CHANDIGARH             1  1_Class_transaction   \n",
       "9   C1010045            AHMEDABAD             0  1_Class_transaction   \n",
       "\n",
       "     Class_age  \n",
       "0  1_Class_age  \n",
       "1  1_Class_age  \n",
       "2  2_Class_age  \n",
       "3  4_Class_age  \n",
       "4  2_Class_age  \n",
       "5  1_Class_age  \n",
       "6  2_Class_age  \n",
       "7  1_Class_age  \n",
       "8  1_Class_age  \n",
       "9  2_Class_age  "
      ]
     },
     "execution_count": 173,
     "metadata": {},
     "output_type": "execute_result"
    }
   ],
   "source": [
    "df.head(10)"
   ]
  },
  {
   "cell_type": "markdown",
   "metadata": {},
   "source": [
    "### 1.2 Fingerprint hashing"
   ]
  },
  {
   "cell_type": "markdown",
   "metadata": {},
   "source": [
    "##### STARTING MATRIX"
   ]
  },
  {
   "cell_type": "markdown",
   "metadata": {},
   "source": [
    "First of all we want to crate a sparse matrix ***M*** with all the values equal to 1 or 0.   \n",
    "    Each column will represent a Customer_ID and every row will represent an unique value that a column can assume.   \n",
    "    For example, looking at the first row of our dataset, the matrix M will have a 1 when the index of the row correspond to 'MUMBAI' and the index of the column corresponds to 'C1010012' and similarly with the other 3 features of the first customer."
   ]
  },
  {
   "cell_type": "markdown",
   "metadata": {},
   "source": [
    "In order to do this we'll use the transformer OneHotEncoder from the library sklearn.  \n",
    "For this reason we need to store in an array **X** a number of sublists equals to number of Customer_ID such that every sublist contains all the features that its Customer_ID has."
   ]
  },
  {
   "cell_type": "code",
   "execution_count": 174,
   "metadata": {},
   "outputs": [],
   "source": [
    "# Setting an empy list in which we can store a sublist for each customer with all his corresponding values\n",
    "X = []\n",
    "for i in df.index:\n",
    "    X.append([str(df['Most_common_location'][i]),str(df['Class_income'][i]),str(df['Class_transaction'][i]),str(df['Class_age'][i])])\n",
    "\n",
    "# transform X in a numpay array\n",
    "X = np.array(X)"
   ]
  },
  {
   "cell_type": "markdown",
   "metadata": {},
   "source": [
    "We can now pass to the transformer the array X that will compute automatically the matrix we're interested in."
   ]
  },
  {
   "cell_type": "code",
   "execution_count": 175,
   "metadata": {},
   "outputs": [],
   "source": [
    "enc = OneHotEncoder(handle_unknown='ignore',dtype=np.int8)\n",
    "enc.fit(X)\n",
    "X = enc.transform(X).toarray()"
   ]
  },
  {
   "cell_type": "markdown",
   "metadata": {},
   "source": [
    "As we can see from the outup of the next cell, the matrix we obtain has the number of column and rows inverted with respect to what we want:"
   ]
  },
  {
   "cell_type": "code",
   "execution_count": 176,
   "metadata": {},
   "outputs": [
    {
     "name": "stdout",
     "output_type": "stream",
     "text": [
      "(717241, 7628)\n",
      "7628\n"
     ]
    }
   ],
   "source": [
    "print(X.shape)\n",
    "\n",
    "# let's even check if the sum of the unique values in the columns of our dataframe correspons to number of columns of X\n",
    "print(df.Most_common_location.nunique()+df.Class_income.nunique()+df.Class_transaction.nunique()+df.Class_age.nunique())"
   ]
  },
  {
   "cell_type": "markdown",
   "metadata": {},
   "source": [
    "Before computing the transpose of X we want to know how our unique values have been 'stored' along rows of X.    \n",
    "We can do that with **get_feature_names_out**"
   ]
  },
  {
   "cell_type": "code",
   "execution_count": 177,
   "metadata": {},
   "outputs": [
    {
     "data": {
      "text/plain": [
       "array(['_(154) BHASKOLA FARIDABAD', '_(BENAKA MDTS) BANGALORE',\n",
       "       '_(DT) HOSUR', ..., '_7_Class_age', '_8_Class_age', '_9_Class_age'],\n",
       "      dtype=object)"
      ]
     },
     "execution_count": 177,
     "metadata": {},
     "output_type": "execute_result"
    }
   ],
   "source": [
    "variables = enc.get_feature_names_out(['','','',''])\n",
    "variables"
   ]
  },
  {
   "cell_type": "markdown",
   "metadata": {},
   "source": [
    "We can notice that this code will save a list of all the unique values with a '_' before and they are in the same order of how they appear in the matrix X."
   ]
  },
  {
   "cell_type": "markdown",
   "metadata": {},
   "source": [
    "We can now compute the transpose of X in order to finally get the matrix we want:"
   ]
  },
  {
   "cell_type": "code",
   "execution_count": 178,
   "metadata": {},
   "outputs": [
    {
     "name": "stdout",
     "output_type": "stream",
     "text": [
      "(7628, 717241)\n"
     ]
    }
   ],
   "source": [
    "X = np.transpose(X, axes=None)\n",
    "print(X.shape)"
   ]
  },
  {
   "cell_type": "markdown",
   "metadata": {},
   "source": [
    "##### SIGNATURES MATRIX"
   ]
  },
  {
   "cell_type": "markdown",
   "metadata": {},
   "source": [
    "Starting from the matrix ***M*** we want now to create our ***Signature matrix***.  \n",
    "In order to this we should create random permutation of the rows of X. We think that a more practical way to do this is permuting only the index of the rows and do that using random hash functions.   \n",
    "In particular we'll use hush functions like: $h(x) = ax+b$ $ mod$ $ c$. \n",
    "We'll evaluate this function on x that is the index of a given row.   \n",
    "$a$ and $b$ will be random number between 0 and the number of rows of X and $c$ is a prime number greater than the number of rows of X.   \n",
    "We'll create a number of this functions equal to the number of permutations we want to compute on the rows of X and for each of them we'll apply the function to all the indeces of the rows."
   ]
  },
  {
   "cell_type": "code",
   "execution_count": 179,
   "metadata": {},
   "outputs": [],
   "source": [
    "# number of hash functions to generate\n",
    "nHash = 20\n",
    "\n",
    "# number of rows of X\n",
    "max_shingle = X.shape[0]\n",
    "\n",
    "# next prime number of max_shingle\n",
    "max_prime = 7639\n",
    "\n",
    "# generating coefficients of the hash functions \n",
    "# you can find the function random_hash in adm4.py\n",
    "a_list = random_hash(nHash,max_shingle)\n",
    "b_list = random_hash(nHash,max_shingle)"
   ]
  },
  {
   "cell_type": "code",
   "execution_count": 180,
   "metadata": {},
   "outputs": [
    {
     "data": {
      "text/plain": [
       "(20, 717241)"
      ]
     },
     "execution_count": 180,
     "metadata": {},
     "output_type": "execute_result"
    }
   ],
   "source": [
    "#initializing the signatures matrix with infinity values \n",
    "signatures = np.ones((nHash,X.shape[1])) * np.inf\n",
    "signatures.shape"
   ]
  },
  {
   "cell_type": "markdown",
   "metadata": {},
   "source": [
    "Computing hash values and minimizing signatures values.   \n",
    "In the next cell we use the function HASH_FUNCTION in order to compute an hush function on a given x. You can find that function in adm4.py."
   ]
  },
  {
   "cell_type": "code",
   "execution_count": 181,
   "metadata": {},
   "outputs": [
    {
     "name": "stderr",
     "output_type": "stream",
     "text": [
      "100%|██████████████████████████████████████████████████████████████████████████████| 7628/7628 [01:58<00:00, 64.48it/s]\n"
     ]
    }
   ],
   "source": [
    "for row in tqdm(range(X.shape[0])):\n",
    "    ones = np.where(X[row]==1)\n",
    "    for index_ones in ones[0]:\n",
    "        for i in range(nHash):\n",
    "                signatures[i][index_ones] = min(hash_function(a_list[i],b_list[i],row,max_prime),signatures[i][index_ones])"
   ]
  },
  {
   "cell_type": "markdown",
   "metadata": {},
   "source": [
    "##### LSH"
   ]
  },
  {
   "cell_type": "markdown",
   "metadata": {},
   "source": [
    "Given the signatures matrix we divide its rows in ***b*** bands each of ***r*** rows.   \n",
    "Then for each band we will map similar pairs customers (they have equals values in that band) in the same bucket."
   ]
  },
  {
   "cell_type": "markdown",
   "metadata": {},
   "source": [
    "We could set different threshold choosing different values for r and b.    \n",
    "Let's say that the threshold t is approximately equals to $(\\frac{1}{b})^{\\frac{1}{r}}$ and this mean that with high probability we'll find candidates with jaccard similarity greater or equal to t."
   ]
  },
  {
   "cell_type": "markdown",
   "metadata": {},
   "source": [
    "We've tested the algorithm with r = 4 and b = 5. In this case we have that t=0.667"
   ]
  },
  {
   "cell_type": "code",
   "execution_count": 182,
   "metadata": {},
   "outputs": [],
   "source": [
    "r = 4\n",
    "b = int(nHash/r)"
   ]
  },
  {
   "cell_type": "markdown",
   "metadata": {},
   "source": [
    "***buckets*** is a dictionary such that its keys are the number of the bands and its values are dictionaries.   \n",
    "For example the dictionary of the first band will have as keys the unique signature values of customers in that band and as values a list with all the indeces of customers that have that signature values.  So that all the customers in the same list should be similar.   \n",
    "So the structure of buckets is like:"
   ]
  },
  {
   "cell_type": "raw",
   "metadata": {},
   "source": [
    "\"buckets\": {\n",
    "\t\"number_of_bucket\": {\n",
    "\t\t\"subsequense_of_uniq_part_of_signatures\": [list of indeces of customers],\n",
    "\t\t...\n",
    "\t},\n",
    "\t...\n",
    "}"
   ]
  },
  {
   "cell_type": "code",
   "execution_count": 183,
   "metadata": {},
   "outputs": [
    {
     "name": "stderr",
     "output_type": "stream",
     "text": [
      "100%|████████████████████████████████████████████████████████████████████████████████████| 5/5 [00:11<00:00,  2.27s/it]\n"
     ]
    }
   ],
   "source": [
    "# setting an empty bucket\n",
    "buckets = {}\n",
    "\n",
    "# for loop for each band\n",
    "for i in tqdm(range(0,signatures.shape[0],r)):\n",
    "    if i%r == 0:\n",
    "        # setting a temporary empty dictionary for the given band \n",
    "        temp_bucket = {}\n",
    "    # for each costumers\n",
    "    for j in range(signatures.shape[1]):\n",
    "        sign = [str(signatures[l][j]) for l in range(i, i+r)]\n",
    "        \n",
    "        if set_signature_combination(sign) in temp_bucket.keys():\n",
    "            temp_bucket[set_signature_combination(sign)].append(j)\n",
    "        else :\n",
    "            temp_bucket[set_signature_combination(sign)] = []\n",
    "            temp_bucket[set_signature_combination(sign)].append(j)\n",
    "    # we assign temp_bucket as a value of buckets\n",
    "    if i%r == 0 :\n",
    "        buckets[str(int(i/r))] = temp_bucket "
   ]
  },
  {
   "cell_type": "markdown",
   "metadata": {},
   "source": [
    "We can see that at the end we have that the length of bucjets is equal to number of the bands:"
   ]
  },
  {
   "cell_type": "code",
   "execution_count": 184,
   "metadata": {},
   "outputs": [
    {
     "name": "stdout",
     "output_type": "stream",
     "text": [
      "5\n"
     ]
    },
    {
     "data": {
      "text/plain": [
       "dict_keys(['0', '1', '2', '3', '4'])"
      ]
     },
     "execution_count": 184,
     "metadata": {},
     "output_type": "execute_result"
    }
   ],
   "source": [
    "print(len(buckets))\n",
    "buckets.keys()"
   ]
  },
  {
   "cell_type": "markdown",
   "metadata": {},
   "source": [
    "## 1.3 Locality Sensitive Hashing"
   ]
  },
  {
   "cell_type": "markdown",
   "metadata": {},
   "source": [
    "Let's now test our algorithm with some Customers.   \n",
    "In order to do this we need to reed the ***query_users.csv*** file:"
   ]
  },
  {
   "cell_type": "code",
   "execution_count": 185,
   "metadata": {},
   "outputs": [],
   "source": [
    "query = pd.read_csv('query_users.csv')"
   ]
  },
  {
   "cell_type": "markdown",
   "metadata": {},
   "source": [
    "Let's have a look at this customers:"
   ]
  },
  {
   "cell_type": "code",
   "execution_count": 186,
   "metadata": {},
   "outputs": [
    {
     "data": {
      "text/html": [
       "<div>\n",
       "<style scoped>\n",
       "    .dataframe tbody tr th:only-of-type {\n",
       "        vertical-align: middle;\n",
       "    }\n",
       "\n",
       "    .dataframe tbody tr th {\n",
       "        vertical-align: top;\n",
       "    }\n",
       "\n",
       "    .dataframe thead th {\n",
       "        text-align: right;\n",
       "    }\n",
       "</style>\n",
       "<table border=\"1\" class=\"dataframe\">\n",
       "  <thead>\n",
       "    <tr style=\"text-align: right;\">\n",
       "      <th></th>\n",
       "      <th>CustomerDOB</th>\n",
       "      <th>CustGender</th>\n",
       "      <th>CustLocation</th>\n",
       "      <th>CustAccountBalance</th>\n",
       "      <th>TransactionDate</th>\n",
       "      <th>TransactionTime</th>\n",
       "      <th>TransactionAmount (INR)</th>\n",
       "    </tr>\n",
       "  </thead>\n",
       "  <tbody>\n",
       "    <tr>\n",
       "      <th>0</th>\n",
       "      <td>27/7/78</td>\n",
       "      <td>M</td>\n",
       "      <td>DELHI</td>\n",
       "      <td>94695.61</td>\n",
       "      <td>2/9/16</td>\n",
       "      <td>140310</td>\n",
       "      <td>65.0</td>\n",
       "    </tr>\n",
       "    <tr>\n",
       "      <th>1</th>\n",
       "      <td>6/11/92</td>\n",
       "      <td>M</td>\n",
       "      <td>PANCHKULA</td>\n",
       "      <td>7584.09</td>\n",
       "      <td>2/9/16</td>\n",
       "      <td>120214</td>\n",
       "      <td>6025.0</td>\n",
       "    </tr>\n",
       "    <tr>\n",
       "      <th>2</th>\n",
       "      <td>14/8/91</td>\n",
       "      <td>M</td>\n",
       "      <td>PATNA</td>\n",
       "      <td>7180.60</td>\n",
       "      <td>10/8/16</td>\n",
       "      <td>221732</td>\n",
       "      <td>541.5</td>\n",
       "    </tr>\n",
       "    <tr>\n",
       "      <th>3</th>\n",
       "      <td>3/1/87</td>\n",
       "      <td>M</td>\n",
       "      <td>CHENNAI</td>\n",
       "      <td>56847.75</td>\n",
       "      <td>29/8/16</td>\n",
       "      <td>144138</td>\n",
       "      <td>1000.0</td>\n",
       "    </tr>\n",
       "    <tr>\n",
       "      <th>4</th>\n",
       "      <td>4/1/95</td>\n",
       "      <td>M</td>\n",
       "      <td>GURGAON</td>\n",
       "      <td>84950.13</td>\n",
       "      <td>25/9/16</td>\n",
       "      <td>233309</td>\n",
       "      <td>80.0</td>\n",
       "    </tr>\n",
       "  </tbody>\n",
       "</table>\n",
       "</div>"
      ],
      "text/plain": [
       "  CustomerDOB CustGender CustLocation  CustAccountBalance TransactionDate  \\\n",
       "0     27/7/78          M        DELHI            94695.61          2/9/16   \n",
       "1     6/11/92          M    PANCHKULA             7584.09          2/9/16   \n",
       "2     14/8/91          M        PATNA             7180.60         10/8/16   \n",
       "3      3/1/87          M      CHENNAI            56847.75         29/8/16   \n",
       "4      4/1/95          M      GURGAON            84950.13         25/9/16   \n",
       "\n",
       "   TransactionTime  TransactionAmount (INR)  \n",
       "0           140310                     65.0  \n",
       "1           120214                   6025.0  \n",
       "2           221732                    541.5  \n",
       "3           144138                   1000.0  \n",
       "4           233309                     80.0  "
      ]
     },
     "execution_count": 186,
     "metadata": {},
     "output_type": "execute_result"
    }
   ],
   "source": [
    "query.head(5)"
   ]
  },
  {
   "cell_type": "markdown",
   "metadata": {},
   "source": [
    "For our algorithm we need just a few of this columns and in particular: ***CustLocation***, ***CustAccountBalance*** and ***TransactionAmount (INR)***."
   ]
  },
  {
   "cell_type": "code",
   "execution_count": 187,
   "metadata": {},
   "outputs": [],
   "source": [
    "query = query[['CustLocation','CustAccountBalance','TransactionAmount (INR)','CustomerDOB']]"
   ]
  },
  {
   "cell_type": "code",
   "execution_count": 188,
   "metadata": {},
   "outputs": [],
   "source": [
    "# dropping nan values since they are useless for our purpose\n",
    "query.dropna(inplace=True)"
   ]
  },
  {
   "cell_type": "markdown",
   "metadata": {},
   "source": [
    "In order to use the algortihm we have to prepare the dataset in the right format."
   ]
  },
  {
   "cell_type": "markdown",
   "metadata": {},
   "source": [
    "First we compute the age of each customer:"
   ]
  },
  {
   "cell_type": "code",
   "execution_count": 189,
   "metadata": {},
   "outputs": [],
   "source": [
    "query.CustomerDOB = pd.to_datetime(query.CustomerDOB)\n",
    "\n",
    "#Create a new column \n",
    "query['CustomerAge'] = (( pd.to_datetime('today') - query.CustomerDOB ) / np.timedelta64(1, 'Y')).round(0)\n",
    "\n",
    "#Change the type of the column as integer\n",
    "query['CustomerAge'] = query['CustomerAge'].astype(int)"
   ]
  },
  {
   "cell_type": "markdown",
   "metadata": {},
   "source": [
    "In order to create the columns ***Class_transaction*** and ***Class_age*** we need the orignal dataset because we want that the length of each classes is equal to the length of the classes of the original dataset.  \n",
    "For this reason when we call the function CLASSES we'll pass at the function also the original dataset data."
   ]
  },
  {
   "cell_type": "markdown",
   "metadata": {},
   "source": [
    "Creating ***Class_transaction*** column for query:"
   ]
  },
  {
   "cell_type": "code",
   "execution_count": 190,
   "metadata": {},
   "outputs": [],
   "source": [
    "query = classes(data,query,\"TransactionAmount (INR)\",\"Class_transaction\",\"Average_transaction_amount\",10)"
   ]
  },
  {
   "cell_type": "markdown",
   "metadata": {},
   "source": [
    "Creating ***Class_age*** column for query:"
   ]
  },
  {
   "cell_type": "code",
   "execution_count": 191,
   "metadata": {},
   "outputs": [],
   "source": [
    "query = classes(data,query,\"CustomerAge\",\"Class_age\",\"CustomerAge\",10)"
   ]
  },
  {
   "cell_type": "markdown",
   "metadata": {},
   "source": [
    "Creating ***Class_income*** column using the same intervals used for the original dataset:"
   ]
  },
  {
   "cell_type": "code",
   "execution_count": 192,
   "metadata": {},
   "outputs": [],
   "source": [
    "query[\"Class_income\"]=0\n",
    "query.loc[(query[\"CustAccountBalance\"] >= 10000) & (query[\"CustAccountBalance\"] < 100000),\"Class_income\"]=1\n",
    "query.loc[(query[\"CustAccountBalance\"] >= 100000) & (query[\"CustAccountBalance\"] < 1000000),\"Class_income\"]=2\n",
    "query.loc[(query[\"CustAccountBalance\"] >= 1000000),\"Class_income\"]=3"
   ]
  },
  {
   "cell_type": "markdown",
   "metadata": {},
   "source": [
    "We can now select just the columns we're interested in:"
   ]
  },
  {
   "cell_type": "code",
   "execution_count": 193,
   "metadata": {},
   "outputs": [],
   "source": [
    "query = query[[\"CustLocation\",\"Class_transaction\", \"Class_age\", \"Class_income\" ]]"
   ]
  },
  {
   "cell_type": "markdown",
   "metadata": {},
   "source": [
    "Have a look at the processed data:"
   ]
  },
  {
   "cell_type": "code",
   "execution_count": 194,
   "metadata": {},
   "outputs": [
    {
     "data": {
      "text/html": [
       "<div>\n",
       "<style scoped>\n",
       "    .dataframe tbody tr th:only-of-type {\n",
       "        vertical-align: middle;\n",
       "    }\n",
       "\n",
       "    .dataframe tbody tr th {\n",
       "        vertical-align: top;\n",
       "    }\n",
       "\n",
       "    .dataframe thead th {\n",
       "        text-align: right;\n",
       "    }\n",
       "</style>\n",
       "<table border=\"1\" class=\"dataframe\">\n",
       "  <thead>\n",
       "    <tr style=\"text-align: right;\">\n",
       "      <th></th>\n",
       "      <th>CustLocation</th>\n",
       "      <th>Class_transaction</th>\n",
       "      <th>Class_age</th>\n",
       "      <th>Class_income</th>\n",
       "    </tr>\n",
       "  </thead>\n",
       "  <tbody>\n",
       "    <tr>\n",
       "      <th>0</th>\n",
       "      <td>DELHI</td>\n",
       "      <td>1_Class_transaction</td>\n",
       "      <td>3_Class_age</td>\n",
       "      <td>1</td>\n",
       "    </tr>\n",
       "    <tr>\n",
       "      <th>1</th>\n",
       "      <td>PANCHKULA</td>\n",
       "      <td>1_Class_transaction</td>\n",
       "      <td>1_Class_age</td>\n",
       "      <td>0</td>\n",
       "    </tr>\n",
       "    <tr>\n",
       "      <th>2</th>\n",
       "      <td>PATNA</td>\n",
       "      <td>1_Class_transaction</td>\n",
       "      <td>1_Class_age</td>\n",
       "      <td>0</td>\n",
       "    </tr>\n",
       "    <tr>\n",
       "      <th>3</th>\n",
       "      <td>CHENNAI</td>\n",
       "      <td>1_Class_transaction</td>\n",
       "      <td>2_Class_age</td>\n",
       "      <td>1</td>\n",
       "    </tr>\n",
       "    <tr>\n",
       "      <th>4</th>\n",
       "      <td>GURGAON</td>\n",
       "      <td>1_Class_transaction</td>\n",
       "      <td>1_Class_age</td>\n",
       "      <td>1</td>\n",
       "    </tr>\n",
       "  </tbody>\n",
       "</table>\n",
       "</div>"
      ],
      "text/plain": [
       "  CustLocation    Class_transaction    Class_age  Class_income\n",
       "0        DELHI  1_Class_transaction  3_Class_age             1\n",
       "1    PANCHKULA  1_Class_transaction  1_Class_age             0\n",
       "2        PATNA  1_Class_transaction  1_Class_age             0\n",
       "3      CHENNAI  1_Class_transaction  2_Class_age             1\n",
       "4      GURGAON  1_Class_transaction  1_Class_age             1"
      ]
     },
     "execution_count": 194,
     "metadata": {},
     "output_type": "execute_result"
    }
   ],
   "source": [
    "query.head(5)"
   ]
  },
  {
   "cell_type": "markdown",
   "metadata": {},
   "source": [
    "In order to find the similar customers to the ones in the query we need to compute again: \n",
    "- starting matrix ***X_query***\n",
    "- signatures matrix ***signatures_query*** \n",
    "\n",
    "We will use the exactly same hush functions as before and the rows of X_query will be ordered in the same way of X."
   ]
  },
  {
   "cell_type": "code",
   "execution_count": 195,
   "metadata": {},
   "outputs": [
    {
     "name": "stdout",
     "output_type": "stream",
     "text": [
      "(7628, 50)\n"
     ]
    }
   ],
   "source": [
    "# Setting an empy list in which we can store a sublist for each customer with all his corresponding values\n",
    "X_query = []\n",
    "for i in query.index:\n",
    "    X_query.append([str(query['CustLocation'][i]),str(query['Class_income'][i]),str(query['Class_transaction'][i]),str(query['Class_age'][i])])\n",
    "\n",
    "# transform X in a numpay array\n",
    "X_query = np.array(X_query)\n",
    "\n",
    "# computing the starting matrix using the same transformer as before\n",
    "X_query = enc.transform(X_query).toarray()\n",
    "\n",
    "# computing the transpose of X_query\n",
    "X_query = np.transpose(X_query, axes=None)\n",
    "\n",
    "# have a look at the shape\n",
    "print(X_query.shape)\n"
   ]
  },
  {
   "cell_type": "code",
   "execution_count": 196,
   "metadata": {},
   "outputs": [
    {
     "name": "stderr",
     "output_type": "stream",
     "text": [
      "100%|██████████████████████████████████████████████████████████████████████████| 7628/7628 [00:00<00:00, 223332.39it/s]\n"
     ]
    },
    {
     "data": {
      "text/plain": [
       "(20, 50)"
      ]
     },
     "execution_count": 196,
     "metadata": {},
     "output_type": "execute_result"
    }
   ],
   "source": [
    "# computing signatures matrix\n",
    "\n",
    "signatures_query = np.ones((nHash,X_query.shape[1])) * np.inf\n",
    "\n",
    "for row in tqdm(range(X_query.shape[0])):\n",
    "    ones = np.where(X_query[row]==1)\n",
    "    for index_ones in ones[0]:\n",
    "        for i in range(nHash):\n",
    "                signatures_query[i][index_ones] = min(hash_function(a_list[i],b_list[i],row,max_prime),signatures_query[i][index_ones])\n",
    "\n",
    "# have a look at the shape\n",
    "signatures_query.shape"
   ]
  },
  {
   "cell_type": "markdown",
   "metadata": {},
   "source": [
    "As before we divide the signatures matrix in b bands of r rows each.   \n",
    "For each customer in the query we find all its similar customers of the orginal dataset and we collect all their indeces in a list.   \n",
    "***similar_query*** will be a list of 50 values such that each of them is a list containg all similar customers to a query customer."
   ]
  },
  {
   "cell_type": "code",
   "execution_count": 197,
   "metadata": {},
   "outputs": [
    {
     "name": "stderr",
     "output_type": "stream",
     "text": [
      "100%|█████████████████████████████████████████████████████████████████████████████████| 50/50 [00:00<00:00, 597.92it/s]\n"
     ]
    }
   ],
   "source": [
    "similar_query = []\n",
    "for j in tqdm(range(signatures_query.shape[1])):\n",
    "    similar = set()\n",
    "    for i in range(0,signatures_query.shape[0],r):\n",
    "        temp_bucket = buckets[str(int(i%r))]\n",
    "        sign = [str(signatures_query[l][j]) for l in range(i, i+r)]\n",
    "            \n",
    "        if set_signature_combination(sign) in temp_bucket.keys():\n",
    "                similar.update(temp_bucket[set_signature_combination(sign)])\n",
    "        else :\n",
    "            continue\n",
    "    similar_query.append(list(similar))     "
   ]
  },
  {
   "cell_type": "markdown",
   "metadata": {},
   "source": [
    "Now for each query customers we'll compute the jaccard similarity with all its similar customers we've found and we'll create a new column ***Scores*** that will represent the maximum jaccard similarity.   \n",
    "Since we are working with just 4 features there will be with a high probability at least one query customer that has an equal customer in the original dataset.   \n",
    "So our idea is to find for each query cutomer that has a score equals to 1 the number of times we have a jaccard similarity equals to 1 with its similar.  \n",
    "Then we'll create a new column called ***Percentage_of_equals*** in which we'll store the precentage of equals we've found to that customer between its similar."
   ]
  },
  {
   "cell_type": "code",
   "execution_count": 198,
   "metadata": {},
   "outputs": [],
   "source": [
    "scores = []\n",
    "number_of_equal = []"
   ]
  },
  {
   "cell_type": "markdown",
   "metadata": {},
   "source": [
    "In the nex cell we use the function JACCARD_SIM that computes the jaccard similarity between two given customers. You can find that function in adm4.py."
   ]
  },
  {
   "cell_type": "code",
   "execution_count": 199,
   "metadata": {},
   "outputs": [
    {
     "name": "stderr",
     "output_type": "stream",
     "text": [
      "100%|██████████████████████████████████████████████████████████████████████████████████| 50/50 [00:23<00:00,  2.14it/s]\n"
     ]
    }
   ],
   "source": [
    "for i in tqdm(range(len(similar_query))):\n",
    "    count = 0\n",
    "    if similar_query[i] != []:\n",
    "        similar = similar_query[i]\n",
    "        max_jaccard = 0\n",
    "        for j in range(len(similar)):\n",
    "            jaccard = jaccard_sim(similar[j],query,i,df)\n",
    "            if jaccard == 1.0:\n",
    "                count += 1\n",
    "            if jaccard>max_jaccard:\n",
    "                max_jaccard = jaccard\n",
    "    else:\n",
    "        scores.append(0)\n",
    "        number_of_equal.append(0)\n",
    "        continue\n",
    "    \n",
    "    \n",
    "    number_of_equal.append(count)\n",
    "    scores.append(max_jaccard)"
   ]
  },
  {
   "cell_type": "markdown",
   "metadata": {},
   "source": [
    "Have a look at the unique values of scores we've found:"
   ]
  },
  {
   "cell_type": "code",
   "execution_count": 200,
   "metadata": {},
   "outputs": [
    {
     "name": "stdout",
     "output_type": "stream",
     "text": [
      "{0.6, 1.0, 0}\n"
     ]
    }
   ],
   "source": [
    "print(set(scores))"
   ]
  },
  {
   "cell_type": "markdown",
   "metadata": {},
   "source": [
    "Adding the two new columns:"
   ]
  },
  {
   "cell_type": "code",
   "execution_count": 201,
   "metadata": {},
   "outputs": [],
   "source": [
    "query = query.assign(Scores = scores)\n",
    "number_of_equal = [(i/df.shape[0])*100 for i in number_of_equal]\n",
    "query = query.assign(Percentage_of_equals = number_of_equal)"
   ]
  },
  {
   "cell_type": "markdown",
   "metadata": {},
   "source": [
    "We can now select just the query customers with score equals to 1 and sort the new dataframe by ***Percentage_of_equals***."
   ]
  },
  {
   "cell_type": "code",
   "execution_count": 202,
   "metadata": {},
   "outputs": [],
   "source": [
    "final_query = query.loc[query['Scores']==1.0]\n",
    "final_query = final_query.sort_values(by = 'Percentage_of_equals', ascending = False)"
   ]
  },
  {
   "cell_type": "markdown",
   "metadata": {},
   "source": [
    "Final output for b = 5, r = 4"
   ]
  },
  {
   "cell_type": "code",
   "execution_count": 203,
   "metadata": {},
   "outputs": [
    {
     "data": {
      "text/html": [
       "<div>\n",
       "<style scoped>\n",
       "    .dataframe tbody tr th:only-of-type {\n",
       "        vertical-align: middle;\n",
       "    }\n",
       "\n",
       "    .dataframe tbody tr th {\n",
       "        vertical-align: top;\n",
       "    }\n",
       "\n",
       "    .dataframe thead th {\n",
       "        text-align: right;\n",
       "    }\n",
       "</style>\n",
       "<table border=\"1\" class=\"dataframe\">\n",
       "  <thead>\n",
       "    <tr style=\"text-align: right;\">\n",
       "      <th></th>\n",
       "      <th>CustLocation</th>\n",
       "      <th>Class_transaction</th>\n",
       "      <th>Class_age</th>\n",
       "      <th>Class_income</th>\n",
       "      <th>Scores</th>\n",
       "      <th>Percentage_of_equals</th>\n",
       "    </tr>\n",
       "  </thead>\n",
       "  <tbody>\n",
       "    <tr>\n",
       "      <th>27</th>\n",
       "      <td>MUMBAI</td>\n",
       "      <td>1_Class_transaction</td>\n",
       "      <td>2_Class_age</td>\n",
       "      <td>1</td>\n",
       "      <td>1.0</td>\n",
       "      <td>2.495256</td>\n",
       "    </tr>\n",
       "    <tr>\n",
       "      <th>38</th>\n",
       "      <td>NEW DELHI</td>\n",
       "      <td>1_Class_transaction</td>\n",
       "      <td>2_Class_age</td>\n",
       "      <td>1</td>\n",
       "      <td>1.0</td>\n",
       "      <td>2.092463</td>\n",
       "    </tr>\n",
       "    <tr>\n",
       "      <th>49</th>\n",
       "      <td>DELHI</td>\n",
       "      <td>1_Class_transaction</td>\n",
       "      <td>2_Class_age</td>\n",
       "      <td>1</td>\n",
       "      <td>1.0</td>\n",
       "      <td>1.651328</td>\n",
       "    </tr>\n",
       "    <tr>\n",
       "      <th>11</th>\n",
       "      <td>BANGALORE</td>\n",
       "      <td>1_Class_transaction</td>\n",
       "      <td>2_Class_age</td>\n",
       "      <td>0</td>\n",
       "      <td>1.0</td>\n",
       "      <td>1.624837</td>\n",
       "    </tr>\n",
       "    <tr>\n",
       "      <th>10</th>\n",
       "      <td>BANGALORE</td>\n",
       "      <td>1_Class_transaction</td>\n",
       "      <td>2_Class_age</td>\n",
       "      <td>0</td>\n",
       "      <td>1.0</td>\n",
       "      <td>1.624837</td>\n",
       "    </tr>\n",
       "    <tr>\n",
       "      <th>37</th>\n",
       "      <td>BANGALORE</td>\n",
       "      <td>1_Class_transaction</td>\n",
       "      <td>2_Class_age</td>\n",
       "      <td>0</td>\n",
       "      <td>1.0</td>\n",
       "      <td>1.624837</td>\n",
       "    </tr>\n",
       "    <tr>\n",
       "      <th>43</th>\n",
       "      <td>NEW DELHI</td>\n",
       "      <td>1_Class_transaction</td>\n",
       "      <td>2_Class_age</td>\n",
       "      <td>0</td>\n",
       "      <td>1.0</td>\n",
       "      <td>1.316294</td>\n",
       "    </tr>\n",
       "    <tr>\n",
       "      <th>16</th>\n",
       "      <td>MUMBAI</td>\n",
       "      <td>1_Class_transaction</td>\n",
       "      <td>1_Class_age</td>\n",
       "      <td>0</td>\n",
       "      <td>1.0</td>\n",
       "      <td>0.964669</td>\n",
       "    </tr>\n",
       "    <tr>\n",
       "      <th>36</th>\n",
       "      <td>NEW DELHI</td>\n",
       "      <td>1_Class_transaction</td>\n",
       "      <td>2_Class_age</td>\n",
       "      <td>2</td>\n",
       "      <td>1.0</td>\n",
       "      <td>0.765851</td>\n",
       "    </tr>\n",
       "    <tr>\n",
       "      <th>33</th>\n",
       "      <td>NEW DELHI</td>\n",
       "      <td>1_Class_transaction</td>\n",
       "      <td>2_Class_age</td>\n",
       "      <td>2</td>\n",
       "      <td>1.0</td>\n",
       "      <td>0.765851</td>\n",
       "    </tr>\n",
       "  </tbody>\n",
       "</table>\n",
       "</div>"
      ],
      "text/plain": [
       "   CustLocation    Class_transaction    Class_age  Class_income  Scores  \\\n",
       "27       MUMBAI  1_Class_transaction  2_Class_age             1     1.0   \n",
       "38    NEW DELHI  1_Class_transaction  2_Class_age             1     1.0   \n",
       "49        DELHI  1_Class_transaction  2_Class_age             1     1.0   \n",
       "11    BANGALORE  1_Class_transaction  2_Class_age             0     1.0   \n",
       "10    BANGALORE  1_Class_transaction  2_Class_age             0     1.0   \n",
       "37    BANGALORE  1_Class_transaction  2_Class_age             0     1.0   \n",
       "43    NEW DELHI  1_Class_transaction  2_Class_age             0     1.0   \n",
       "16       MUMBAI  1_Class_transaction  1_Class_age             0     1.0   \n",
       "36    NEW DELHI  1_Class_transaction  2_Class_age             2     1.0   \n",
       "33    NEW DELHI  1_Class_transaction  2_Class_age             2     1.0   \n",
       "\n",
       "    Percentage_of_equals  \n",
       "27              2.495256  \n",
       "38              2.092463  \n",
       "49              1.651328  \n",
       "11              1.624837  \n",
       "10              1.624837  \n",
       "37              1.624837  \n",
       "43              1.316294  \n",
       "16              0.964669  \n",
       "36              0.765851  \n",
       "33              0.765851  "
      ]
     },
     "execution_count": 203,
     "metadata": {},
     "output_type": "execute_result"
    }
   ],
   "source": [
    "final_query.head(10)"
   ]
  },
  {
   "cell_type": "markdown",
   "metadata": {},
   "source": [
    "As we can see we've found that in the query (with categorical variables) there are different customers that have at least 1 customer in the dataset that is equal.   \n",
    "We expected this result since we looked for similarity using only 4 variables and since the original dataset contains a lot of customers.  \n",
    "But we can even notice that the customer 28 (since indeces start from 0) is the one with more equal customers in the dataset so for how we've looked for similarity we can say that it is the most similar one."
   ]
  },
  {
   "cell_type": "markdown",
   "metadata": {},
   "source": [
    "This mean that in the original dataset the most frequent customer has features as:   \n",
    "- most frequent location = Mumbai\n",
    "- average transaction between 0 and 312006\n",
    "- age between 20 and 30\n",
    "- balance between  10000 and 100000"
   ]
  },
  {
   "cell_type": "markdown",
   "id": "55376417-4223-4c41-8738-1444a31f3952",
   "metadata": {
    "jp-MarkdownHeadingCollapsed": true,
    "tags": []
   },
   "source": [
    "# 2.1 Getting your data + feature engineering"
   ]
  },
  {
   "cell_type": "code",
   "execution_count": 15,
   "id": "cb47dfdc-1362-4851-ab16-827bc5afcba2",
   "metadata": {},
   "outputs": [],
   "source": [
    "import pandas as pd\n",
    "from datetime import datetime\n",
    "import numpy as np\n",
    "from scipy import stats\n",
    "from collections import Counter\n",
    "pd.options.mode.chained_assignment = None  # default='warn'\n",
    "\n",
    "df=pd.read_csv(\"bank_transactions.csv\")\n",
    "inizio=pd.to_datetime('today')"
   ]
  },
  {
   "cell_type": "code",
   "execution_count": 16,
   "id": "0a242992-976d-47e4-a562-1ec4db1198f1",
   "metadata": {},
   "outputs": [
    {
     "name": "stdout",
     "output_type": "stream",
     "text": [
      "<class 'pandas.core.frame.DataFrame'>\n",
      "RangeIndex: 1048567 entries, 0 to 1048566\n",
      "Data columns (total 9 columns):\n",
      " #   Column                   Non-Null Count    Dtype  \n",
      "---  ------                   --------------    -----  \n",
      " 0   TransactionID            1048567 non-null  object \n",
      " 1   CustomerID               1048567 non-null  object \n",
      " 2   CustomerDOB              1045170 non-null  object \n",
      " 3   CustGender               1047467 non-null  object \n",
      " 4   CustLocation             1048416 non-null  object \n",
      " 5   CustAccountBalance       1046198 non-null  float64\n",
      " 6   TransactionDate          1048567 non-null  object \n",
      " 7   TransactionTime          1048567 non-null  int64  \n",
      " 8   TransactionAmount (INR)  1048567 non-null  float64\n",
      "dtypes: float64(2), int64(1), object(6)\n",
      "memory usage: 72.0+ MB\n"
     ]
    }
   ],
   "source": [
    "df.info() "
   ]
  },
  {
   "cell_type": "markdown",
   "id": "63ba6418-22df-449f-8457-67de7014f1b1",
   "metadata": {
    "tags": []
   },
   "source": [
    "## Na analysis"
   ]
  },
  {
   "cell_type": "code",
   "execution_count": 17,
   "id": "5f79f698-ad09-47a2-9efe-c686b15c440c",
   "metadata": {},
   "outputs": [
    {
     "data": {
      "text/plain": [
       "(1048567, 9)"
      ]
     },
     "execution_count": 17,
     "metadata": {},
     "output_type": "execute_result"
    }
   ],
   "source": [
    "df.shape"
   ]
  },
  {
   "cell_type": "code",
   "execution_count": 18,
   "id": "94e0fca6-0466-48ca-99bf-ea562dc02ea8",
   "metadata": {},
   "outputs": [
    {
     "data": {
      "text/plain": [
       "TransactionID                 0\n",
       "CustomerID                    0\n",
       "CustomerDOB                3397\n",
       "CustGender                 1100\n",
       "CustLocation                151\n",
       "CustAccountBalance         2369\n",
       "TransactionDate               0\n",
       "TransactionTime               0\n",
       "TransactionAmount (INR)       0\n",
       "dtype: int64"
      ]
     },
     "execution_count": 18,
     "metadata": {},
     "output_type": "execute_result"
    }
   ],
   "source": [
    "df.isna().sum()"
   ]
  },
  {
   "cell_type": "markdown",
   "id": "d5113a3f-7c14-40f2-9ebd-08cf2051d6d7",
   "metadata": {},
   "source": [
    "Since we have to create new variables starting with the ones that we have, we think that rows with NA values\n",
    "are useless.\n",
    "Also we can notice that rows which contain NA values are in a small number compared to the shape of the dataframe.\n",
    "According to these  we delete them."
   ]
  },
  {
   "cell_type": "code",
   "execution_count": 19,
   "id": "79f4c334-f329-4cd4-a51e-26d71fb20bab",
   "metadata": {},
   "outputs": [
    {
     "data": {
      "text/plain": [
       "(1041614, 9)"
      ]
     },
     "execution_count": 19,
     "metadata": {},
     "output_type": "execute_result"
    }
   ],
   "source": [
    "df.dropna(inplace=True)\n",
    "df.shape"
   ]
  },
  {
   "cell_type": "markdown",
   "id": "9ff51e10-7372-4714-b4ea-9a59abf3288a",
   "metadata": {
    "tags": []
   },
   "source": [
    "## Change the data type"
   ]
  },
  {
   "cell_type": "code",
   "execution_count": 20,
   "id": "68444649-41dd-48fb-af31-cb928b2dd950",
   "metadata": {},
   "outputs": [
    {
     "data": {
      "text/html": [
       "<div>\n",
       "<style scoped>\n",
       "    .dataframe tbody tr th:only-of-type {\n",
       "        vertical-align: middle;\n",
       "    }\n",
       "\n",
       "    .dataframe tbody tr th {\n",
       "        vertical-align: top;\n",
       "    }\n",
       "\n",
       "    .dataframe thead th {\n",
       "        text-align: right;\n",
       "    }\n",
       "</style>\n",
       "<table border=\"1\" class=\"dataframe\">\n",
       "  <thead>\n",
       "    <tr style=\"text-align: right;\">\n",
       "      <th></th>\n",
       "      <th>CustomerDOB</th>\n",
       "      <th>TransactionDate</th>\n",
       "      <th>TransactionTime</th>\n",
       "    </tr>\n",
       "  </thead>\n",
       "  <tbody>\n",
       "    <tr>\n",
       "      <th>0</th>\n",
       "      <td>10/1/94</td>\n",
       "      <td>2/8/16</td>\n",
       "      <td>143207</td>\n",
       "    </tr>\n",
       "  </tbody>\n",
       "</table>\n",
       "</div>"
      ],
      "text/plain": [
       "  CustomerDOB TransactionDate  TransactionTime\n",
       "0     10/1/94          2/8/16           143207"
      ]
     },
     "execution_count": 20,
     "metadata": {},
     "output_type": "execute_result"
    }
   ],
   "source": [
    "df[[\"CustomerDOB\",\"TransactionDate\",\"TransactionTime\"]].head(1)"
   ]
  },
  {
   "cell_type": "markdown",
   "id": "8c98ca53-f947-4282-a996-7ef0f379d311",
   "metadata": {},
   "source": [
    "Since there are variables with date and times not in the proper format we will change the type of those variables."
   ]
  },
  {
   "cell_type": "code",
   "execution_count": 21,
   "id": "639c94ad-0290-41a6-acfa-cfc9f5329ee2",
   "metadata": {},
   "outputs": [],
   "source": [
    "df.CustomerDOB=pd.to_datetime(df.CustomerDOB)\n",
    "df.TransactionDate=pd.to_datetime(df.TransactionDate)"
   ]
  },
  {
   "cell_type": "code",
   "execution_count": 22,
   "id": "de0ed4cd-391c-4d19-b9e2-01c2b8acabad",
   "metadata": {},
   "outputs": [
    {
     "data": {
      "text/html": [
       "<div>\n",
       "<style scoped>\n",
       "    .dataframe tbody tr th:only-of-type {\n",
       "        vertical-align: middle;\n",
       "    }\n",
       "\n",
       "    .dataframe tbody tr th {\n",
       "        vertical-align: top;\n",
       "    }\n",
       "\n",
       "    .dataframe thead th {\n",
       "        text-align: right;\n",
       "    }\n",
       "</style>\n",
       "<table border=\"1\" class=\"dataframe\">\n",
       "  <thead>\n",
       "    <tr style=\"text-align: right;\">\n",
       "      <th></th>\n",
       "      <th>CustomerDOB</th>\n",
       "      <th>TransactionDate</th>\n",
       "    </tr>\n",
       "  </thead>\n",
       "  <tbody>\n",
       "    <tr>\n",
       "      <th>0</th>\n",
       "      <td>1994-10-01</td>\n",
       "      <td>2016-02-08</td>\n",
       "    </tr>\n",
       "  </tbody>\n",
       "</table>\n",
       "</div>"
      ],
      "text/plain": [
       "  CustomerDOB TransactionDate\n",
       "0  1994-10-01      2016-02-08"
      ]
     },
     "execution_count": 22,
     "metadata": {},
     "output_type": "execute_result"
    }
   ],
   "source": [
    "df[[\"CustomerDOB\",\"TransactionDate\"]].head(1)"
   ]
  },
  {
   "cell_type": "code",
   "execution_count": 23,
   "id": "f92e4e9c-7556-43df-834a-4aa603b152b9",
   "metadata": {},
   "outputs": [],
   "source": [
    "df.TransactionTime = df.TransactionTime.apply(lambda x: datetime.strptime(str(x).zfill(6), '%H%M%S').time())"
   ]
  },
  {
   "cell_type": "markdown",
   "id": "d7f4acca-d5b7-46b7-9ff2-2f53487f1928",
   "metadata": {},
   "source": [
    "Now the time variables seems to be correct."
   ]
  },
  {
   "cell_type": "code",
   "execution_count": 24,
   "id": "a0726c58-4f55-449f-9d0e-0d24a389d996",
   "metadata": {},
   "outputs": [
    {
     "data": {
      "text/html": [
       "<div>\n",
       "<style scoped>\n",
       "    .dataframe tbody tr th:only-of-type {\n",
       "        vertical-align: middle;\n",
       "    }\n",
       "\n",
       "    .dataframe tbody tr th {\n",
       "        vertical-align: top;\n",
       "    }\n",
       "\n",
       "    .dataframe thead th {\n",
       "        text-align: right;\n",
       "    }\n",
       "</style>\n",
       "<table border=\"1\" class=\"dataframe\">\n",
       "  <thead>\n",
       "    <tr style=\"text-align: right;\">\n",
       "      <th></th>\n",
       "      <th>CustomerDOB</th>\n",
       "      <th>TransactionDate</th>\n",
       "      <th>TransactionTime</th>\n",
       "    </tr>\n",
       "  </thead>\n",
       "  <tbody>\n",
       "    <tr>\n",
       "      <th>0</th>\n",
       "      <td>1994-10-01</td>\n",
       "      <td>2016-02-08</td>\n",
       "      <td>14:32:07</td>\n",
       "    </tr>\n",
       "  </tbody>\n",
       "</table>\n",
       "</div>"
      ],
      "text/plain": [
       "  CustomerDOB TransactionDate TransactionTime\n",
       "0  1994-10-01      2016-02-08        14:32:07"
      ]
     },
     "execution_count": 24,
     "metadata": {},
     "output_type": "execute_result"
    }
   ],
   "source": [
    "df[[\"CustomerDOB\",\"TransactionDate\",\"TransactionTime\"]].head(1)"
   ]
  },
  {
   "cell_type": "markdown",
   "id": "ec29359b-e4ca-4d23-bb53-a72fa34e4398",
   "metadata": {
    "tags": []
   },
   "source": [
    "## Delete costumer that results born in 1800"
   ]
  },
  {
   "cell_type": "code",
   "execution_count": 25,
   "id": "8bcc857c-7bae-4ec7-9dcb-1c7f24d986a0",
   "metadata": {},
   "outputs": [
    {
     "data": {
      "text/plain": [
       "(985322, 9)"
      ]
     },
     "execution_count": 25,
     "metadata": {},
     "output_type": "execute_result"
    }
   ],
   "source": [
    "df.drop(df[df.CustomerDOB.dt.year == 1800].index, axis=0, inplace=True)\n",
    "df.shape"
   ]
  },
  {
   "cell_type": "markdown",
   "id": "dba38f77-5389-4ed6-8add-bdbd06275984",
   "metadata": {},
   "source": [
    "There was 56292 transactions belonging to customer born in 1800, or registered by error born in 1800."
   ]
  },
  {
   "cell_type": "markdown",
   "id": "5c849cbf-9620-4b3b-9eb9-3ecc468c9b8d",
   "metadata": {},
   "source": [
    "### Fixing the millenium bug"
   ]
  },
  {
   "cell_type": "code",
   "execution_count": 26,
   "id": "9b7be5e6-b235-4588-a327-12013fd24460",
   "metadata": {},
   "outputs": [],
   "source": [
    "df.loc[df.CustomerDOB.dt.year > 2000, 'CustomerDOB'] = df.loc[df.CustomerDOB.dt.year > 2000, 'CustomerDOB'] - pd.DateOffset(years = 100)"
   ]
  },
  {
   "cell_type": "markdown",
   "id": "4ce0c833-4eab-4633-83ac-98531f7b354e",
   "metadata": {
    "jp-MarkdownHeadingCollapsed": true,
    "tags": []
   },
   "source": [
    "### Create new variables\n"
   ]
  },
  {
   "cell_type": "markdown",
   "id": "b3248c27-1817-4b73-a256-6301b700b56d",
   "metadata": {},
   "source": [
    "## Grouping by customer ID\n",
    "Each row will be a different client.\n",
    "There are some issue with gender's variable so we are escluding it for now."
   ]
  },
  {
   "cell_type": "code",
   "execution_count": 139,
   "id": "c43e4537-e030-4bf6-959c-786c4b732627",
   "metadata": {},
   "outputs": [
    {
     "data": {
      "text/plain": [
       "(839081, 1)"
      ]
     },
     "execution_count": 139,
     "metadata": {},
     "output_type": "execute_result"
    }
   ],
   "source": [
    "customer=df.groupby(\"CustomerID\").sum()\n",
    "customer=customer.rename(columns={\"TransactionAmount (INR)\":\"TOT TransactionAmount (INR)\"})\n",
    "customer.drop(columns=[\"CustAccountBalance\"],inplace=True)\n",
    "customer.shape"
   ]
  },
  {
   "cell_type": "markdown",
   "id": "bcbc7aec-002d-45aa-bda3-d884653a945a",
   "metadata": {},
   "source": [
    "We have deleted because is a features that must not be summed."
   ]
  },
  {
   "cell_type": "markdown",
   "id": "6b91ce25-b338-47db-a200-3a9081900ec5",
   "metadata": {},
   "source": [
    "### Create  \"Number of transactions\""
   ]
  },
  {
   "cell_type": "code",
   "execution_count": 140,
   "id": "38f8bbbd-95ed-448b-9f4d-eb889f7851a0",
   "metadata": {},
   "outputs": [
    {
     "data": {
      "text/plain": [
       "(839081, 2)"
      ]
     },
     "execution_count": 140,
     "metadata": {},
     "output_type": "execute_result"
    }
   ],
   "source": [
    "number_transaction=pd.DataFrame(df.groupby(\"CustomerID\").count().TransactionID)\n",
    "number_transaction=number_transaction.rename(columns={\"TransactionID\":\"Number_of_transaction\"})\n",
    "customer=pd.merge(customer,number_transaction,on=\"CustomerID\")\n",
    "customer.shape"
   ]
  },
  {
   "cell_type": "markdown",
   "id": "ae4e3979-5b44-4889-96de-344a6b62e44f",
   "metadata": {},
   "source": [
    "### Create  \"Number of transactions\" bigger than 100 USD"
   ]
  },
  {
   "cell_type": "code",
   "execution_count": 141,
   "id": "4b928b5a-f059-4104-be55-a3d330e96141",
   "metadata": {},
   "outputs": [
    {
     "data": {
      "text/plain": [
       "(839081, 3)"
      ]
     },
     "execution_count": 141,
     "metadata": {},
     "output_type": "execute_result"
    }
   ],
   "source": [
    "number_transaction=pd.DataFrame(df[df[\"TransactionAmount (INR)\"]> 100].groupby(\"CustomerID\").count().TransactionID)\n",
    "number_transaction=number_transaction.rename(columns={\"TransactionID\":\"Number_of_transaction_100\"})\n",
    "customer=pd.merge(customer,number_transaction,on=\"CustomerID\", how='left')\n",
    "\n",
    "#Put 0 instead of NaN\n",
    "customer.Number_of_transaction_100=customer.Number_of_transaction_100.fillna(0)\n",
    "customer.shape"
   ]
  },
  {
   "cell_type": "markdown",
   "id": "f61718c7-ec6e-4ef5-af6d-eec058cae41a",
   "metadata": {},
   "source": [
    "### Average of the transactions"
   ]
  },
  {
   "cell_type": "code",
   "execution_count": 142,
   "id": "da38f03c-79f9-4703-b4e0-0ab5d50c9378",
   "metadata": {},
   "outputs": [
    {
     "data": {
      "text/plain": [
       "(839081, 4)"
      ]
     },
     "execution_count": 142,
     "metadata": {},
     "output_type": "execute_result"
    }
   ],
   "source": [
    "means=pd.DataFrame(df.groupby(\"CustomerID\")[\"TransactionAmount (INR)\"].mean())\n",
    "means=means.rename(columns={\"TransactionAmount (INR)\":\"Average_transaction_amount\"})\n",
    "customer=pd.merge(customer,means,on=\"CustomerID\")\n",
    "customer.shape"
   ]
  },
  {
   "cell_type": "markdown",
   "id": "9705cda2-3e94-4d66-a7d2-a42cbf36ebda",
   "metadata": {},
   "source": [
    "### Average balance"
   ]
  },
  {
   "cell_type": "code",
   "execution_count": 143,
   "id": "b03ff6c0-99ff-4fd6-af38-ce3edf7812f3",
   "metadata": {},
   "outputs": [
    {
     "data": {
      "text/plain": [
       "(839081, 5)"
      ]
     },
     "execution_count": 143,
     "metadata": {},
     "output_type": "execute_result"
    }
   ],
   "source": [
    "average=pd.DataFrame(df.groupby(\"CustomerID\")[\"CustAccountBalance\"].mean())\n",
    "average=average.rename(columns={\"CustAccountBalance\":\"Average_amount_balance\"})\n",
    "customer=pd.merge(customer,average,on=\"CustomerID\")\n",
    "customer.shape"
   ]
  },
  {
   "cell_type": "markdown",
   "id": "7cb258fd-7a8a-4875-800f-c50dee00e9a9",
   "metadata": {
    "tags": []
   },
   "source": [
    "### Utilisation \n",
    "Average difference between the balance and the transaction amount for each customer (this is mainly known in the banking world as utilisation)."
   ]
  },
  {
   "cell_type": "code",
   "execution_count": 144,
   "id": "2bdd3172-cd1e-40c6-a201-aeb2e76312eb",
   "metadata": {},
   "outputs": [
    {
     "data": {
      "text/plain": [
       "(839081, 6)"
      ]
     },
     "execution_count": 144,
     "metadata": {},
     "output_type": "execute_result"
    }
   ],
   "source": [
    "df['Utilisation'] = df['CustAccountBalance'] - df['TransactionAmount (INR)']\n",
    "\n",
    "average=pd.DataFrame(df.groupby(\"CustomerID\")['Utilisation'].mean())\n",
    "average=average.rename(columns={\"Utilisation\":\"Average_Utilisation\"})\n",
    "customer=pd.merge(customer,average,on=\"CustomerID\")\n",
    "customer.shape"
   ]
  },
  {
   "cell_type": "markdown",
   "id": "4ac65f29-8e14-435b-8193-55764ca791db",
   "metadata": {},
   "source": [
    "### Gender of the customer"
   ]
  },
  {
   "cell_type": "code",
   "execution_count": 145,
   "id": "73b8020a-036b-4806-8084-d47bc407865b",
   "metadata": {},
   "outputs": [
    {
     "data": {
      "text/plain": [
       "(839081, 8)"
      ]
     },
     "execution_count": 145,
     "metadata": {},
     "output_type": "execute_result"
    }
   ],
   "source": [
    "def different_gender(x):\n",
    "    \n",
    "    lista=list(x)\n",
    "    \n",
    "    if lista.count(\"M\")==len(lista):\n",
    "        return \"M\"\n",
    "    elif lista.count(\"F\")==len(lista):\n",
    "        return \"F\"\n",
    "    else:\n",
    "        return \"FM\"\n",
    "    \n",
    "data=df[[\"CustomerID\",\"CustGender\"]]\n",
    "\n",
    "#Create a new variable\n",
    "data[\"Account_gender\"]=data.groupby('CustomerID')[\"CustGender\"].transform(lambda x: different_gender(x))\n",
    "\n",
    "#We drop duplicates keeping the last value (the most recent)\n",
    "data=data.drop_duplicates(subset=[\"CustomerID\"])\n",
    "\n",
    "\n",
    "#Merging\n",
    "customer=pd.merge(customer,data[[\"CustomerID\",\"Account_gender\"]],on=\"CustomerID\")\n",
    "customer.shape"
   ]
  },
  {
   "cell_type": "markdown",
   "id": "70c77232-b831-4e6c-9c7e-1d5961983db8",
   "metadata": {},
   "source": [
    "### Most frequent location of the customer"
   ]
  },
  {
   "cell_type": "code",
   "execution_count": 28,
   "id": "c9b3e4c8-0769-4e9f-8420-31823833d7d8",
   "metadata": {},
   "outputs": [],
   "source": [
    "def most_common(x):\n",
    "\n",
    "    #Counter\n",
    "    occurence_count = Counter(list(x))\n",
    "    \n",
    "    #Frequency of most popular place\n",
    "    frequency=occurence_count.most_common(1)[0][1]\n",
    "    \n",
    "    #Check if the places is the most popular\n",
    "    #If there is a draw None will be returned\n",
    "    \n",
    "    other_frequency=list(occurence_count.values()) #list of all frequency\n",
    "    \n",
    "    if other_frequency.count(frequency) > 1:\n",
    "        return None\n",
    "    \n",
    "    \n",
    "    return occurence_count.most_common(1)[0][0]\n",
    "\n",
    "def percentage(x):\n",
    "    #Counter\n",
    "    occurence_count = Counter(list(x))\n",
    "    \n",
    "    #Frequency of most popular place\n",
    "    frequency=occurence_count.most_common(1)[0][1]\n",
    "    \n",
    "    #Check if the places is the most popular\n",
    "    \n",
    "    other_frequency=list(occurence_count.values())\n",
    "    \n",
    "    if other_frequency.count(frequency) > 1:\n",
    "        return None\n",
    "    else:\n",
    "    \n",
    "        #Evaluate the percentage of the transaction maded in the most common place.\n",
    "        perc=round(frequency/len(x)*100,2)\n",
    "    \n",
    "        return perc"
   ]
  },
  {
   "cell_type": "code",
   "execution_count": 147,
   "id": "36ad2bfc-ed77-4e8b-b940-90914a89632d",
   "metadata": {},
   "outputs": [
    {
     "name": "stderr",
     "output_type": "stream",
     "text": [
      "/var/folders/j4/9fk3st2d30g22vff83pj6cnw0000gn/T/ipykernel_1180/1914737971.py:5: FutureWarning: The default dtype for empty Series will be 'object' instead of 'float64' in a future version. Specify a dtype explicitly to silence this warning.\n",
      "  data['Most_common_location'] = data.groupby('CustomerID')['CustLocation'].transform(lambda x: most_common(x))\n"
     ]
    },
    {
     "data": {
      "text/plain": [
       "(839081, 9)"
      ]
     },
     "execution_count": 147,
     "metadata": {},
     "output_type": "execute_result"
    }
   ],
   "source": [
    "#We create a subset of the dataset.\n",
    "data=df[['CustomerID','CustLocation']]\n",
    "\n",
    "#Create a new variable\n",
    "data['Most_common_location'] = data.groupby('CustomerID')['CustLocation'].transform(lambda x: most_common(x))\n",
    "\n",
    "#We drop the duplicates in order to avoid error during the merging. That's the reason of the creation of the subset.\n",
    "data.drop_duplicates(subset=['CustomerID'],inplace=True)\n",
    "\n",
    "#Merging data\n",
    "customer=pd.merge(customer,data[[\"CustomerID\",'Most_common_location']],on=\"CustomerID\")\n",
    "\n",
    "customer.shape"
   ]
  },
  {
   "cell_type": "markdown",
   "id": "d7d0f5e7-6f6e-4048-9c89-1935e1f4a2f9",
   "metadata": {},
   "source": [
    "## Create other 20 features"
   ]
  },
  {
   "cell_type": "markdown",
   "id": "e12968fa-3304-48b8-8c18-1f91a2c077eb",
   "metadata": {
    "jp-MarkdownHeadingCollapsed": true,
    "tags": []
   },
   "source": [
    "### CustomerAge"
   ]
  },
  {
   "cell_type": "code",
   "execution_count": 148,
   "id": "24854ec0-6980-4478-bf25-04bbbb396236",
   "metadata": {
    "tags": []
   },
   "outputs": [
    {
     "data": {
      "text/plain": [
       "(839081, 10)"
      ]
     },
     "execution_count": 148,
     "metadata": {},
     "output_type": "execute_result"
    }
   ],
   "source": [
    "#We create a subset of the dataset.\n",
    "data=df[[\"CustomerID\",\"CustomerDOB\"]]\n",
    "\n",
    "#We drop the duplicates in order to avoid error during the merging. That's the reason of the creation of the subset.\n",
    "data.drop_duplicates(subset=['CustomerID'],inplace=True)\n",
    "\n",
    "#Create a new variable\n",
    "data['CustomerAge'] = (( pd.to_datetime('today') - data.CustomerDOB ) / np.timedelta64(1, 'Y')).round(0)\n",
    "\n",
    "#Change the type of the column\n",
    "data['CustomerAge'] = data['CustomerAge'].astype(int)\n",
    "\n",
    "#Merging\n",
    "customer=pd.merge(customer,data[[\"CustomerID\",'CustomerAge']],on=\"CustomerID\")\n",
    "\n",
    "customer.shape"
   ]
  },
  {
   "cell_type": "markdown",
   "id": "645ad95f-ae10-4e31-a220-332eb7f3da60",
   "metadata": {
    "jp-MarkdownHeadingCollapsed": true,
    "tags": []
   },
   "source": [
    "### Binary for major costumer and Age_in_2016\n",
    "The feature \"Major\" will be 1 is the costumer was major in 2016, 0 if the costumer was under 18 years old in 2016.\n"
   ]
  },
  {
   "cell_type": "code",
   "execution_count": 149,
   "id": "1e4b2680-3ab4-4e16-9429-325903a1268a",
   "metadata": {
    "tags": []
   },
   "outputs": [
    {
     "data": {
      "text/plain": [
       "(839081, 12)"
      ]
     },
     "execution_count": 149,
     "metadata": {},
     "output_type": "execute_result"
    }
   ],
   "source": [
    "#Create a new variable\n",
    "data['Age_in_2016'] = (( pd.to_datetime('2016-12-31') - data.CustomerDOB ) / np.timedelta64(1, 'Y')).round(0)\n",
    "\n",
    "data['Major']=1\n",
    "data.loc[data[\"Age_in_2016\"] <18,'Major']=0\n",
    "\n",
    "#Change the type of the column\n",
    "data[\"Age_in_2016\"] = data[\"Age_in_2016\"].astype(int)\n",
    "\n",
    "#Merging\n",
    "customer=pd.merge(customer,data[[\"CustomerID\",\"Age_in_2016\",'Major']],on=\"CustomerID\")\n",
    "\n",
    "customer.shape"
   ]
  },
  {
   "cell_type": "code",
   "execution_count": 150,
   "id": "16412541-7fef-41a8-9711-3a066b493ea0",
   "metadata": {},
   "outputs": [],
   "source": [
    "customer.to_pickle(\"/Users/mattia/Desktop/ADM(Aris)/HM4/customer.pkl\")"
   ]
  },
  {
   "cell_type": "markdown",
   "id": "d0952cee-9711-422d-88e6-b37956d583c2",
   "metadata": {
    "jp-MarkdownHeadingCollapsed": true,
    "tags": []
   },
   "source": [
    "### Old customer\n",
    "The feature \"OLD\" will be 1 is the costumer in 2016 was 70 years old or more."
   ]
  },
  {
   "cell_type": "code",
   "execution_count": 151,
   "id": "ea8f50c2-50a3-4cce-b6d2-37f38e5d2d36",
   "metadata": {},
   "outputs": [
    {
     "data": {
      "text/plain": [
       "(839081, 13)"
      ]
     },
     "execution_count": 151,
     "metadata": {},
     "output_type": "execute_result"
    }
   ],
   "source": [
    "#Create a new variable\n",
    "data['Old']=0\n",
    "data.loc[data[\"Age_in_2016\"] >= 70,'Old']=1\n",
    "\n",
    "#Merging\n",
    "customer=pd.merge(customer,data[[\"CustomerID\",'Old']],on=\"CustomerID\")\n",
    "\n",
    "customer.shape"
   ]
  },
  {
   "cell_type": "markdown",
   "id": "dc22b64b-ec59-493b-8b67-068309f2aa9a",
   "metadata": {
    "jp-MarkdownHeadingCollapsed": true,
    "tags": []
   },
   "source": [
    "### Minimum Transaction"
   ]
  },
  {
   "cell_type": "code",
   "execution_count": 152,
   "id": "bad77aaa-b886-47c2-bb38-83d4d4e19af9",
   "metadata": {},
   "outputs": [
    {
     "data": {
      "text/plain": [
       "(839081, 14)"
      ]
     },
     "execution_count": 152,
     "metadata": {},
     "output_type": "execute_result"
    }
   ],
   "source": [
    "minimi=pd.DataFrame(df.groupby(['CustomerID'], sort=False)['TransactionAmount (INR)'].min())\n",
    "minimi=minimi.rename(columns={'TransactionAmount (INR)':\"Min Transaction\"})\n",
    "minimi=minimi.reset_index()\n",
    "\n",
    "#Merging\n",
    "customer=pd.merge(customer,minimi[[\"CustomerID\",\"Min Transaction\"]],on=\"CustomerID\")\n",
    "\n",
    "customer.shape"
   ]
  },
  {
   "cell_type": "markdown",
   "id": "c9d99853-78c6-4598-824d-bcf9dc50236d",
   "metadata": {
    "jp-MarkdownHeadingCollapsed": true,
    "tags": []
   },
   "source": [
    "### Maximum Transaction"
   ]
  },
  {
   "cell_type": "code",
   "execution_count": 153,
   "id": "aa557ef5-a907-429f-afb0-36b73655e0cb",
   "metadata": {},
   "outputs": [
    {
     "data": {
      "text/plain": [
       "(839081, 15)"
      ]
     },
     "execution_count": 153,
     "metadata": {},
     "output_type": "execute_result"
    }
   ],
   "source": [
    "minimi=pd.DataFrame(df.groupby(['CustomerID'], sort=False)['TransactionAmount (INR)'].max())\n",
    "minimi=minimi.rename(columns={'TransactionAmount (INR)':\"Max Transaction\"})\n",
    "minimi=minimi.reset_index()\n",
    "\n",
    "#Merging\n",
    "customer=pd.merge(customer,minimi[[\"CustomerID\",\"Max Transaction\"]],on=\"CustomerID\")\n",
    "\n",
    "customer.shape"
   ]
  },
  {
   "cell_type": "markdown",
   "id": "f347d792-1d28-4fa4-94a8-07857287190f",
   "metadata": {
    "jp-MarkdownHeadingCollapsed": true,
    "tags": []
   },
   "source": [
    "### Last account balance\n",
    "We take as last account balance the account balance  of most recent transaction."
   ]
  },
  {
   "cell_type": "code",
   "execution_count": 154,
   "id": "67f6462c-c757-44a2-bb0c-e86488d070f5",
   "metadata": {},
   "outputs": [
    {
     "data": {
      "text/plain": [
       "(839081, 16)"
      ]
     },
     "execution_count": 154,
     "metadata": {},
     "output_type": "execute_result"
    }
   ],
   "source": [
    "#We sort the df dataset in descending order. We save this new  dataset with the name \"data\"\n",
    "data=df.sort_values(\"TransactionDate\")\n",
    "\n",
    "#We drop duplicates keeping the last value (the most recent)\n",
    "data=data.drop_duplicates(subset=[\"CustomerID\"],keep=\"last\")\n",
    "data=data.rename(columns={'CustAccountBalance':\"LastAccountBalance\"})\n",
    "\n",
    "#Merging\n",
    "customer=pd.merge(customer,data[[\"CustomerID\",\"LastAccountBalance\"]],on=\"CustomerID\")\n",
    "customer.shape"
   ]
  },
  {
   "cell_type": "markdown",
   "id": "1da3bc50-6705-48d4-9a70-11e96553b2e4",
   "metadata": {
    "tags": []
   },
   "source": [
    "### Account balance range\n",
    "\n",
    "Class , range:\n",
    "- Lower 0, [0,10000)\n",
    "- Medium 1, [10000,100000)\n",
    "- High 2,   [100000,1000000)\n",
    "- Very High 3,[1000000,inf)"
   ]
  },
  {
   "cell_type": "code",
   "execution_count": 155,
   "id": "dc32e961-f032-4cf8-af9e-363a73dbbd05",
   "metadata": {},
   "outputs": [
    {
     "data": {
      "text/plain": [
       "(839081, 17)"
      ]
     },
     "execution_count": 155,
     "metadata": {},
     "output_type": "execute_result"
    }
   ],
   "source": [
    "customer[\"Class_income\"]=0\n",
    "customer.loc[(customer[\"LastAccountBalance\"] >= 10000) & (customer[\"LastAccountBalance\"] < 100000),\"Class_income\"]=1\n",
    "customer.loc[(customer[\"LastAccountBalance\"] >= 100000) & (customer[\"LastAccountBalance\"] < 1000000),\"Class_income\"]=2\n",
    "customer.loc[(customer[\"LastAccountBalance\"] >= 1000000),\"Class_income\"]=3\n",
    "customer.shape"
   ]
  },
  {
   "cell_type": "markdown",
   "id": "d6e4214e-4cdc-4d3f-b55e-c5ff92b6547d",
   "metadata": {
    "jp-MarkdownHeadingCollapsed": true,
    "tags": []
   },
   "source": [
    "### Concentrazione \n",
    "This features says for each customer of much he have of the total of money in circulation."
   ]
  },
  {
   "cell_type": "code",
   "execution_count": 156,
   "id": "25f4b61e-eb50-4ad8-94b0-cf0f6726b067",
   "metadata": {},
   "outputs": [
    {
     "data": {
      "text/plain": [
       "(839081, 18)"
      ]
     },
     "execution_count": 156,
     "metadata": {},
     "output_type": "execute_result"
    }
   ],
   "source": [
    "tot=data.LastAccountBalance.sum()\n",
    "customer[\"Percentual_of_total\"]= ((customer[\"LastAccountBalance\"]/tot)*100)#.apply(lambda x: '%.2f' % x)\n",
    "customer[\"Percentual_of_total\"]=customer[\"Percentual_of_total\"].astype(float)\n",
    "customer.shape"
   ]
  },
  {
   "cell_type": "markdown",
   "id": "8c18c8d9-5615-41ad-9dfc-7a6e1f5a5b15",
   "metadata": {
    "jp-MarkdownHeadingCollapsed": true,
    "tags": []
   },
   "source": [
    "### Top 100\n",
    "The feature \"Top\" will be 1 if the customer's LastAccountBalance is in the top 100."
   ]
  },
  {
   "cell_type": "code",
   "execution_count": 157,
   "id": "a41eee07-7863-42b1-b642-62679c57ed0c",
   "metadata": {},
   "outputs": [
    {
     "data": {
      "text/plain": [
       "(839081, 19)"
      ]
     },
     "execution_count": 157,
     "metadata": {},
     "output_type": "execute_result"
    }
   ],
   "source": [
    "#Extract the \"CustomerID\" of the top 100 customers\n",
    "top100=list(data.sort_values(\"LastAccountBalance\",ascending=False).head(100)[\"CustomerID\"])\n",
    "\n",
    "customer[\"Top100\"]=0\n",
    "customer.loc[(customer[\"CustomerID\"].isin(top100)),\"Top100\"]=1\n",
    "customer.shape"
   ]
  },
  {
   "cell_type": "markdown",
   "id": "04d36432-5902-4cf3-86ab-f8f072b0b224",
   "metadata": {
    "jp-MarkdownHeadingCollapsed": true,
    "tags": []
   },
   "source": [
    "### Most frequent hour of transaction"
   ]
  },
  {
   "cell_type": "code",
   "execution_count": 29,
   "id": "d29c0b53-376e-4d87-9c7a-584a8d1bf35e",
   "metadata": {},
   "outputs": [
    {
     "name": "stderr",
     "output_type": "stream",
     "text": [
      "/var/folders/j4/9fk3st2d30g22vff83pj6cnw0000gn/T/ipykernel_15499/3236127050.py:6: FutureWarning: The default dtype for empty Series will be 'object' instead of 'float64' in a future version. Specify a dtype explicitly to silence this warning.\n",
      "  data['Most_common_hour'] = data.groupby('CustomerID')[\"Hour\"].transform(lambda x: most_common(x))\n"
     ]
    },
    {
     "data": {
      "text/plain": [
       "(839081, 27)"
      ]
     },
     "execution_count": 29,
     "metadata": {},
     "output_type": "execute_result"
    }
   ],
   "source": [
    "df[\"Hour\"]=df.TransactionTime.apply(lambda x: x.strftime(\"%H\"))\n",
    "\n",
    "data=df[[\"CustomerID\",\"Hour\"]]\n",
    "\n",
    "#Create a new variable\n",
    "data['Most_common_hour'] = data.groupby('CustomerID')[\"Hour\"].transform(lambda x: most_common(x))\n",
    "\n",
    "#We drop duplicates keeping the last value (the most recent)\n",
    "data=data.drop_duplicates(subset=[\"CustomerID\"])\n",
    "\n",
    "\n",
    "#Merging\n",
    "customer=pd.merge(customer,data[[\"CustomerID\",'Most_common_hour']],on=\"CustomerID\")\n",
    "customer.shape"
   ]
  },
  {
   "cell_type": "markdown",
   "id": "f66965aa-9f86-4e1c-ab2a-edbaf4efef0d",
   "metadata": {
    "jp-MarkdownHeadingCollapsed": true,
    "tags": []
   },
   "source": [
    "### Percentage of transactions in the most common hour"
   ]
  },
  {
   "cell_type": "code",
   "execution_count": 30,
   "id": "edae4e17-aa23-470d-adea-d9cb96e9ec44",
   "metadata": {},
   "outputs": [
    {
     "name": "stderr",
     "output_type": "stream",
     "text": [
      "/var/folders/j4/9fk3st2d30g22vff83pj6cnw0000gn/T/ipykernel_15499/2011114929.py:6: FutureWarning: The default dtype for empty Series will be 'object' instead of 'float64' in a future version. Specify a dtype explicitly to silence this warning.\n",
      "  data['Percentage_most_common_hour'] = data.groupby('CustomerID')[\"Hour\"].transform(lambda x: percentage(x))\n"
     ]
    },
    {
     "data": {
      "text/plain": [
       "(839081, 28)"
      ]
     },
     "execution_count": 30,
     "metadata": {},
     "output_type": "execute_result"
    }
   ],
   "source": [
    "df[\"Hour\"]=df.TransactionTime.apply(lambda x: x.strftime(\"%H\"))\n",
    "\n",
    "data=df[[\"CustomerID\",\"Hour\"]]\n",
    "\n",
    "\n",
    "data['Percentage_most_common_hour'] = data.groupby('CustomerID')[\"Hour\"].transform(lambda x: percentage(x))\n",
    "\n",
    "#We drop duplicates keeping the last value (the most recent)\n",
    "data=data.drop_duplicates(subset=[\"CustomerID\"])\n",
    "\n",
    "\n",
    "#Merging\n",
    "customer=pd.merge(customer,data[[\"CustomerID\",'Percentage_most_common_hour']],on=\"CustomerID\")\n",
    "customer.shape"
   ]
  },
  {
   "cell_type": "markdown",
   "id": "e0e51ba2-71b0-423b-93cc-1f47606f5af1",
   "metadata": {
    "jp-MarkdownHeadingCollapsed": true,
    "tags": []
   },
   "source": [
    "### Most common day of the week"
   ]
  },
  {
   "cell_type": "code",
   "execution_count": 160,
   "id": "1a131955-9a49-4909-8bdd-78dcfb21d5bf",
   "metadata": {},
   "outputs": [
    {
     "data": {
      "text/plain": [
       "(839081, 22)"
      ]
     },
     "execution_count": 160,
     "metadata": {},
     "output_type": "execute_result"
    }
   ],
   "source": [
    "df[\"Day\"]=df.TransactionTime.apply(lambda x: x.strftime(\"%A\"))\n",
    "\n",
    "data=df[[\"CustomerID\",\"Day\"]]\n",
    "\n",
    "#Create a new variable\n",
    "data['Most_common_day'] = data.groupby('CustomerID')[\"Day\"].transform(lambda x: most_common(x))\n",
    "\n",
    "#We drop duplicates keeping the last value (the most recent)\n",
    "data=data.drop_duplicates(subset=[\"CustomerID\"])\n",
    "\n",
    "\n",
    "#Merging\n",
    "customer=pd.merge(customer,data[[\"CustomerID\",'Most_common_day']],on=\"CustomerID\")\n",
    "customer.shape"
   ]
  },
  {
   "cell_type": "markdown",
   "id": "b0f78480-d821-4ad8-a34d-2cb0fdd65ce1",
   "metadata": {
    "jp-MarkdownHeadingCollapsed": true,
    "tags": []
   },
   "source": [
    "### Percentage of transactions in the most common day"
   ]
  },
  {
   "cell_type": "code",
   "execution_count": 161,
   "id": "10ce7d4d-25f2-49b2-bf3c-f874e01161b6",
   "metadata": {},
   "outputs": [
    {
     "data": {
      "text/plain": [
       "(839081, 23)"
      ]
     },
     "execution_count": 161,
     "metadata": {},
     "output_type": "execute_result"
    }
   ],
   "source": [
    "#Create a new variable\n",
    "data['Percentage_most_common_day'] = data.groupby('CustomerID')[\"Day\"].transform(lambda x: percentage(x))\n",
    "\n",
    "#We drop duplicates keeping the last value (the most recent)\n",
    "data=data.drop_duplicates(subset=[\"CustomerID\"])\n",
    "\n",
    "\n",
    "#Merging\n",
    "customer=pd.merge(customer,data[[\"CustomerID\",'Percentage_most_common_day']],on=\"CustomerID\")\n",
    "customer.shape"
   ]
  },
  {
   "cell_type": "markdown",
   "id": "18c4a43f-46b5-47fa-82ec-cdf5de1ec4c7",
   "metadata": {
    "jp-MarkdownHeadingCollapsed": true,
    "tags": []
   },
   "source": [
    "### Percentile of LastAccountBalance"
   ]
  },
  {
   "cell_type": "markdown",
   "id": "a03c2ccc-1f06-4d1f-9ba2-92e9eaf6879f",
   "metadata": {
    "tags": []
   },
   "source": [
    "inizio22=pd.to_datetime('today')\n",
    "customer[\"LastAccountBalance_percentile\"]=customer.LastAccountBalance.apply(lambda x:round(stats.percentileofscore(customer['LastAccountBalance'],x , kind='mean'),2))\n",
    "#customer.shape\n",
    "pd.to_datetime('today')-inizio22\n",
    "\n",
    "#Too much time to compute"
   ]
  },
  {
   "cell_type": "markdown",
   "id": "324251d8-418c-4017-9b78-29751c4bb783",
   "metadata": {
    "jp-MarkdownHeadingCollapsed": true,
    "tags": []
   },
   "source": [
    "### First transaction\n",
    "This features describe the date of the first transaction."
   ]
  },
  {
   "cell_type": "code",
   "execution_count": 162,
   "id": "d356f50e-e345-41ca-a6f6-c93581907a5e",
   "metadata": {},
   "outputs": [
    {
     "data": {
      "text/plain": [
       "(839081, 24)"
      ]
     },
     "execution_count": 162,
     "metadata": {},
     "output_type": "execute_result"
    }
   ],
   "source": [
    "#We sort the df dataset in descending order. We save this new  dataset with the name \"data\"\n",
    "data=df[[\"CustomerID\",\"TransactionDate\"]].sort_values(\"TransactionDate\",ascending=True)\n",
    "\n",
    "#Rename feature\n",
    "data=data.rename(columns={\"TransactionDate\":\"FirstTransactionDate\"})\n",
    "\n",
    "#We drop duplicates keeping the last value (the most recent)\n",
    "data.drop_duplicates(subset=[\"CustomerID\"],keep=\"first\",inplace=True)\n",
    "\n",
    "#Merging\n",
    "customer=pd.merge(customer,data[[\"CustomerID\",\"FirstTransactionDate\"]],on=\"CustomerID\")\n",
    "customer.shape"
   ]
  },
  {
   "cell_type": "markdown",
   "id": "a8ab618a-6d50-4fcb-b61a-56f3c531a0e4",
   "metadata": {
    "jp-MarkdownHeadingCollapsed": true,
    "tags": []
   },
   "source": [
    "### Last transaction\n",
    "This features describe the date of the last transaction."
   ]
  },
  {
   "cell_type": "code",
   "execution_count": 163,
   "id": "fdeb4dcb-314f-4a50-baf8-0c7848fd9101",
   "metadata": {},
   "outputs": [
    {
     "data": {
      "text/plain": [
       "(839081, 25)"
      ]
     },
     "execution_count": 163,
     "metadata": {},
     "output_type": "execute_result"
    }
   ],
   "source": [
    "#We sort the df dataset in descending order. We save this new  dataset with the name \"data\"\n",
    "data=df[[\"CustomerID\",\"TransactionDate\"]].sort_values(\"TransactionDate\",ascending=True)\n",
    "\n",
    "#Rename feature\n",
    "data=data.rename(columns={\"TransactionDate\":\"LastTransactionDate\"})\n",
    "\n",
    "#We drop duplicates keeping the last value (the most recent)\n",
    "data.drop_duplicates(subset=[\"CustomerID\"],keep=\"last\",inplace=True)\n",
    "\n",
    "#Merging\n",
    "customer=pd.merge(customer,data[[\"CustomerID\",\"LastTransactionDate\"]],on=\"CustomerID\")\n",
    "customer.shape"
   ]
  },
  {
   "cell_type": "markdown",
   "id": "e1dbd63a-24da-41a1-bdfb-6ebf24ab3726",
   "metadata": {
    "jp-MarkdownHeadingCollapsed": true,
    "tags": []
   },
   "source": [
    "### Percentile of age"
   ]
  },
  {
   "cell_type": "markdown",
   "id": "3b50741e-dd87-4fe1-adc6-685ade8477ef",
   "metadata": {},
   "source": [
    "inizio25=pd.to_datetime('today')\n",
    "customer[\"LastAccountBalance_percentile\"]=customer.CustomerAge.apply(lambda x:round(stats.percentileofscore(customer.CustomerAge,x , kind='mean'),2))\n",
    "#customer.shape\n",
    "pd.to_datetime('today')-inizio25  \n",
    "##Too much time to compute"
   ]
  },
  {
   "cell_type": "markdown",
   "id": "24b1b793-e6e7-45cf-88de-1bed1d798e9a",
   "metadata": {
    "jp-MarkdownHeadingCollapsed": true,
    "tags": []
   },
   "source": [
    "### Percentage of transactions in the most_common_location "
   ]
  },
  {
   "cell_type": "code",
   "execution_count": 164,
   "id": "9ed6b636-b874-4d7c-a295-1523dc4ca63e",
   "metadata": {},
   "outputs": [
    {
     "name": "stderr",
     "output_type": "stream",
     "text": [
      "/var/folders/j4/9fk3st2d30g22vff83pj6cnw0000gn/T/ipykernel_1180/901336727.py:6: FutureWarning: The default dtype for empty Series will be 'object' instead of 'float64' in a future version. Specify a dtype explicitly to silence this warning.\n",
      "  data['Percentage_most_common_location'] = data.groupby('CustomerID')['CustLocation'].transform(lambda x: percentage(x))\n"
     ]
    },
    {
     "data": {
      "text/plain": [
       "(839081, 26)"
      ]
     },
     "execution_count": 164,
     "metadata": {},
     "output_type": "execute_result"
    }
   ],
   "source": [
    "#We create a subset of the dataset.\n",
    "data=df[[\"CustomerID\",\"CustLocation\"]]\n",
    "\n",
    "\n",
    "#Create a new variable\n",
    "data['Percentage_most_common_location'] = data.groupby('CustomerID')['CustLocation'].transform(lambda x: percentage(x))\n",
    "\n",
    "#We drop the duplicates in order to avoid error during the merging. That's the reason of the creation of the subset.\n",
    "data.drop_duplicates(subset=['CustomerID'],inplace=True)\n",
    "\n",
    "#Merging data\n",
    "customer=pd.merge(customer,data[[\"CustomerID\",'Percentage_most_common_location']],on=\"CustomerID\")\n",
    "\n",
    "customer.shape"
   ]
  },
  {
   "cell_type": "markdown",
   "id": "fa6672c9-2d27-48fd-a015-79dda686d6f6",
   "metadata": {
    "jp-MarkdownHeadingCollapsed": true,
    "tags": []
   },
   "source": [
    "### Number_of_transaction_10000"
   ]
  },
  {
   "cell_type": "code",
   "execution_count": 165,
   "id": "08bb9bce-5478-4d1b-85ad-0b8b7ac94980",
   "metadata": {},
   "outputs": [
    {
     "data": {
      "text/plain": [
       "(839081, 27)"
      ]
     },
     "execution_count": 165,
     "metadata": {},
     "output_type": "execute_result"
    }
   ],
   "source": [
    "number_transaction=pd.DataFrame(df[df[\"TransactionAmount (INR)\"]> 10000].groupby(\"CustomerID\").count().TransactionID)\n",
    "number_transaction=number_transaction.rename(columns={\"TransactionID\":\"Number_of_transaction_10000\"})\n",
    "customer=pd.merge(customer,number_transaction,on=\"CustomerID\", how='left')\n",
    "\n",
    "#Put 0 instead of NaN\n",
    "customer.Number_of_transaction_10000=customer.Number_of_transaction_10000.fillna(0)\n",
    "customer.shape"
   ]
  },
  {
   "cell_type": "markdown",
   "id": "aff281a9-e3da-432e-97bc-599a4138384d",
   "metadata": {
    "jp-MarkdownHeadingCollapsed": true,
    "tags": []
   },
   "source": [
    "### Average time between transaction"
   ]
  },
  {
   "cell_type": "code",
   "execution_count": 166,
   "id": "9eec1f0b-c23c-4b8c-b872-f174bad7dfd7",
   "metadata": {},
   "outputs": [
    {
     "name": "stderr",
     "output_type": "stream",
     "text": [
      "/opt/anaconda3/envs/ADM/lib/python3.10/site-packages/numpy/core/fromnumeric.py:3432: RuntimeWarning: Mean of empty slice.\n",
      "  return _methods._mean(a, axis=axis, dtype=dtype,\n",
      "/opt/anaconda3/envs/ADM/lib/python3.10/site-packages/numpy/core/_methods.py:190: RuntimeWarning: invalid value encountered in double_scalars\n",
      "  ret = ret.dtype.type(ret / rcount)\n"
     ]
    }
   ],
   "source": [
    "#We create a subset of the dataset.\n",
    "data=df[[\"CustomerID\",\"TransactionDate\"]]\n",
    "\n",
    "#Create a function that give the mean among transaction.\n",
    "def time_between_transaction(x):\n",
    "    \n",
    "    date=sorted(list(x))\n",
    "    differenze=[]\n",
    "    for i in range(1,len(date)):\n",
    "        differenze.append(date[i]-date[i-1])\n",
    "    \n",
    "    \n",
    "    return np.mean(np.array(differenze))\n",
    "\n",
    "#Create a new variable\n",
    "data[\"Medium_time_among_transaction\"]=data.groupby('CustomerID')[\"TransactionDate\"].transform(lambda x: time_between_transaction(x))\n",
    "\n",
    "#We drop duplicates keeping the last value (the most recent)\n",
    "data.drop_duplicates(subset=[\"CustomerID\"],inplace=True)\n",
    "\n",
    "#Merge\n",
    "customer=pd.merge(customer,data[[\"CustomerID\",\"Medium_time_among_transaction\"]],on=\"CustomerID\")"
   ]
  },
  {
   "cell_type": "markdown",
   "id": "cc2b12ed-79cb-432c-9ee0-871bdf1c2085",
   "metadata": {
    "tags": []
   },
   "source": [
    "### Export the data"
   ]
  },
  {
   "cell_type": "code",
   "execution_count": 34,
   "id": "031e0961-59be-4500-a7de-f837a722b262",
   "metadata": {},
   "outputs": [],
   "source": [
    "customer.to_pickle(\"/Users/mattia/Desktop/ADM(Aris)/HM4/customer\"+str(customer.shape[1])+\".pkl\")\n",
    "pd.to_datetime('today')-inizio\n",
    "#customer=pd.read_pickle(\"/Users/mattia/Desktop/ADM(Aris)/HM4/customer28.pkl\")\n",
    "#customer.columns\n",
    "#customer.isna().sum()\n",
    "#customer=customer.rename(columns={\"Mean_among_transaction\":\"Medium_time_among_transaction\"})\n",
    "#customer.drop(columns=[\"Most_common_hour\",\"Percentage_most_common_hour\"],inplace=True)"
   ]
  },
  {
   "cell_type": "markdown",
   "id": "db2859b0-500f-4cf0-bd6e-4880673c1923",
   "metadata": {
    "jp-MarkdownHeadingCollapsed": true,
    "tags": []
   },
   "source": [
    "# 2.2 Choose your features (variables)!"
   ]
  },
  {
   "cell_type": "markdown",
   "id": "00e70d05-c818-4067-a387-f19cc3dd489c",
   "metadata": {},
   "source": [
    "### Import packages and data"
   ]
  },
  {
   "cell_type": "code",
   "execution_count": 2,
   "id": "ac8b7cc4-1269-45e3-867e-4055c7be99ed",
   "metadata": {},
   "outputs": [],
   "source": [
    "import pandas as pd\n",
    "import numpy as np\n",
    "pd.set_option('display.max_columns', None)\n",
    "data=pd.read_pickle(\"/Users/mattia/Desktop/ADM(Aris)/HM4/customer28.pkl\") "
   ]
  },
  {
   "cell_type": "markdown",
   "id": "8ca112e1-8496-4e42-b55a-b8dfd7afa6eb",
   "metadata": {
    "tags": []
   },
   "source": [
    "## Cleaning data"
   ]
  },
  {
   "cell_type": "markdown",
   "id": "b5d10052-44ba-419e-899a-86bd702b6c18",
   "metadata": {},
   "source": [
    "Since we will work over all the features we specifiy that \"CustomerID\"  is non a features but is the index\n",
    "of our data."
   ]
  },
  {
   "cell_type": "code",
   "execution_count": 3,
   "id": "39f94584-f25c-4a38-a1a6-7db29af8a5d1",
   "metadata": {},
   "outputs": [],
   "source": [
    "data.set_index('CustomerID',inplace=True)"
   ]
  },
  {
   "cell_type": "markdown",
   "id": "2760183e-3128-415b-8c1f-c8bd0f7cc556",
   "metadata": {},
   "source": [
    "We will reduce the dimensionality of the dataset using one of the most common and popular statistical methodology the Principal Componenent Analysis. \n",
    "Since PCA is a methodology made for quantitative data so as first thing we have to delete all the non-numeric features, or also\n",
    "recoding this features as binary.  \n"
   ]
  },
  {
   "cell_type": "markdown",
   "id": "0d7a3400-f43e-4bb1-8e3c-1592df7574ad",
   "metadata": {},
   "source": [
    "### Delete features"
   ]
  },
  {
   "cell_type": "code",
   "execution_count": 4,
   "id": "ea43bd32-549c-445e-8ef6-292f19591170",
   "metadata": {},
   "outputs": [
    {
     "data": {
      "text/plain": [
       "TOT TransactionAmount (INR)             0\n",
       "Number_of_transaction                   0\n",
       "Number_of_transaction_100               0\n",
       "Average_transaction_amount              0\n",
       "Average_amount_balance                  0\n",
       "Average_Utilisation                     0\n",
       "Account_gender                          0\n",
       "Most_common_location               121840\n",
       "CustomerAge                             0\n",
       "Age_in_2016                             0\n",
       "Major                                   0\n",
       "Old                                     0\n",
       "Min Transaction                         0\n",
       "Max Transaction                         0\n",
       "LastAccountBalance                      0\n",
       "Class_income                            0\n",
       "Percentual_of_total                     0\n",
       "Top100                                  0\n",
       "Most_common_day                         0\n",
       "Percentage_most_common_day              0\n",
       "FirstTransactionDate                    0\n",
       "LastTransactionDate                     0\n",
       "Percentage_most_common_location    121840\n",
       "Number_of_transaction_10000             0\n",
       "Medium_time_among_transaction      710185\n",
       "Most_common_hour                   118893\n",
       "Percentage_most_common_hour        118893\n",
       "dtype: int64"
      ]
     },
     "execution_count": 4,
     "metadata": {},
     "output_type": "execute_result"
    }
   ],
   "source": [
    "data.isna().sum()"
   ]
  },
  {
   "cell_type": "markdown",
   "id": "5013b19e-ef44-4ac3-a4f7-d85b228060be",
   "metadata": {},
   "source": [
    "We delete:\n",
    "- \"FirstTransactionDate\"\n",
    "- \"LastTransactionDate\"\n",
    "- \"Medium_time_among_transaction\"\n",
    "\n",
    "because they are  in datetype so not numerical.\n",
    "\n",
    "After we delete :\n",
    "- \"Most_common_day\" \n",
    "- \"Percentage_most_common_day\" \n",
    "because they are  constant.\n",
    "\n",
    "\n",
    "Also we delete :\n",
    "- Most_common_location\n",
    "- Percentage_most_common_location\n",
    "- Most_common_hour\n",
    "- Percentage_most_common_hour\n",
    "\n",
    "because for the way that are they build they contain lots of NA.\n",
    "\n",
    "After that we delete the feature:\n",
    "- CustomerAge\n",
    "\n",
    "because we have the features Age_in_2016 that is more important.\n",
    "\n"
   ]
  },
  {
   "cell_type": "code",
   "execution_count": 5,
   "id": "03c17382-14f5-43d2-9ad5-13a85231ebb1",
   "metadata": {
    "tags": []
   },
   "outputs": [],
   "source": [
    "columns=[\"FirstTransactionDate\",\"LastTransactionDate\",\"Most_common_day\",\"Percentage_most_common_day\",\n",
    "         \"Medium_time_among_transaction\",\"Most_common_location\",\"Percentage_most_common_location\",\n",
    "         \"Most_common_hour\",\"Percentage_most_common_hour\",\"CustomerAge\"]\n",
    "\n",
    "data.drop(columns=columns,inplace=True)"
   ]
  },
  {
   "cell_type": "code",
   "execution_count": 6,
   "id": "07a76a47-32b3-4578-9cb4-ea113ee889d1",
   "metadata": {},
   "outputs": [
    {
     "data": {
      "text/plain": [
       "TOT TransactionAmount (INR)    0\n",
       "Number_of_transaction          0\n",
       "Number_of_transaction_100      0\n",
       "Average_transaction_amount     0\n",
       "Average_amount_balance         0\n",
       "Average_Utilisation            0\n",
       "Account_gender                 0\n",
       "Age_in_2016                    0\n",
       "Major                          0\n",
       "Old                            0\n",
       "Min Transaction                0\n",
       "Max Transaction                0\n",
       "LastAccountBalance             0\n",
       "Class_income                   0\n",
       "Percentual_of_total            0\n",
       "Top100                         0\n",
       "Number_of_transaction_10000    0\n",
       "dtype: int64"
      ]
     },
     "execution_count": 6,
     "metadata": {},
     "output_type": "execute_result"
    }
   ],
   "source": [
    "data.isna().sum()"
   ]
  },
  {
   "cell_type": "markdown",
   "id": "76eb8b79-f75f-45dc-ab5e-3223b9476246",
   "metadata": {},
   "source": [
    "### Re-encode gender feature\n",
    "We re-encode the feature gender as three binary features."
   ]
  },
  {
   "cell_type": "code",
   "execution_count": 7,
   "id": "8aae5080-0e7d-48fb-9a2f-cb28a603fc64",
   "metadata": {},
   "outputs": [],
   "source": [
    "data[\"M\"]=0\n",
    "data.loc[(data[\"Account_gender\"]==\"M\"),\"M\"]=1\n",
    "\n",
    "data[\"F\"]=0\n",
    "data.loc[(data[\"Account_gender\"]==\"F\"),\"F\"]=1\n",
    "\n",
    "data[\"FM\"]=0\n",
    "data.loc[(data[\"Account_gender\"]==\"FM\"),\"FM\"]=1\n",
    "columns=[\"Account_gender\"]\n",
    "data.drop(columns=columns,inplace=True)"
   ]
  },
  {
   "cell_type": "markdown",
   "id": "2bbc7a88-fdae-4df6-afb3-5c2532ed0147",
   "metadata": {},
   "source": [
    "## Standardize the data (all means of the features 0 and all the variance 1)"
   ]
  },
  {
   "cell_type": "markdown",
   "id": "736b820a-b2a5-4521-816c-69b3c8ca8100",
   "metadata": {},
   "source": [
    "Different features could have different variance based on the phenomenon their represent.\n",
    "Infact if we take two features as :\n",
    "- weight of child\n",
    "- weight of a car\n",
    "\n",
    "Even if the features  **weight of child** is more variable than **weight of a car** is variance will be most \n",
    "probably lower because the feature **weight of a car** contain bigger numbers.\n",
    "\n",
    "\n",
    "Since the PCA choose the first p component based on their variance,  we have to standardize our features in order to give to \n",
    "each feature the same starting point.  \n",
    "At this point we will choose correctly the features with the highiest variance.  \n",
    "This is crucial if we think that all the information that a features contain is given by is variability.  \n",
    "Essentialy the variability is the information."
   ]
  },
  {
   "cell_type": "code",
   "execution_count": 8,
   "id": "bc9ed73a-3b19-41f0-bfe2-87247af550ad",
   "metadata": {
    "tags": []
   },
   "outputs": [
    {
     "data": {
      "text/plain": [
       "TOT TransactionAmount (INR)        44724740.76\n",
       "Number_of_transaction                     0.19\n",
       "Number_of_transaction_100                 0.31\n",
       "Average_transaction_amount         36544439.03\n",
       "Average_amount_balance         618192774929.38\n",
       "Average_Utilisation            617708981932.97\n",
       "Age_in_2016                              80.71\n",
       "Major                                     0.00\n",
       "Old                                       0.00\n",
       "Min Transaction                    34625979.34\n",
       "Max Transaction                    43926540.52\n",
       "LastAccountBalance             678908688620.19\n",
       "Class_income                              0.55\n",
       "Percentual_of_total                       0.00\n",
       "Top100                                    0.00\n",
       "Number_of_transaction_10000               0.02\n",
       "M                                         0.21\n",
       "F                                         0.19\n",
       "FM                                        0.06\n",
       "dtype: object"
      ]
     },
     "execution_count": 8,
     "metadata": {},
     "output_type": "execute_result"
    }
   ],
   "source": [
    "data.var().apply(lambda x: '%.2f' % x)"
   ]
  },
  {
   "cell_type": "markdown",
   "id": "a7b78d48-4c4a-4a0e-bf5e-f711f5480677",
   "metadata": {},
   "source": [
    "Since the varibility is very different between the features we standardize"
   ]
  },
  {
   "cell_type": "code",
   "execution_count": 9,
   "id": "abd2c7c5-1b85-4496-8742-7c05cda59974",
   "metadata": {},
   "outputs": [],
   "source": [
    "import numpy as np\n",
    "# Standardize data (0 mean, 1 stdev)\n",
    "from sklearn.preprocessing import StandardScaler\n",
    "\n",
    "# data values\n",
    "cols=data.columns\n",
    "\n",
    "# scaler\n",
    "scaler = StandardScaler()\n",
    "data[cols] = scaler.fit_transform(data[cols]) #In this way we don't lose the dataframe format"
   ]
  },
  {
   "cell_type": "markdown",
   "id": "a95ce2ea-bf75-4db7-bee6-60d09ac92179",
   "metadata": {},
   "source": [
    "## PCA"
   ]
  },
  {
   "cell_type": "markdown",
   "id": "1e24f1c7-75ee-4500-8259-eea2ce001414",
   "metadata": {},
   "source": [
    "First we try to find out the correct number of pca.  \n",
    "We can try to figure it out this number with the help of a graph. "
   ]
  },
  {
   "cell_type": "code",
   "execution_count": 10,
   "id": "ddbf5171-4081-4e91-9890-a4491e0ae80f",
   "metadata": {},
   "outputs": [
    {
     "data": {
      "text/plain": [
       "PCA(copy=True, iterated_power='auto', n_components=19, random_state=None,\n",
       "    svd_solver='auto', tol=0.0, whiten=False)"
      ]
     },
     "execution_count": 10,
     "metadata": {},
     "output_type": "execute_result"
    }
   ],
   "source": [
    "from sklearn.decomposition import PCA\n",
    "\n",
    "pca = PCA(n_components=len(cols))\n",
    "pca.fit(data)"
   ]
  },
  {
   "cell_type": "code",
   "execution_count": 11,
   "id": "ab8d2eab-7575-4199-bf87-4909f7652653",
   "metadata": {},
   "outputs": [
    {
     "data": {
      "text/plain": [
       "[<matplotlib.lines.Line2D at 0x7fef383600d0>]"
      ]
     },
     "execution_count": 11,
     "metadata": {},
     "output_type": "execute_result"
    },
    {
     "data": {
      "image/png": "[encoded data removed]",
      "text/plain": [
       "<Figure size 640x480 with 1 Axes>"
      ]
     },
     "metadata": {},
     "output_type": "display_data"
    }
   ],
   "source": [
    "import matplotlib.pyplot as plt\n",
    "variance = pca.explained_variance_ratio_ #calculate variance ratios\n",
    "\n",
    "var=np.cumsum(np.round(pca.explained_variance_ratio_, decimals=3)*100)\n",
    "var \n",
    "\n",
    "\n",
    "plt.ylabel('% Variance Explained')\n",
    "plt.xlabel('# of Features')\n",
    "plt.title('PCA Analysis')\n",
    "plt.ylim(30,100.5)\n",
    "plt.style.context('seaborn-whitegrid')\n",
    "plt.xticks([i for i in range(0,20)])\n",
    "plt.grid()\n",
    "plt.plot(var)"
   ]
  },
  {
   "cell_type": "markdown",
   "id": "f6b6827d-3b47-453f-8518-0c3dd5dbc68a",
   "metadata": {},
   "source": [
    "Based on this graph we can say that the number of pca is between 3 and 13.\n",
    "Of course we want to take less pca as possible so for a more correct choose we can have a look on\n",
    "some pca metrics"
   ]
  },
  {
   "cell_type": "markdown",
   "id": "0cebe8f8-eefb-4422-b0ed-e6fad7b97f6e",
   "metadata": {},
   "source": [
    "### PCA metrics"
   ]
  },
  {
   "cell_type": "markdown",
   "id": "e337c3e5-f980-4e7d-a26b-1d5349099ef5",
   "metadata": {},
   "source": [
    "#### Total variance explained and variance explained from each component"
   ]
  },
  {
   "cell_type": "code",
   "execution_count": 12,
   "id": "5e526b8b-ebf3-4320-b73c-f2cf331fcc9f",
   "metadata": {},
   "outputs": [
    {
     "name": "stdout",
     "output_type": "stream",
     "text": [
      "Total variance explained : 0.8585167310975884 \n",
      "\n",
      "Variance that each component explain: [4.72991515 4.12341183 2.2494352  1.82650279 1.41484466 1.00034975\n",
      " 0.96737795]\n"
     ]
    }
   ],
   "source": [
    "from sklearn.decomposition import PCA\n",
    "\n",
    "pca = PCA(n_components=7)\n",
    "pca.fit(data)\n",
    "\n",
    "total_variance_explained=pca.explained_variance_ratio_.sum()\n",
    "print(\"Total variance explained :\",total_variance_explained,\"\\n\")\n",
    "print(\"Variance that each component explain:\",pca.explained_variance_)\n"
   ]
  },
  {
   "cell_type": "markdown",
   "id": "d4343525-8d22-436c-957c-ca89e309733f",
   "metadata": {},
   "source": [
    "Riassume the values:\n",
    "\n",
    "- p=3 Total variance explained : 0.58 Clearly 3 pcas are not enough.\n",
    "- p=4 Total variance explained : 0.68 Also 4 pcas are not enough.\n",
    "\n",
    "The choice will be among the values  included between 5-12.\n",
    "- p=5 Total variance explained  : 0.75 \n",
    "- p=6 Total variance explained  : 0.80 \n",
    "- p=7 Total variance explained  : 0.85 \n",
    "- p=8 Total variance explained  : 0.89\n",
    "- p=9 Total variance explained  : 0.92\n",
    "- p=10 Total variance explained : 0.95\n",
    "- ...\n",
    "\n",
    "After the 8th component the variance explained by another pca is not increasing a lot so the choice will be \n",
    "among : 5,6,7,8.  "
   ]
  },
  {
   "cell_type": "markdown",
   "id": "c1db05e8-7fd6-436d-a87b-e30f67901a4e",
   "metadata": {},
   "source": [
    "#### Communalities\n",
    "In order to evaluate the communalities we need the factor pattern.  \n",
    "Altough for now we will skip the factor pattern analysis.\n",
    "Communalities shows how well a feature is represented by the p pca that\n",
    "we have choosen.\n",
    "So we will compare communalities between different p in order to choose."
   ]
  },
  {
   "cell_type": "markdown",
   "id": "ff1df5a6-2f10-4b51-8f50-940da2e9e249",
   "metadata": {},
   "source": [
    "**5 components**"
   ]
  },
  {
   "cell_type": "code",
   "execution_count": 12,
   "id": "32627d18-4506-46d1-a20f-805d960f2441",
   "metadata": {},
   "outputs": [],
   "source": [
    "pca = PCA(n_components=5)\n",
    "pca.fit(data)\n",
    "\n",
    "total_variance_explained=pca.explained_variance_ratio_.sum()\n",
    "\n",
    "factor_pattern=pd.DataFrame(pca.components_,columns=cols).T\n",
    "\n",
    "cols_to_delete=factor_pattern.columns\n",
    "factor_pattern[\"communalities\"]=factor_pattern.apply(lambda x :np.sum(np.square(x)),axis=1 )\n",
    "communalities=factor_pattern.drop(columns=cols_to_delete)\n",
    "communalities\n",
    "\n",
    "#We will export the dataset in order to have a look on it.\n",
    "communalities.to_csv(\"/Users/mattia/desktop/communalities5.csv\")"
   ]
  },
  {
   "cell_type": "markdown",
   "id": "9995fa24-7f13-406c-9baa-ca573e387fbc",
   "metadata": {},
   "source": [
    "**6 components**"
   ]
  },
  {
   "cell_type": "code",
   "execution_count": 13,
   "id": "b061bbe6-04b7-40e6-844e-ed5e549ebdb4",
   "metadata": {},
   "outputs": [
    {
     "data": {
      "text/html": [
       "<div>\n",
       "<style scoped>\n",
       "    .dataframe tbody tr th:only-of-type {\n",
       "        vertical-align: middle;\n",
       "    }\n",
       "\n",
       "    .dataframe tbody tr th {\n",
       "        vertical-align: top;\n",
       "    }\n",
       "\n",
       "    .dataframe thead th {\n",
       "        text-align: right;\n",
       "    }\n",
       "</style>\n",
       "<table border=\"1\" class=\"dataframe\">\n",
       "  <thead>\n",
       "    <tr style=\"text-align: right;\">\n",
       "      <th></th>\n",
       "      <th>communalities</th>\n",
       "    </tr>\n",
       "  </thead>\n",
       "  <tbody>\n",
       "    <tr>\n",
       "      <th>TOT TransactionAmount (INR)</th>\n",
       "      <td>0.226549</td>\n",
       "    </tr>\n",
       "    <tr>\n",
       "      <th>Number_of_transaction</th>\n",
       "      <td>0.372592</td>\n",
       "    </tr>\n",
       "    <tr>\n",
       "      <th>Number_of_transaction_100</th>\n",
       "      <td>0.282345</td>\n",
       "    </tr>\n",
       "    <tr>\n",
       "      <th>Average_transaction_amount</th>\n",
       "      <td>0.231851</td>\n",
       "    </tr>\n",
       "    <tr>\n",
       "      <th>Average_amount_balance</th>\n",
       "      <td>0.209721</td>\n",
       "    </tr>\n",
       "    <tr>\n",
       "      <th>Average_Utilisation</th>\n",
       "      <td>0.209885</td>\n",
       "    </tr>\n",
       "    <tr>\n",
       "      <th>Age_in_2016</th>\n",
       "      <td>0.478643</td>\n",
       "    </tr>\n",
       "    <tr>\n",
       "      <th>Major</th>\n",
       "      <td>0.959678</td>\n",
       "    </tr>\n",
       "    <tr>\n",
       "      <th>Old</th>\n",
       "      <td>0.417703</td>\n",
       "    </tr>\n",
       "    <tr>\n",
       "      <th>Min Transaction</th>\n",
       "      <td>0.213690</td>\n",
       "    </tr>\n",
       "    <tr>\n",
       "      <th>Max Transaction</th>\n",
       "      <td>0.227206</td>\n",
       "    </tr>\n",
       "    <tr>\n",
       "      <th>LastAccountBalance</th>\n",
       "      <td>0.213445</td>\n",
       "    </tr>\n",
       "    <tr>\n",
       "      <th>Class_income</th>\n",
       "      <td>0.140208</td>\n",
       "    </tr>\n",
       "    <tr>\n",
       "      <th>Percentual_of_total</th>\n",
       "      <td>0.213445</td>\n",
       "    </tr>\n",
       "    <tr>\n",
       "      <th>Top100</th>\n",
       "      <td>0.152533</td>\n",
       "    </tr>\n",
       "    <tr>\n",
       "      <th>Number_of_transaction_10000</th>\n",
       "      <td>0.106189</td>\n",
       "    </tr>\n",
       "    <tr>\n",
       "      <th>M</th>\n",
       "      <td>0.507883</td>\n",
       "    </tr>\n",
       "    <tr>\n",
       "      <th>F</th>\n",
       "      <td>0.525302</td>\n",
       "    </tr>\n",
       "    <tr>\n",
       "      <th>FM</th>\n",
       "      <td>0.311130</td>\n",
       "    </tr>\n",
       "  </tbody>\n",
       "</table>\n",
       "</div>"
      ],
      "text/plain": [
       "                             communalities\n",
       "TOT TransactionAmount (INR)       0.226549\n",
       "Number_of_transaction             0.372592\n",
       "Number_of_transaction_100         0.282345\n",
       "Average_transaction_amount        0.231851\n",
       "Average_amount_balance            0.209721\n",
       "Average_Utilisation               0.209885\n",
       "Age_in_2016                       0.478643\n",
       "Major                             0.959678\n",
       "Old                               0.417703\n",
       "Min Transaction                   0.213690\n",
       "Max Transaction                   0.227206\n",
       "LastAccountBalance                0.213445\n",
       "Class_income                      0.140208\n",
       "Percentual_of_total               0.213445\n",
       "Top100                            0.152533\n",
       "Number_of_transaction_10000       0.106189\n",
       "M                                 0.507883\n",
       "F                                 0.525302\n",
       "FM                                0.311130"
      ]
     },
     "execution_count": 13,
     "metadata": {},
     "output_type": "execute_result"
    }
   ],
   "source": [
    "pca = PCA(n_components=6)\n",
    "pca.fit(data)\n",
    "\n",
    "\n",
    "factor_pattern=pd.DataFrame(pca.components_,columns=cols).T\n",
    "\n",
    "cols_to_delete=factor_pattern.columns\n",
    "factor_pattern[\"communalities\"]=factor_pattern.apply(lambda x :np.sum(np.square(x)),axis=1 )\n",
    "communalities=factor_pattern.drop(columns=cols_to_delete)\n",
    "communalities"
   ]
  },
  {
   "cell_type": "markdown",
   "id": "2cba132f-6486-4366-ac27-49d8972fa18d",
   "metadata": {},
   "source": [
    "**7 components**"
   ]
  },
  {
   "cell_type": "code",
   "execution_count": 14,
   "id": "03479c62-1b2c-4afa-a184-b6535d706a3d",
   "metadata": {},
   "outputs": [
    {
     "data": {
      "text/html": [
       "<div>\n",
       "<style scoped>\n",
       "    .dataframe tbody tr th:only-of-type {\n",
       "        vertical-align: middle;\n",
       "    }\n",
       "\n",
       "    .dataframe tbody tr th {\n",
       "        vertical-align: top;\n",
       "    }\n",
       "\n",
       "    .dataframe thead th {\n",
       "        text-align: right;\n",
       "    }\n",
       "</style>\n",
       "<table border=\"1\" class=\"dataframe\">\n",
       "  <thead>\n",
       "    <tr style=\"text-align: right;\">\n",
       "      <th></th>\n",
       "      <th>communalities</th>\n",
       "    </tr>\n",
       "  </thead>\n",
       "  <tbody>\n",
       "    <tr>\n",
       "      <th>TOT TransactionAmount (INR)</th>\n",
       "      <td>0.227473</td>\n",
       "    </tr>\n",
       "    <tr>\n",
       "      <th>Number_of_transaction</th>\n",
       "      <td>0.375323</td>\n",
       "    </tr>\n",
       "    <tr>\n",
       "      <th>Number_of_transaction_100</th>\n",
       "      <td>0.303033</td>\n",
       "    </tr>\n",
       "    <tr>\n",
       "      <th>Average_transaction_amount</th>\n",
       "      <td>0.232553</td>\n",
       "    </tr>\n",
       "    <tr>\n",
       "      <th>Average_amount_balance</th>\n",
       "      <td>0.209724</td>\n",
       "    </tr>\n",
       "    <tr>\n",
       "      <th>Average_Utilisation</th>\n",
       "      <td>0.209887</td>\n",
       "    </tr>\n",
       "    <tr>\n",
       "      <th>Age_in_2016</th>\n",
       "      <td>0.478738</td>\n",
       "    </tr>\n",
       "    <tr>\n",
       "      <th>Major</th>\n",
       "      <td>0.997104</td>\n",
       "    </tr>\n",
       "    <tr>\n",
       "      <th>Old</th>\n",
       "      <td>0.634352</td>\n",
       "    </tr>\n",
       "    <tr>\n",
       "      <th>Min Transaction</th>\n",
       "      <td>0.214116</td>\n",
       "    </tr>\n",
       "    <tr>\n",
       "      <th>Max Transaction</th>\n",
       "      <td>0.228166</td>\n",
       "    </tr>\n",
       "    <tr>\n",
       "      <th>LastAccountBalance</th>\n",
       "      <td>0.213451</td>\n",
       "    </tr>\n",
       "    <tr>\n",
       "      <th>Class_income</th>\n",
       "      <td>0.782699</td>\n",
       "    </tr>\n",
       "    <tr>\n",
       "      <th>Percentual_of_total</th>\n",
       "      <td>0.213451</td>\n",
       "    </tr>\n",
       "    <tr>\n",
       "      <th>Top100</th>\n",
       "      <td>0.210597</td>\n",
       "    </tr>\n",
       "    <tr>\n",
       "      <th>Number_of_transaction_10000</th>\n",
       "      <td>0.106200</td>\n",
       "    </tr>\n",
       "    <tr>\n",
       "      <th>M</th>\n",
       "      <td>0.512233</td>\n",
       "    </tr>\n",
       "    <tr>\n",
       "      <th>F</th>\n",
       "      <td>0.525306</td>\n",
       "    </tr>\n",
       "    <tr>\n",
       "      <th>FM</th>\n",
       "      <td>0.325593</td>\n",
       "    </tr>\n",
       "  </tbody>\n",
       "</table>\n",
       "</div>"
      ],
      "text/plain": [
       "                             communalities\n",
       "TOT TransactionAmount (INR)       0.227473\n",
       "Number_of_transaction             0.375323\n",
       "Number_of_transaction_100         0.303033\n",
       "Average_transaction_amount        0.232553\n",
       "Average_amount_balance            0.209724\n",
       "Average_Utilisation               0.209887\n",
       "Age_in_2016                       0.478738\n",
       "Major                             0.997104\n",
       "Old                               0.634352\n",
       "Min Transaction                   0.214116\n",
       "Max Transaction                   0.228166\n",
       "LastAccountBalance                0.213451\n",
       "Class_income                      0.782699\n",
       "Percentual_of_total               0.213451\n",
       "Top100                            0.210597\n",
       "Number_of_transaction_10000       0.106200\n",
       "M                                 0.512233\n",
       "F                                 0.525306\n",
       "FM                                0.325593"
      ]
     },
     "execution_count": 14,
     "metadata": {},
     "output_type": "execute_result"
    }
   ],
   "source": [
    "pca = PCA(n_components=7)\n",
    "pca.fit(data)\n",
    "\n",
    "\n",
    "factor_pattern=pd.DataFrame(pca.components_,columns=cols).T\n",
    "\n",
    "cols_to_delete=factor_pattern.columns\n",
    "factor_pattern[\"communalities\"]=factor_pattern.apply(lambda x :np.sum(np.square(x)),axis=1 )\n",
    "communalities=factor_pattern.drop(columns=cols_to_delete)\n",
    "communalities"
   ]
  },
  {
   "cell_type": "code",
   "execution_count": 15,
   "id": "26d971a0-012b-46be-861b-e43ee7dd763b",
   "metadata": {
    "tags": []
   },
   "outputs": [
    {
     "data": {
      "text/html": [
       "<div>\n",
       "<style scoped>\n",
       "    .dataframe tbody tr th:only-of-type {\n",
       "        vertical-align: middle;\n",
       "    }\n",
       "\n",
       "    .dataframe tbody tr th {\n",
       "        vertical-align: top;\n",
       "    }\n",
       "\n",
       "    .dataframe thead th {\n",
       "        text-align: right;\n",
       "    }\n",
       "</style>\n",
       "<table border=\"1\" class=\"dataframe\">\n",
       "  <thead>\n",
       "    <tr style=\"text-align: right;\">\n",
       "      <th></th>\n",
       "      <th>communalities</th>\n",
       "    </tr>\n",
       "  </thead>\n",
       "  <tbody>\n",
       "    <tr>\n",
       "      <th>TOT TransactionAmount (INR)</th>\n",
       "      <td>0.229654</td>\n",
       "    </tr>\n",
       "    <tr>\n",
       "      <th>Number_of_transaction</th>\n",
       "      <td>0.380177</td>\n",
       "    </tr>\n",
       "    <tr>\n",
       "      <th>Number_of_transaction_100</th>\n",
       "      <td>0.620034</td>\n",
       "    </tr>\n",
       "    <tr>\n",
       "      <th>Average_transaction_amount</th>\n",
       "      <td>0.238581</td>\n",
       "    </tr>\n",
       "    <tr>\n",
       "      <th>Average_amount_balance</th>\n",
       "      <td>0.210002</td>\n",
       "    </tr>\n",
       "    <tr>\n",
       "      <th>Average_Utilisation</th>\n",
       "      <td>0.210185</td>\n",
       "    </tr>\n",
       "    <tr>\n",
       "      <th>Age_in_2016</th>\n",
       "      <td>0.519646</td>\n",
       "    </tr>\n",
       "    <tr>\n",
       "      <th>Major</th>\n",
       "      <td>0.997371</td>\n",
       "    </tr>\n",
       "    <tr>\n",
       "      <th>Old</th>\n",
       "      <td>0.670247</td>\n",
       "    </tr>\n",
       "    <tr>\n",
       "      <th>Min Transaction</th>\n",
       "      <td>0.226099</td>\n",
       "    </tr>\n",
       "    <tr>\n",
       "      <th>Max Transaction</th>\n",
       "      <td>0.230066</td>\n",
       "    </tr>\n",
       "    <tr>\n",
       "      <th>LastAccountBalance</th>\n",
       "      <td>0.213685</td>\n",
       "    </tr>\n",
       "    <tr>\n",
       "      <th>Class_income</th>\n",
       "      <td>0.840232</td>\n",
       "    </tr>\n",
       "    <tr>\n",
       "      <th>Percentual_of_total</th>\n",
       "      <td>0.213685</td>\n",
       "    </tr>\n",
       "    <tr>\n",
       "      <th>Top100</th>\n",
       "      <td>0.227250</td>\n",
       "    </tr>\n",
       "    <tr>\n",
       "      <th>Number_of_transaction_10000</th>\n",
       "      <td>0.322716</td>\n",
       "    </tr>\n",
       "    <tr>\n",
       "      <th>M</th>\n",
       "      <td>0.520600</td>\n",
       "    </tr>\n",
       "    <tr>\n",
       "      <th>F</th>\n",
       "      <td>0.559670</td>\n",
       "    </tr>\n",
       "    <tr>\n",
       "      <th>FM</th>\n",
       "      <td>0.570099</td>\n",
       "    </tr>\n",
       "  </tbody>\n",
       "</table>\n",
       "</div>"
      ],
      "text/plain": [
       "                             communalities\n",
       "TOT TransactionAmount (INR)       0.229654\n",
       "Number_of_transaction             0.380177\n",
       "Number_of_transaction_100         0.620034\n",
       "Average_transaction_amount        0.238581\n",
       "Average_amount_balance            0.210002\n",
       "Average_Utilisation               0.210185\n",
       "Age_in_2016                       0.519646\n",
       "Major                             0.997371\n",
       "Old                               0.670247\n",
       "Min Transaction                   0.226099\n",
       "Max Transaction                   0.230066\n",
       "LastAccountBalance                0.213685\n",
       "Class_income                      0.840232\n",
       "Percentual_of_total               0.213685\n",
       "Top100                            0.227250\n",
       "Number_of_transaction_10000       0.322716\n",
       "M                                 0.520600\n",
       "F                                 0.559670\n",
       "FM                                0.570099"
      ]
     },
     "execution_count": 15,
     "metadata": {},
     "output_type": "execute_result"
    }
   ],
   "source": [
    "pca = PCA(n_components=8)\n",
    "pca.fit(data)\n",
    "\n",
    "\n",
    "factor_pattern=pd.DataFrame(pca.components_,columns=cols).T\n",
    "\n",
    "cols_to_delete=factor_pattern.columns\n",
    "factor_pattern[\"communalities\"]=factor_pattern.apply(lambda x :np.sum(np.square(x)),axis=1 )\n",
    "communalities=factor_pattern.drop(columns=cols_to_delete)\n",
    "communalities"
   ]
  },
  {
   "cell_type": "markdown",
   "id": "f2347a51-5288-4507-a872-ed2fbea83727",
   "metadata": {},
   "source": [
    "With the analysis of the communalities we choose eight components.  \n",
    "We made this choice because the communalities doesn't grow up enough when we add a component after the 8th, but there is a bigger increase when we add the eight's one."
   ]
  },
  {
   "cell_type": "markdown",
   "id": "e93b7c47-7792-45d8-9937-c74a5bdbed9d",
   "metadata": {},
   "source": [
    "#### Factor pattern\n",
    "With the factor pattern we can understand how the pcas are correlated with the other features."
   ]
  },
  {
   "cell_type": "code",
   "execution_count": 16,
   "id": "7910edea-462a-4ad8-9c95-dd769c049861",
   "metadata": {},
   "outputs": [
    {
     "data": {
      "text/html": [
       "<div>\n",
       "<style scoped>\n",
       "    .dataframe tbody tr th:only-of-type {\n",
       "        vertical-align: middle;\n",
       "    }\n",
       "\n",
       "    .dataframe tbody tr th {\n",
       "        vertical-align: top;\n",
       "    }\n",
       "\n",
       "    .dataframe thead th {\n",
       "        text-align: right;\n",
       "    }\n",
       "</style>\n",
       "<table border=\"1\" class=\"dataframe\">\n",
       "  <thead>\n",
       "    <tr style=\"text-align: right;\">\n",
       "      <th></th>\n",
       "      <th>0</th>\n",
       "      <th>1</th>\n",
       "      <th>2</th>\n",
       "      <th>3</th>\n",
       "      <th>4</th>\n",
       "      <th>5</th>\n",
       "      <th>6</th>\n",
       "      <th>7</th>\n",
       "    </tr>\n",
       "  </thead>\n",
       "  <tbody>\n",
       "    <tr>\n",
       "      <th>TOT TransactionAmount (INR)</th>\n",
       "      <td>0.227159</td>\n",
       "      <td>0.415494</td>\n",
       "      <td>0.010518</td>\n",
       "      <td>-0.009750</td>\n",
       "      <td>0.045762</td>\n",
       "      <td>0.003512</td>\n",
       "      <td>0.030398</td>\n",
       "      <td>0.046706</td>\n",
       "    </tr>\n",
       "    <tr>\n",
       "      <th>Number_of_transaction</th>\n",
       "      <td>0.020960</td>\n",
       "      <td>0.038308</td>\n",
       "      <td>-0.557799</td>\n",
       "      <td>-0.231503</td>\n",
       "      <td>0.076975</td>\n",
       "      <td>0.005185</td>\n",
       "      <td>0.052253</td>\n",
       "      <td>0.069675</td>\n",
       "    </tr>\n",
       "    <tr>\n",
       "      <th>Number_of_transaction_100</th>\n",
       "      <td>0.052322</td>\n",
       "      <td>0.065328</td>\n",
       "      <td>-0.490238</td>\n",
       "      <td>-0.177791</td>\n",
       "      <td>-0.054162</td>\n",
       "      <td>-0.021529</td>\n",
       "      <td>-0.143831</td>\n",
       "      <td>0.563029</td>\n",
       "    </tr>\n",
       "    <tr>\n",
       "      <th>Average_transaction_amount</th>\n",
       "      <td>0.227461</td>\n",
       "      <td>0.416651</td>\n",
       "      <td>0.069490</td>\n",
       "      <td>0.015299</td>\n",
       "      <td>0.038011</td>\n",
       "      <td>0.002670</td>\n",
       "      <td>0.026488</td>\n",
       "      <td>0.077641</td>\n",
       "    </tr>\n",
       "    <tr>\n",
       "      <th>Average_amount_balance</th>\n",
       "      <td>0.400127</td>\n",
       "      <td>-0.220354</td>\n",
       "      <td>0.006866</td>\n",
       "      <td>0.001531</td>\n",
       "      <td>0.031841</td>\n",
       "      <td>-0.000065</td>\n",
       "      <td>0.001735</td>\n",
       "      <td>-0.016658</td>\n",
       "    </tr>\n",
       "    <tr>\n",
       "      <th>Average_Utilisation</th>\n",
       "      <td>0.398534</td>\n",
       "      <td>-0.223645</td>\n",
       "      <td>0.006334</td>\n",
       "      <td>0.001414</td>\n",
       "      <td>0.031561</td>\n",
       "      <td>-0.000086</td>\n",
       "      <td>0.001532</td>\n",
       "      <td>-0.017262</td>\n",
       "    </tr>\n",
       "    <tr>\n",
       "      <th>Age_in_2016</th>\n",
       "      <td>0.089721</td>\n",
       "      <td>0.024701</td>\n",
       "      <td>-0.032483</td>\n",
       "      <td>-0.071375</td>\n",
       "      <td>-0.680942</td>\n",
       "      <td>0.012319</td>\n",
       "      <td>0.009747</td>\n",
       "      <td>0.202256</td>\n",
       "    </tr>\n",
       "    <tr>\n",
       "      <th>Major</th>\n",
       "      <td>0.001966</td>\n",
       "      <td>-0.000515</td>\n",
       "      <td>-0.000303</td>\n",
       "      <td>0.001804</td>\n",
       "      <td>-0.071736</td>\n",
       "      <td>-0.976998</td>\n",
       "      <td>0.193459</td>\n",
       "      <td>-0.016318</td>\n",
       "    </tr>\n",
       "    <tr>\n",
       "      <th>Old</th>\n",
       "      <td>0.038413</td>\n",
       "      <td>0.000513</td>\n",
       "      <td>-0.015686</td>\n",
       "      <td>-0.021155</td>\n",
       "      <td>-0.621500</td>\n",
       "      <td>0.171089</td>\n",
       "      <td>0.465455</td>\n",
       "      <td>-0.189461</td>\n",
       "    </tr>\n",
       "    <tr>\n",
       "      <th>Min Transaction</th>\n",
       "      <td>0.214296</td>\n",
       "      <td>0.393149</td>\n",
       "      <td>0.106287</td>\n",
       "      <td>0.032200</td>\n",
       "      <td>0.029401</td>\n",
       "      <td>0.001789</td>\n",
       "      <td>0.020638</td>\n",
       "      <td>0.109467</td>\n",
       "    </tr>\n",
       "    <tr>\n",
       "      <th>Max Transaction</th>\n",
       "      <td>0.227085</td>\n",
       "      <td>0.415767</td>\n",
       "      <td>0.027074</td>\n",
       "      <td>-0.003202</td>\n",
       "      <td>0.044940</td>\n",
       "      <td>0.003624</td>\n",
       "      <td>0.030986</td>\n",
       "      <td>0.043590</td>\n",
       "    </tr>\n",
       "    <tr>\n",
       "      <th>LastAccountBalance</th>\n",
       "      <td>0.401962</td>\n",
       "      <td>-0.224643</td>\n",
       "      <td>0.006432</td>\n",
       "      <td>0.002489</td>\n",
       "      <td>0.036865</td>\n",
       "      <td>-0.000246</td>\n",
       "      <td>0.002510</td>\n",
       "      <td>-0.015280</td>\n",
       "    </tr>\n",
       "    <tr>\n",
       "      <th>Class_income</th>\n",
       "      <td>0.146725</td>\n",
       "      <td>-0.008831</td>\n",
       "      <td>-0.058465</td>\n",
       "      <td>0.042636</td>\n",
       "      <td>-0.315056</td>\n",
       "      <td>-0.118767</td>\n",
       "      <td>-0.801555</td>\n",
       "      <td>-0.239861</td>\n",
       "    </tr>\n",
       "    <tr>\n",
       "      <th>Percentual_of_total</th>\n",
       "      <td>0.401962</td>\n",
       "      <td>-0.224643</td>\n",
       "      <td>0.006432</td>\n",
       "      <td>0.002489</td>\n",
       "      <td>0.036865</td>\n",
       "      <td>-0.000246</td>\n",
       "      <td>0.002510</td>\n",
       "      <td>-0.015280</td>\n",
       "    </tr>\n",
       "    <tr>\n",
       "      <th>Top100</th>\n",
       "      <td>0.311682</td>\n",
       "      <td>-0.195766</td>\n",
       "      <td>0.012521</td>\n",
       "      <td>0.001151</td>\n",
       "      <td>0.125975</td>\n",
       "      <td>0.032177</td>\n",
       "      <td>0.240964</td>\n",
       "      <td>0.129049</td>\n",
       "    </tr>\n",
       "    <tr>\n",
       "      <th>Number_of_transaction_10000</th>\n",
       "      <td>0.159193</td>\n",
       "      <td>0.283868</td>\n",
       "      <td>0.003208</td>\n",
       "      <td>-0.013006</td>\n",
       "      <td>0.009281</td>\n",
       "      <td>-0.000433</td>\n",
       "      <td>-0.003317</td>\n",
       "      <td>-0.465313</td>\n",
       "    </tr>\n",
       "    <tr>\n",
       "      <th>M</th>\n",
       "      <td>-0.010392</td>\n",
       "      <td>-0.022143</td>\n",
       "      <td>0.358699</td>\n",
       "      <td>-0.615204</td>\n",
       "      <td>-0.002209</td>\n",
       "      <td>-0.011797</td>\n",
       "      <td>-0.065958</td>\n",
       "      <td>0.091468</td>\n",
       "    </tr>\n",
       "    <tr>\n",
       "      <th>F</th>\n",
       "      <td>0.001980</td>\n",
       "      <td>0.005834</td>\n",
       "      <td>-0.075612</td>\n",
       "      <td>0.719240</td>\n",
       "      <td>-0.047167</td>\n",
       "      <td>0.003988</td>\n",
       "      <td>0.001923</td>\n",
       "      <td>0.185375</td>\n",
       "    </tr>\n",
       "    <tr>\n",
       "      <th>FM</th>\n",
       "      <td>0.016025</td>\n",
       "      <td>0.031331</td>\n",
       "      <td>-0.540480</td>\n",
       "      <td>-0.100441</td>\n",
       "      <td>0.086337</td>\n",
       "      <td>0.015159</td>\n",
       "      <td>0.120264</td>\n",
       "      <td>-0.494476</td>\n",
       "    </tr>\n",
       "  </tbody>\n",
       "</table>\n",
       "</div>"
      ],
      "text/plain": [
       "                                    0         1         2         3         4  \\\n",
       "TOT TransactionAmount (INR)  0.227159  0.415494  0.010518 -0.009750  0.045762   \n",
       "Number_of_transaction        0.020960  0.038308 -0.557799 -0.231503  0.076975   \n",
       "Number_of_transaction_100    0.052322  0.065328 -0.490238 -0.177791 -0.054162   \n",
       "Average_transaction_amount   0.227461  0.416651  0.069490  0.015299  0.038011   \n",
       "Average_amount_balance       0.400127 -0.220354  0.006866  0.001531  0.031841   \n",
       "Average_Utilisation          0.398534 -0.223645  0.006334  0.001414  0.031561   \n",
       "Age_in_2016                  0.089721  0.024701 -0.032483 -0.071375 -0.680942   \n",
       "Major                        0.001966 -0.000515 -0.000303  0.001804 -0.071736   \n",
       "Old                          0.038413  0.000513 -0.015686 -0.021155 -0.621500   \n",
       "Min Transaction              0.214296  0.393149  0.106287  0.032200  0.029401   \n",
       "Max Transaction              0.227085  0.415767  0.027074 -0.003202  0.044940   \n",
       "LastAccountBalance           0.401962 -0.224643  0.006432  0.002489  0.036865   \n",
       "Class_income                 0.146725 -0.008831 -0.058465  0.042636 -0.315056   \n",
       "Percentual_of_total          0.401962 -0.224643  0.006432  0.002489  0.036865   \n",
       "Top100                       0.311682 -0.195766  0.012521  0.001151  0.125975   \n",
       "Number_of_transaction_10000  0.159193  0.283868  0.003208 -0.013006  0.009281   \n",
       "M                           -0.010392 -0.022143  0.358699 -0.615204 -0.002209   \n",
       "F                            0.001980  0.005834 -0.075612  0.719240 -0.047167   \n",
       "FM                           0.016025  0.031331 -0.540480 -0.100441  0.086337   \n",
       "\n",
       "                                    5         6         7  \n",
       "TOT TransactionAmount (INR)  0.003512  0.030398  0.046706  \n",
       "Number_of_transaction        0.005185  0.052253  0.069675  \n",
       "Number_of_transaction_100   -0.021529 -0.143831  0.563029  \n",
       "Average_transaction_amount   0.002670  0.026488  0.077641  \n",
       "Average_amount_balance      -0.000065  0.001735 -0.016658  \n",
       "Average_Utilisation         -0.000086  0.001532 -0.017262  \n",
       "Age_in_2016                  0.012319  0.009747  0.202256  \n",
       "Major                       -0.976998  0.193459 -0.016318  \n",
       "Old                          0.171089  0.465455 -0.189461  \n",
       "Min Transaction              0.001789  0.020638  0.109467  \n",
       "Max Transaction              0.003624  0.030986  0.043590  \n",
       "LastAccountBalance          -0.000246  0.002510 -0.015280  \n",
       "Class_income                -0.118767 -0.801555 -0.239861  \n",
       "Percentual_of_total         -0.000246  0.002510 -0.015280  \n",
       "Top100                       0.032177  0.240964  0.129049  \n",
       "Number_of_transaction_10000 -0.000433 -0.003317 -0.465313  \n",
       "M                           -0.011797 -0.065958  0.091468  \n",
       "F                            0.003988  0.001923  0.185375  \n",
       "FM                           0.015159  0.120264 -0.494476  "
      ]
     },
     "execution_count": 16,
     "metadata": {},
     "output_type": "execute_result"
    }
   ],
   "source": [
    "factor_pattern.drop(columns=[\"communalities\"],inplace=True)\n",
    "factor_pattern"
   ]
  },
  {
   "cell_type": "markdown",
   "id": "60d13dbb-abd2-4a6f-bca2-6120511cf034",
   "metadata": {},
   "source": [
    "The p number of components that we have choose explain the 85% of the total variance.\n",
    "Altought it's not very clear what meaning the pcas assume."
   ]
  },
  {
   "cell_type": "markdown",
   "id": "4ce3d122-1ee0-41a1-887a-defb3343673a",
   "metadata": {},
   "source": [
    "## Export dataset with components"
   ]
  },
  {
   "cell_type": "code",
   "execution_count": 17,
   "id": "30adfcca-4599-4a33-a076-a82259ae518f",
   "metadata": {},
   "outputs": [],
   "source": [
    "from sklearn.compose import ColumnTransformer"
   ]
  },
  {
   "cell_type": "code",
   "execution_count": 18,
   "id": "bac7e6f4-3b66-4796-9336-2169a0fc5abb",
   "metadata": {},
   "outputs": [],
   "source": [
    "pca = PCA(n_components=8)\n",
    "pca_values=pca.fit_transform(data)"
   ]
  },
  {
   "cell_type": "code",
   "execution_count": 19,
   "id": "adf5b097-ff03-4cb5-9b93-5a9895eb3d91",
   "metadata": {},
   "outputs": [],
   "source": [
    "df=pd.concat([pd.DataFrame(data.index),pd.DataFrame(pca_values)],axis=1)"
   ]
  },
  {
   "cell_type": "code",
   "execution_count": 20,
   "id": "da157022-e857-4f4f-88fe-462dd78505bf",
   "metadata": {},
   "outputs": [],
   "source": [
    "df.set_index('CustomerID',inplace=True)"
   ]
  },
  {
   "cell_type": "code",
   "execution_count": 21,
   "id": "7debad2c-a8c4-4ecf-82b2-bbe55329001d",
   "metadata": {},
   "outputs": [],
   "source": [
    "df.to_csv(\"/Users/mattia/Desktop/ADM(Aris)/HM4/pca_clients.csv\")"
   ]
  },
  {
   "cell_type": "markdown",
   "id": "a51f0ffb-e16e-4db3-82dc-5b1154b2411f",
   "metadata": {
    "jp-MarkdownHeadingCollapsed": true,
    "tags": []
   },
   "source": [
    "# 2.3 Clustering !"
   ]
  },
  {
   "cell_type": "code",
   "execution_count": 2,
   "id": "3618d063-efaf-45dc-bd37-4e7c7d6a3d6d",
   "metadata": {},
   "outputs": [
    {
     "name": "stderr",
     "output_type": "stream",
     "text": [
      "/opt/anaconda3/envs/hm/lib/python3.8/site-packages/sklearn/utils/deprecation.py:144: FutureWarning: The sklearn.metrics.classification module is  deprecated in version 0.22 and will be removed in version 0.24. The corresponding classes / functions should instead be imported from sklearn.metrics. Anything that cannot be imported from sklearn.metrics is now part of the private API.\n",
      "  warnings.warn(message, FutureWarning)\n"
     ]
    }
   ],
   "source": [
    "import pandas as pd\n",
    "import numpy as np\n",
    "from sklearn.cluster import KMeans\n",
    "from tqdm import tqdm\n",
    "from random import uniform\n",
    "import seaborn as sns\n",
    "import matplotlib.pyplot as plt\n",
    "from sklearn.metrics import silhouette_samples, silhouette_score\n",
    "\n",
    "from yellowbrick.cluster import InterclusterDistance            #The yellowbrick metrics are faster than \n",
    "from yellowbrick.cluster import SilhouetteVisualizer            #the one from slearn.metrics\n",
    "from yellowbrick.cluster import KElbowVisualizer\n",
    "pd.options.mode.chained_assignment = None\n",
    "pd.set_option('display.max_columns', None)"
   ]
  },
  {
   "cell_type": "markdown",
   "id": "c54fe5d0-2ffd-47c0-9247-22ab75ce3690",
   "metadata": {},
   "source": [
    "Since we have done the PCA we will use the PCA's dataset and not the original one."
   ]
  },
  {
   "cell_type": "code",
   "execution_count": 3,
   "id": "2356e44f-04b5-47b0-b4bf-276ea381a641",
   "metadata": {},
   "outputs": [
    {
     "data": {
      "text/html": [
       "<div>\n",
       "<style scoped>\n",
       "    .dataframe tbody tr th:only-of-type {\n",
       "        vertical-align: middle;\n",
       "    }\n",
       "\n",
       "    .dataframe tbody tr th {\n",
       "        vertical-align: top;\n",
       "    }\n",
       "\n",
       "    .dataframe thead th {\n",
       "        text-align: right;\n",
       "    }\n",
       "</style>\n",
       "<table border=\"1\" class=\"dataframe\">\n",
       "  <thead>\n",
       "    <tr style=\"text-align: right;\">\n",
       "      <th></th>\n",
       "      <th>0</th>\n",
       "      <th>1</th>\n",
       "      <th>2</th>\n",
       "      <th>3</th>\n",
       "      <th>4</th>\n",
       "      <th>5</th>\n",
       "      <th>6</th>\n",
       "      <th>7</th>\n",
       "    </tr>\n",
       "    <tr>\n",
       "      <th>CustomerID</th>\n",
       "      <th></th>\n",
       "      <th></th>\n",
       "      <th></th>\n",
       "      <th></th>\n",
       "      <th></th>\n",
       "      <th></th>\n",
       "      <th></th>\n",
       "      <th></th>\n",
       "    </tr>\n",
       "  </thead>\n",
       "  <tbody>\n",
       "    <tr>\n",
       "      <th>C1010011</th>\n",
       "      <td>0.277082</td>\n",
       "      <td>0.757529</td>\n",
       "      <td>-4.507943</td>\n",
       "      <td>-0.584938</td>\n",
       "      <td>0.962772</td>\n",
       "      <td>-0.033431</td>\n",
       "      <td>0.142159</td>\n",
       "      <td>-1.019176</td>\n",
       "    </tr>\n",
       "    <tr>\n",
       "      <th>C1010012</th>\n",
       "      <td>-0.265316</td>\n",
       "      <td>-0.019307</td>\n",
       "      <td>0.619049</td>\n",
       "      <td>-0.628901</td>\n",
       "      <td>0.628131</td>\n",
       "      <td>-0.099925</td>\n",
       "      <td>-0.382775</td>\n",
       "      <td>-0.075813</td>\n",
       "    </tr>\n",
       "    <tr>\n",
       "      <th>C1010014</th>\n",
       "      <td>0.317520</td>\n",
       "      <td>0.081817</td>\n",
       "      <td>-4.630823</td>\n",
       "      <td>-0.532873</td>\n",
       "      <td>0.416090</td>\n",
       "      <td>-0.196455</td>\n",
       "      <td>-0.974666</td>\n",
       "      <td>-1.399122</td>\n",
       "    </tr>\n",
       "    <tr>\n",
       "      <th>C1010018</th>\n",
       "      <td>-0.735395</td>\n",
       "      <td>-0.407058</td>\n",
       "      <td>0.560564</td>\n",
       "      <td>2.587314</td>\n",
       "      <td>0.624880</td>\n",
       "      <td>0.137512</td>\n",
       "      <td>1.081094</td>\n",
       "      <td>-0.487843</td>\n",
       "    </tr>\n",
       "    <tr>\n",
       "      <th>C1010024</th>\n",
       "      <td>0.655798</td>\n",
       "      <td>0.906741</td>\n",
       "      <td>0.635878</td>\n",
       "      <td>-0.845409</td>\n",
       "      <td>-1.547964</td>\n",
       "      <td>-0.052474</td>\n",
       "      <td>-0.289689</td>\n",
       "      <td>0.752177</td>\n",
       "    </tr>\n",
       "  </tbody>\n",
       "</table>\n",
       "</div>"
      ],
      "text/plain": [
       "                   0         1         2         3         4         5  \\\n",
       "CustomerID                                                               \n",
       "C1010011    0.277082  0.757529 -4.507943 -0.584938  0.962772 -0.033431   \n",
       "C1010012   -0.265316 -0.019307  0.619049 -0.628901  0.628131 -0.099925   \n",
       "C1010014    0.317520  0.081817 -4.630823 -0.532873  0.416090 -0.196455   \n",
       "C1010018   -0.735395 -0.407058  0.560564  2.587314  0.624880  0.137512   \n",
       "C1010024    0.655798  0.906741  0.635878 -0.845409 -1.547964 -0.052474   \n",
       "\n",
       "                   6         7  \n",
       "CustomerID                      \n",
       "C1010011    0.142159 -1.019176  \n",
       "C1010012   -0.382775 -0.075813  \n",
       "C1010014   -0.974666 -1.399122  \n",
       "C1010018    1.081094 -0.487843  \n",
       "C1010024   -0.289689  0.752177  "
      ]
     },
     "execution_count": 3,
     "metadata": {},
     "output_type": "execute_result"
    }
   ],
   "source": [
    "df=pd.read_csv(\"/Users/mattia/Desktop/ADM(Aris)/HM4/pca_clients.csv\")\n",
    "\n",
    "#data=data.head(5)\n",
    "df.set_index('CustomerID',inplace=True)\n",
    "\n",
    "df.head()\n",
    "#df.drop(columns=[\"CustomerID\"],inplace=True)"
   ]
  },
  {
   "cell_type": "markdown",
   "id": "ed15c3e4-431b-4470-8edb-1a630d07aeb5",
   "metadata": {
    "jp-MarkdownHeadingCollapsed": true,
    "tags": []
   },
   "source": [
    "## KMeans implemented by us"
   ]
  },
  {
   "cell_type": "markdown",
   "id": "50e99241-85ed-4cc3-8797-e57834a68e11",
   "metadata": {
    "jp-MarkdownHeadingCollapsed": true,
    "tags": []
   },
   "source": [
    "### Randomize centroids"
   ]
  },
  {
   "cell_type": "code",
   "execution_count": 3,
   "id": "2bb53b7d-39b0-4ee3-96c1-6f8ecda9e9f6",
   "metadata": {},
   "outputs": [],
   "source": [
    "#SET Number of cluster\n",
    "k=8\n",
    "\n",
    "t=0\n",
    "\n",
    "try:\n",
    "    df.drop(columns=[\"cluster\"],inplace=True)\n",
    "except:\n",
    "    pass\n",
    "    \n",
    "\n",
    "\n",
    "n_features=df.shape[1]\n",
    "pca=[str(i) for i in range(0,n_features)]\n",
    "\n",
    "#Inizialize k centroids randomically.\n",
    "#Every centroid is a vector of n elements.\n",
    "\n",
    "## First we evaluate the minimum and the maximum of all features.\n",
    "minimi=list(df.apply(lambda x: min(x)))\n",
    "massimi=list(df.apply(lambda x: max(x)))\n",
    "\n",
    "\n",
    "centroids=[]\n",
    "#This for loop initialize n features.\n",
    "# For every centroid we take n random values.\n",
    "for i in range(k):\n",
    "    a=[uniform(minimi[j],massimi[j]) for j in range(n_features)] \n",
    "    \n",
    "    centroids.append(tuple(a))\n",
    "\n",
    "df[\"cluster\"]=0    \n",
    "    \n",
    "#Let's see the centroids    \n",
    "#centroids"
   ]
  },
  {
   "cell_type": "markdown",
   "id": "e01dcf91-bf71-4583-b172-993b344babcd",
   "metadata": {
    "jp-MarkdownHeadingCollapsed": true,
    "tags": []
   },
   "source": [
    "### Algorithm"
   ]
  },
  {
   "cell_type": "code",
   "execution_count": null,
   "id": "4ba696b9-9937-47fb-be2a-8be1bbdd42f9",
   "metadata": {},
   "outputs": [],
   "source": [
    "epsilon=0.05\n",
    "while True:\n",
    "    #Update t\n",
    "    t += 1 \n",
    "    \n",
    "    #Cluster\n",
    "    C=[[] for i in range(k)]\n",
    "    \n",
    "    \n",
    "    #For each unit we choose the most related cluster\n",
    "    for j in df[pca].index:\n",
    "        xj=np.array(df[pca].loc[j])\n",
    "\n",
    "        diz={}\n",
    "        for i in range(k):\n",
    "            diz[str(i)]=(np.linalg.norm(np.subtract(xj,centroids[i]))**2)\n",
    "            #diz[str(i)]=np.sum(np.square(np.subtract(centroids[i],xj)))\n",
    "\n",
    "        j_star=int(min(diz, key=diz.get))\n",
    "        C[j_star].append(xj)\n",
    "        df[\"cluster\"][j]=j_star\n",
    "        \n",
    "    \n",
    "    old_centroids=centroids[:]\n",
    "    \n",
    "        \n",
    "    #Updating the centroids   \n",
    "    for i in range(k):\n",
    "        if len(C[i])==0: #with this if statement we prevent error caused by cluster that are empty.\n",
    "            continue \n",
    "        centroids[i]= np.mean(C[i],axis=0)\n",
    "     \n",
    "        \n",
    "       \n",
    "    d=[np.linalg.norm(np.subtract(centroids[i],old_centroids[i]))**2 for i in range(k)]\n",
    "    #d=[np.sum(np.square(np.subtract(old_centroids[i],centroids[i]))) for i in range(k)]\n",
    "    \n",
    "   # print(d)\n",
    "    if sum(d) <= epsilon:\n",
    "        print(\"Stop after \",t,\"iteration\")\n",
    "#        print(sum(d))\n",
    "        break\n",
    "    print(t)"
   ]
  },
  {
   "cell_type": "markdown",
   "id": "9d3b09ca-7b75-46f9-ae03-11097314162d",
   "metadata": {},
   "source": [
    "This is the algorithm for the kmeans, however the built-in function is faster so we will use it for the analysis\n",
    "of the cluster and figure it out the best k."
   ]
  },
  {
   "cell_type": "markdown",
   "id": "24215f70-6ced-41a9-8934-f176c887a355",
   "metadata": {
    "jp-MarkdownHeadingCollapsed": true,
    "tags": []
   },
   "source": [
    "## Kmeans with sklearn.cluster"
   ]
  },
  {
   "cell_type": "markdown",
   "id": "a3d39e3f-9912-4ec5-b34b-d1c70109607c",
   "metadata": {
    "jp-MarkdownHeadingCollapsed": true,
    "tags": []
   },
   "source": [
    "### Model evaluation, find an optimal number of clusters"
   ]
  },
  {
   "cell_type": "markdown",
   "id": "738bb1e2-5ba5-4f6f-8b23-17486c8be3de",
   "metadata": {},
   "source": [
    "For figure it out the optimal number of cluster will be use:\n",
    "- Elbow method\n",
    "- Silhouette\n",
    "- InterclusterDistance\n",
    " \n",
    "We will use the yellowbrick version of those metrics.  \n",
    "Also use the silhouette score from  **sklearn.metrics** \n",
    "particularly silhouette_score."
   ]
  },
  {
   "cell_type": "markdown",
   "id": "a8bf1a9d-00c1-4fbc-b2d3-a62f5db445e8",
   "metadata": {
    "jp-MarkdownHeadingCollapsed": true,
    "tags": []
   },
   "source": [
    "### Elbow method"
   ]
  },
  {
   "cell_type": "markdown",
   "id": "4daa311d-aca9-43e1-9127-0e845c6cd93c",
   "metadata": {},
   "source": [
    "In the elbow method we plot a graph that shows :\n",
    "-  Sum of squared distances tby k-th cluster (SSE) **y axis**\n",
    "-  number  of the clusters **x axis** \n",
    "\n",
    "Since the goal is to minimize the SSE with this graph we can check if the decrease of SSE, obtained by adding a cluster, is worthful or not.  \n",
    "If  it is worthful we can choose to add another cluster."
   ]
  },
  {
   "cell_type": "code",
   "execution_count": 4,
   "id": "8335802f-c615-42ca-ad07-928578f2b4e3",
   "metadata": {},
   "outputs": [
    {
     "name": "stderr",
     "output_type": "stream",
     "text": [
      "100%|███████████████████████████████████████████| 99/99 [00:23<00:00,  4.22it/s]\n"
     ]
    }
   ],
   "source": [
    "#In this chunck we take the SSE of the k-th clusters from the attribute of the KMeans\n",
    "#method from scikit-learn\n",
    "sd = {}\n",
    "for k in tqdm(range(1, 100)):\n",
    "    #Set the model\n",
    "    model = KMeans(n_clusters=k,random_state=30)\n",
    "    #Get the cluster for each row.\n",
    "    modello=model.fit_predict(df)\n",
    "    sd[k] = model.inertia_\n",
    "\n",
    "#Coordinate for Sum of squared distances\n",
    "x=[i for i in sd.keys()]\n",
    "y=[sd[i] for i in sd.keys()]"
   ]
  },
  {
   "cell_type": "markdown",
   "id": "df25a311-de13-42a6-a369-017158a232e4",
   "metadata": {},
   "source": [
    "#### Sum of squared distances graph (Elbow method)"
   ]
  },
  {
   "cell_type": "code",
   "execution_count": 109,
   "id": "6f4bb9fa-4e89-4351-9024-8b24a69c110a",
   "metadata": {},
   "outputs": [
    {
     "data": {
      "image/png": "[encoded data removed]",
      "text/plain": [
       "<Figure size 4000x1000 with 1 Axes>"
      ]
     },
     "metadata": {},
     "output_type": "display_data"
    }
   ],
   "source": [
    "f = plt.figure()\n",
    "plt.plot(x,y,\"bo-\",label=\"Plot 1\")     \n",
    "plt.grid()\n",
    "plt.ylabel('Sum of squared distances')\n",
    "plt.xlabel('k')\n",
    "plt.xticks(np.arange(min(x), max(x)+1, 1.0))\n",
    "f.set_figwidth(40)\n",
    "f.set_figheight(10)\n",
    "plt.show()"
   ]
  },
  {
   "cell_type": "markdown",
   "id": "72374ab4-0321-4272-90a3-9f6b4ffd0a66",
   "metadata": {},
   "source": [
    "Looking at the elbow method seems that the best number of cluster that we can obtain is between 2 and 10.  \n",
    "Let's seek for confirm using the silhouette method."
   ]
  },
  {
   "cell_type": "markdown",
   "id": "b0048e76-bf74-4e7f-a7d1-ec63e4a2a4d3",
   "metadata": {
    "jp-MarkdownHeadingCollapsed": true,
    "tags": []
   },
   "source": [
    "### Silhouette"
   ]
  },
  {
   "cell_type": "markdown",
   "id": "099ab8af-b710-419f-966c-7f8a07916552",
   "metadata": {},
   "source": [
    "The silhouette are a metric useful to understand how a statistical unit is close to the other in his cluster and how far he is from the other that are not in his cluster.\n",
    "More specifically, if the silhouette score is :\n",
    "- silhouette score near to 1 : the cluster are very distint\n",
    "- silhouette score near to 0 : there is overlapping between clusters\n",
    "- silhouette score is negative : there are some unit that have been assing in the wrong clusters."
   ]
  },
  {
   "cell_type": "markdown",
   "id": "7cfb992e-ba81-446e-b665-5184568b9d64",
   "metadata": {
    "jp-MarkdownHeadingCollapsed": true,
    "tags": []
   },
   "source": [
    "#### Average silhouette by sklearn.metrics"
   ]
  },
  {
   "cell_type": "markdown",
   "id": "5406b754-8e85-4c38-8879-9df4501dc113",
   "metadata": {},
   "source": [
    "Since the silhouette was too hard to computer for the entire dataset we are taking sample.  \n",
    "We will take 20 different sample with size 50000 unit for each.  \n",
    "Once that we have all the samples we take the mean and evaluate the final silhouette."
   ]
  },
  {
   "cell_type": "code",
   "execution_count": 47,
   "id": "deebe3ea-e5e0-43b2-b415-00302d9aa41a",
   "metadata": {},
   "outputs": [
    {
     "name": "stderr",
     "output_type": "stream",
     "text": [
      "100%|███████████████████████████████████████████| 13/13 [03:53<00:00, 17.97s/it]\n",
      "100%|███████████████████████████████████████████| 13/13 [03:44<00:00, 17.28s/it]\n",
      "100%|███████████████████████████████████████████| 13/13 [03:40<00:00, 16.98s/it]\n",
      "100%|███████████████████████████████████████████| 13/13 [03:39<00:00, 16.86s/it]\n",
      "100%|███████████████████████████████████████████| 13/13 [03:41<00:00, 17.05s/it]\n",
      "100%|███████████████████████████████████████████| 13/13 [03:38<00:00, 16.78s/it]\n",
      "100%|███████████████████████████████████████████| 13/13 [03:40<00:00, 16.96s/it]\n",
      "100%|███████████████████████████████████████████| 13/13 [03:41<00:00, 17.00s/it]\n",
      "100%|███████████████████████████████████████████| 13/13 [03:38<00:00, 16.83s/it]\n",
      "100%|███████████████████████████████████████████| 13/13 [03:43<00:00, 17.22s/it]\n",
      "100%|███████████████████████████████████████████| 13/13 [03:37<00:00, 16.71s/it]\n",
      "100%|███████████████████████████████████████████| 13/13 [03:35<00:00, 16.56s/it]\n",
      "100%|███████████████████████████████████████████| 13/13 [03:35<00:00, 16.55s/it]\n",
      "100%|███████████████████████████████████████████| 13/13 [03:37<00:00, 16.76s/it]\n",
      "100%|███████████████████████████████████████████| 13/13 [03:35<00:00, 16.61s/it]\n",
      "100%|███████████████████████████████████████████| 13/13 [03:37<00:00, 16.75s/it]\n",
      "100%|███████████████████████████████████████████| 13/13 [03:34<00:00, 16.50s/it]\n",
      "100%|███████████████████████████████████████████| 13/13 [03:41<00:00, 17.03s/it]\n",
      "100%|███████████████████████████████████████████| 13/13 [03:40<00:00, 16.99s/it]\n",
      "100%|███████████████████████████████████████████| 13/13 [03:42<00:00, 17.09s/it]\n"
     ]
    }
   ],
   "source": [
    "total={}\n",
    "for i in range(20):\n",
    "    silhouette={}\n",
    "    for k in tqdm(range(2, 15)):\n",
    "        #Set the model\n",
    "        model = KMeans(n_clusters=k,random_state=30)\n",
    "        #Get the cluster for each row.\n",
    "        df_sample=df.sample(50000)\n",
    "        modello=model.fit_predict(df_sample)\n",
    "        if k > 1:\n",
    "            silhouette[k] = silhouette_score(df_sample,modello)\n",
    "            #silhouette[k] =  silhouette_samples(df,modello)\n",
    "\n",
    "\n",
    "    #Coordinate for silhouette\n",
    "    x1=[i for i in silhouette.keys()]\n",
    "    y1=[silhouette[i] for i in silhouette.keys()]    \n",
    "    \n",
    "    total[i]=[x1,y1]"
   ]
  },
  {
   "cell_type": "code",
   "execution_count": 55,
   "id": "ac232808-eae2-4525-920a-aae057aa7783",
   "metadata": {},
   "outputs": [],
   "source": [
    "a=[]\n",
    "for i in total.keys():\n",
    "    a.append(total[i][1])\n",
    "final_silhouette=np.mean(np.array(a),axis=0)"
   ]
  },
  {
   "cell_type": "code",
   "execution_count": 62,
   "id": "519a1908-671d-4826-a909-bceb4a62de1b",
   "metadata": {},
   "outputs": [
    {
     "data": {
      "image/png": "[encoded data removed]",
      "text/plain": [
       "<Figure size 4000x1000 with 1 Axes>"
      ]
     },
     "metadata": {},
     "output_type": "display_data"
    }
   ],
   "source": [
    "f = plt.figure()\n",
    "\n",
    "plt.plot(total[0][0],final_silhouette,\"bo-\",label=\"Plot 1\")     \n",
    "plt.grid()\n",
    "plt.ylabel('silhouette')\n",
    "plt.xlabel('k')\n",
    "f.set_figwidth(40)\n",
    "f.set_figheight(10)\n",
    "plt.xticks(np.arange(min(x1), max(x1)+1, 1.0))\n",
    "plt.show()"
   ]
  },
  {
   "cell_type": "markdown",
   "id": "a8ebba3a-467d-439a-b0e2-a5ce40fd14a9",
   "metadata": {},
   "source": [
    "With the analysis of the average silhouette seems that 2 or 3 clusters are very a good choice.    \n",
    "Altough if we compare the average silhouette with the results of the elbow method it seems that\n",
    "the cluster are the optimal between 5 and 8."
   ]
  },
  {
   "cell_type": "markdown",
   "id": "bc2a3a30-c99a-41d7-990e-edf66b84d1d8",
   "metadata": {},
   "source": [
    "Let's have a look on the quantity of the clusters.  \n",
    "It seems that 6th,7th,8th clusters are very small, so in the end we take 5 clusters."
   ]
  },
  {
   "cell_type": "code",
   "execution_count": 18,
   "id": "bee888dc-805e-4360-82a0-f5b77b1bb096",
   "metadata": {},
   "outputs": [
    {
     "name": "stdout",
     "output_type": "stream",
     "text": [
      "=======================\n",
      "5 clusters\n",
      "0    66.873162\n",
      "1    23.943696\n",
      "2     7.145556\n",
      "4     2.025549\n",
      "3     0.012037\n",
      "Name: cluster, dtype: float64\n",
      "=======================\n",
      "6 clusters\n",
      "0    66.836456\n",
      "3    23.933923\n",
      "4     7.140908\n",
      "1     2.024834\n",
      "5     0.051842\n",
      "2     0.012037\n",
      "Name: cluster, dtype: float64\n",
      "=======================\n",
      "7 clusters\n",
      "5    66.559963\n",
      "1    23.796749\n",
      "2     6.983593\n",
      "0     2.076319\n",
      "6     0.479811\n",
      "4     0.091529\n",
      "3     0.012037\n",
      "Name: cluster, dtype: float64\n",
      "=======================\n",
      "8 clusters\n",
      "1    66.295745\n",
      "0    23.754441\n",
      "5     7.088112\n",
      "3     1.974303\n",
      "6     0.474805\n",
      "7     0.348834\n",
      "4     0.051842\n",
      "2     0.011918\n",
      "Name: cluster, dtype: float64\n"
     ]
    }
   ],
   "source": [
    "from sklearn.cluster import KMeans\n",
    "for i in range(5,9):\n",
    "    try:\n",
    "        df.drop(columns=[\"cluster\"],inplace=True)\n",
    "    except:\n",
    "        pass\n",
    "\n",
    "\n",
    "    #Set the model\n",
    "    model = KMeans(n_clusters=i,random_state=30)\n",
    "\n",
    "    #Get the cluster for each row.\n",
    "    df[\"cluster\"] = model.fit_predict(df)\n",
    "    df.head(2)\n",
    "    print(\"=======================\")\n",
    "    print(f\"{i} clusters\")\n",
    "    print(df.cluster.value_counts()/(df.shape[0])*100)"
   ]
  },
  {
   "cell_type": "markdown",
   "id": "55002ab6-6b8a-4c2d-afbc-1eb8b119813b",
   "metadata": {
    "tags": []
   },
   "source": [
    "## Finally we choose 5 clusters"
   ]
  },
  {
   "cell_type": "code",
   "execution_count": 20,
   "id": "a0660c2a-0ec9-4b4a-abff-b6a111eb04ec",
   "metadata": {},
   "outputs": [
    {
     "data": {
      "text/html": [
       "<div>\n",
       "<style scoped>\n",
       "    .dataframe tbody tr th:only-of-type {\n",
       "        vertical-align: middle;\n",
       "    }\n",
       "\n",
       "    .dataframe tbody tr th {\n",
       "        vertical-align: top;\n",
       "    }\n",
       "\n",
       "    .dataframe thead th {\n",
       "        text-align: right;\n",
       "    }\n",
       "</style>\n",
       "<table border=\"1\" class=\"dataframe\">\n",
       "  <thead>\n",
       "    <tr style=\"text-align: right;\">\n",
       "      <th></th>\n",
       "      <th>0</th>\n",
       "      <th>1</th>\n",
       "      <th>2</th>\n",
       "      <th>3</th>\n",
       "      <th>4</th>\n",
       "      <th>5</th>\n",
       "      <th>6</th>\n",
       "      <th>7</th>\n",
       "      <th>cluster</th>\n",
       "    </tr>\n",
       "    <tr>\n",
       "      <th>CustomerID</th>\n",
       "      <th></th>\n",
       "      <th></th>\n",
       "      <th></th>\n",
       "      <th></th>\n",
       "      <th></th>\n",
       "      <th></th>\n",
       "      <th></th>\n",
       "      <th></th>\n",
       "      <th></th>\n",
       "    </tr>\n",
       "  </thead>\n",
       "  <tbody>\n",
       "    <tr>\n",
       "      <th>C1010011</th>\n",
       "      <td>0.277082</td>\n",
       "      <td>0.757529</td>\n",
       "      <td>-4.507943</td>\n",
       "      <td>-0.584938</td>\n",
       "      <td>0.962772</td>\n",
       "      <td>-0.033431</td>\n",
       "      <td>0.142159</td>\n",
       "      <td>-1.019176</td>\n",
       "      <td>2</td>\n",
       "    </tr>\n",
       "    <tr>\n",
       "      <th>C1010012</th>\n",
       "      <td>-0.265316</td>\n",
       "      <td>-0.019307</td>\n",
       "      <td>0.619049</td>\n",
       "      <td>-0.628901</td>\n",
       "      <td>0.628131</td>\n",
       "      <td>-0.099925</td>\n",
       "      <td>-0.382775</td>\n",
       "      <td>-0.075813</td>\n",
       "      <td>0</td>\n",
       "    </tr>\n",
       "  </tbody>\n",
       "</table>\n",
       "</div>"
      ],
      "text/plain": [
       "                   0         1         2         3         4         5  \\\n",
       "CustomerID                                                               \n",
       "C1010011    0.277082  0.757529 -4.507943 -0.584938  0.962772 -0.033431   \n",
       "C1010012   -0.265316 -0.019307  0.619049 -0.628901  0.628131 -0.099925   \n",
       "\n",
       "                   6         7  cluster  \n",
       "CustomerID                               \n",
       "C1010011    0.142159 -1.019176        2  \n",
       "C1010012   -0.382775 -0.075813        0  "
      ]
     },
     "execution_count": 20,
     "metadata": {},
     "output_type": "execute_result"
    }
   ],
   "source": [
    "from sklearn.cluster import KMeans\n",
    "\n",
    "try:\n",
    "    df.drop(columns=[\"cluster\"],inplace=True)\n",
    "except:\n",
    "    pass\n",
    "\n",
    "\n",
    "#Set the model\n",
    "model = KMeans(n_clusters=5,random_state=30)\n",
    "\n",
    "#Get the cluster for each row.\n",
    "df[\"cluster\"] = model.fit_predict(df)\n",
    "df.head(2)"
   ]
  },
  {
   "cell_type": "markdown",
   "id": "2643e947-0c8a-45f6-93c4-bfc1dea9630e",
   "metadata": {},
   "source": [
    "### Cluster proportion"
   ]
  },
  {
   "cell_type": "code",
   "execution_count": 21,
   "id": "d198e048-db12-4384-b580-c37f852cec89",
   "metadata": {},
   "outputs": [
    {
     "data": {
      "image/png": "[encoded data removed]",
      "text/plain": [
       "<Figure size 800x550 with 1 Axes>"
      ]
     },
     "metadata": {},
     "output_type": "display_data"
    }
   ],
   "source": [
    "import matplotlib.ticker as mtick\n",
    "c=pd.DataFrame(df.cluster.value_counts().sort_index())\n",
    "c[\"total_percentage\"]=c.cluster.apply(lambda x : round(x/sum(c.cluster)*100,2))\n",
    "\n",
    "\n",
    "ax = c['total_percentage'].plot(kind='bar',rot=0,title='Percentage of clients for each cluster')\n",
    "ax.yaxis.set_major_formatter(mtick.PercentFormatter())"
   ]
  },
  {
   "cell_type": "markdown",
   "id": "a23a2c68-96c9-40f3-ae0d-e8b9b0afa462",
   "metadata": {},
   "source": [
    "### InterclusterDistance"
   ]
  },
  {
   "cell_type": "code",
   "execution_count": 23,
   "id": "7f07fe8e-6e95-44d3-aa68-4945134eb5ad",
   "metadata": {},
   "outputs": [
    {
     "name": "stderr",
     "output_type": "stream",
     "text": [
      "/opt/anaconda3/envs/hm/lib/python3.8/site-packages/sklearn/base.py:193: FutureWarning: From version 0.24, get_params will raise an AttributeError if a parameter cannot be retrieved as an instance attribute. Previously it would return None.\n",
      "  warnings.warn('From version 0.24, get_params will raise an '\n"
     ]
    },
    {
     "data": {
      "text/plain": [
       "InterclusterDistance(ax=<AxesSubplot:>, embedding='mds', legend=True,\n",
       "                     legend_loc='lower left', legend_size=1.5, max_size=25000,\n",
       "                     min_size=400, model=None, random_state=None,\n",
       "                     scoring='membership')"
      ]
     },
     "execution_count": 23,
     "metadata": {},
     "output_type": "execute_result"
    },
    {
     "data": {
      "image/png": "[encoded data removed]",
      "text/plain": [
       "<Figure size 800x550 with 2 Axes>"
      ]
     },
     "metadata": {},
     "output_type": "display_data"
    }
   ],
   "source": [
    "from sklearn.cluster import KMeans\n",
    "try:\n",
    "    df.drop(columns=[\"cluster\"],inplace=True)\n",
    "except:\n",
    "    pass\n",
    "#Set the model\n",
    "model = KMeans(n_clusters=5,random_state=30)\n",
    "\n",
    "#Get the cluster for each row.\n",
    "df[\"cluster\"] = model.fit_predict(df)\n",
    "visualizer = InterclusterDistance(model)\n",
    "visualizer.fit(df)        # Fit the data to the visualizer"
   ]
  },
  {
   "cell_type": "markdown",
   "id": "aa4c43a3-5943-448f-88e9-971c17469d0a",
   "metadata": {},
   "source": [
    "As final think we have a quick look on the InterclusterDistance, altough  because two clusters overlap in the 2D space, it does not imply that they overlap in the original feature space we don't give much importance to this metric."
   ]
  },
  {
   "cell_type": "code",
   "execution_count": 13,
   "id": "dad79a2f",
   "metadata": {},
   "outputs": [
    {
     "data": {
      "text/plain": [
       "1    66.295745\n",
       "0    23.754441\n",
       "5     7.088112\n",
       "3     1.974303\n",
       "6     0.474805\n",
       "7     0.348834\n",
       "4     0.051842\n",
       "2     0.011918\n",
       "Name: cluster, dtype: float64"
      ]
     },
     "execution_count": 13,
     "metadata": {},
     "output_type": "execute_result"
    }
   ],
   "source": [
    "df.cluster.value_counts()/(df.shape[0])*100"
   ]
  },
  {
   "cell_type": "code",
   "execution_count": 24,
   "id": "a469a857-ef95-4135-88e7-34db89474872",
   "metadata": {},
   "outputs": [],
   "source": [
    "#We store our data in order not to lose them.\n",
    "df.to_csv(\"/Users/mattia/Desktop/ADM(Aris)/HM4/clustered_clients.csv\")"
   ]
  },
  {
   "cell_type": "markdown",
   "id": "b48a471a-f09a-4f13-a84a-962b405d39c3",
   "metadata": {
    "jp-MarkdownHeadingCollapsed": true,
    "tags": []
   },
   "source": [
    "# 2.4 Analysing your results!"
   ]
  },
  {
   "cell_type": "code",
   "execution_count": 65,
   "id": "4ade9617-f8f1-4e7f-8e13-a56a5ffd0ffb",
   "metadata": {},
   "outputs": [],
   "source": [
    "import pandas as pd\n",
    "import numpy as np\n",
    "pd.set_option('display.max_columns', None)"
   ]
  },
  {
   "cell_type": "markdown",
   "id": "f74dc751-2141-45bf-94f3-1c29baa84296",
   "metadata": {
    "jp-MarkdownHeadingCollapsed": true,
    "tags": []
   },
   "source": [
    "### Import data"
   ]
  },
  {
   "cell_type": "code",
   "execution_count": 66,
   "id": "41efc561-4a1c-4684-a7eb-eb8babd3038b",
   "metadata": {},
   "outputs": [
    {
     "data": {
      "text/html": [
       "<div>\n",
       "<style scoped>\n",
       "    .dataframe tbody tr th:only-of-type {\n",
       "        vertical-align: middle;\n",
       "    }\n",
       "\n",
       "    .dataframe tbody tr th {\n",
       "        vertical-align: top;\n",
       "    }\n",
       "\n",
       "    .dataframe thead th {\n",
       "        text-align: right;\n",
       "    }\n",
       "</style>\n",
       "<table border=\"1\" class=\"dataframe\">\n",
       "  <thead>\n",
       "    <tr style=\"text-align: right;\">\n",
       "      <th></th>\n",
       "      <th>CustomerID</th>\n",
       "      <th>0</th>\n",
       "      <th>1</th>\n",
       "      <th>2</th>\n",
       "      <th>3</th>\n",
       "      <th>4</th>\n",
       "      <th>5</th>\n",
       "      <th>6</th>\n",
       "      <th>7</th>\n",
       "      <th>cluster</th>\n",
       "    </tr>\n",
       "  </thead>\n",
       "  <tbody>\n",
       "    <tr>\n",
       "      <th>0</th>\n",
       "      <td>C1010011</td>\n",
       "      <td>0.277082</td>\n",
       "      <td>0.757529</td>\n",
       "      <td>-4.507943</td>\n",
       "      <td>-0.584938</td>\n",
       "      <td>0.962772</td>\n",
       "      <td>-0.033431</td>\n",
       "      <td>0.142159</td>\n",
       "      <td>-1.019176</td>\n",
       "      <td>2</td>\n",
       "    </tr>\n",
       "    <tr>\n",
       "      <th>1</th>\n",
       "      <td>C1010012</td>\n",
       "      <td>-0.265316</td>\n",
       "      <td>-0.019307</td>\n",
       "      <td>0.619049</td>\n",
       "      <td>-0.628901</td>\n",
       "      <td>0.628131</td>\n",
       "      <td>-0.099925</td>\n",
       "      <td>-0.382775</td>\n",
       "      <td>-0.075813</td>\n",
       "      <td>0</td>\n",
       "    </tr>\n",
       "    <tr>\n",
       "      <th>2</th>\n",
       "      <td>C1010014</td>\n",
       "      <td>0.317520</td>\n",
       "      <td>0.081817</td>\n",
       "      <td>-4.630823</td>\n",
       "      <td>-0.532873</td>\n",
       "      <td>0.416090</td>\n",
       "      <td>-0.196455</td>\n",
       "      <td>-0.974666</td>\n",
       "      <td>-1.399122</td>\n",
       "      <td>2</td>\n",
       "    </tr>\n",
       "    <tr>\n",
       "      <th>3</th>\n",
       "      <td>C1010018</td>\n",
       "      <td>-0.735395</td>\n",
       "      <td>-0.407058</td>\n",
       "      <td>0.560564</td>\n",
       "      <td>2.587314</td>\n",
       "      <td>0.624880</td>\n",
       "      <td>0.137512</td>\n",
       "      <td>1.081094</td>\n",
       "      <td>-0.487843</td>\n",
       "      <td>1</td>\n",
       "    </tr>\n",
       "    <tr>\n",
       "      <th>4</th>\n",
       "      <td>C1010024</td>\n",
       "      <td>0.655798</td>\n",
       "      <td>0.906741</td>\n",
       "      <td>0.635878</td>\n",
       "      <td>-0.845409</td>\n",
       "      <td>-1.547964</td>\n",
       "      <td>-0.052474</td>\n",
       "      <td>-0.289689</td>\n",
       "      <td>0.752177</td>\n",
       "      <td>0</td>\n",
       "    </tr>\n",
       "  </tbody>\n",
       "</table>\n",
       "</div>"
      ],
      "text/plain": [
       "  CustomerID         0         1         2         3         4         5  \\\n",
       "0   C1010011  0.277082  0.757529 -4.507943 -0.584938  0.962772 -0.033431   \n",
       "1   C1010012 -0.265316 -0.019307  0.619049 -0.628901  0.628131 -0.099925   \n",
       "2   C1010014  0.317520  0.081817 -4.630823 -0.532873  0.416090 -0.196455   \n",
       "3   C1010018 -0.735395 -0.407058  0.560564  2.587314  0.624880  0.137512   \n",
       "4   C1010024  0.655798  0.906741  0.635878 -0.845409 -1.547964 -0.052474   \n",
       "\n",
       "          6         7  cluster  \n",
       "0  0.142159 -1.019176        2  \n",
       "1 -0.382775 -0.075813        0  \n",
       "2 -0.974666 -1.399122        2  \n",
       "3  1.081094 -0.487843        1  \n",
       "4 -0.289689  0.752177        0  "
      ]
     },
     "execution_count": 66,
     "metadata": {},
     "output_type": "execute_result"
    }
   ],
   "source": [
    "df_cluster=pd.read_csv(\"/Users/mattia/Desktop/ADM(Aris)/HM4/clustered_clients.csv\")\n",
    "df_cluster.head()"
   ]
  },
  {
   "cell_type": "markdown",
   "id": "727177cf-bd83-4e4e-99a1-5282ded5bd5e",
   "metadata": {},
   "source": [
    "Now we merge the datasets by the CustomerID so we will obtain the accounts dataset with the clusters."
   ]
  },
  {
   "cell_type": "code",
   "execution_count": 67,
   "id": "a8ffc24d-3740-4f8a-b1af-5097e22094cb",
   "metadata": {},
   "outputs": [
    {
     "data": {
      "text/html": [
       "<div>\n",
       "<style scoped>\n",
       "    .dataframe tbody tr th:only-of-type {\n",
       "        vertical-align: middle;\n",
       "    }\n",
       "\n",
       "    .dataframe tbody tr th {\n",
       "        vertical-align: top;\n",
       "    }\n",
       "\n",
       "    .dataframe thead th {\n",
       "        text-align: right;\n",
       "    }\n",
       "</style>\n",
       "<table border=\"1\" class=\"dataframe\">\n",
       "  <thead>\n",
       "    <tr style=\"text-align: right;\">\n",
       "      <th></th>\n",
       "      <th>CustomerID</th>\n",
       "      <th>TOT TransactionAmount (INR)</th>\n",
       "      <th>Number_of_transaction</th>\n",
       "      <th>Number_of_transaction_100</th>\n",
       "      <th>Average_transaction_amount</th>\n",
       "      <th>Average_amount_balance</th>\n",
       "      <th>Average_Utilisation</th>\n",
       "      <th>Account_gender</th>\n",
       "      <th>Most_common_location</th>\n",
       "      <th>CustomerAge</th>\n",
       "      <th>Age_in_2016</th>\n",
       "      <th>Major</th>\n",
       "      <th>Old</th>\n",
       "      <th>Min Transaction</th>\n",
       "      <th>Max Transaction</th>\n",
       "      <th>LastAccountBalance</th>\n",
       "      <th>Class_income</th>\n",
       "      <th>Percentual_of_total</th>\n",
       "      <th>Top100</th>\n",
       "      <th>Most_common_day</th>\n",
       "      <th>Percentage_most_common_day</th>\n",
       "      <th>FirstTransactionDate</th>\n",
       "      <th>LastTransactionDate</th>\n",
       "      <th>Percentage_most_common_location</th>\n",
       "      <th>Number_of_transaction_10000</th>\n",
       "      <th>Medium_time_among_transaction</th>\n",
       "      <th>Most_common_hour</th>\n",
       "      <th>Percentage_most_common_hour</th>\n",
       "    </tr>\n",
       "  </thead>\n",
       "  <tbody>\n",
       "    <tr>\n",
       "      <th>0</th>\n",
       "      <td>C1010011</td>\n",
       "      <td>5106.0</td>\n",
       "      <td>2</td>\n",
       "      <td>2.0</td>\n",
       "      <td>2553.0</td>\n",
       "      <td>76340.635</td>\n",
       "      <td>73787.635</td>\n",
       "      <td>FM</td>\n",
       "      <td>NaN</td>\n",
       "      <td>30</td>\n",
       "      <td>24</td>\n",
       "      <td>1</td>\n",
       "      <td>0</td>\n",
       "      <td>356.0</td>\n",
       "      <td>4750.0</td>\n",
       "      <td>32500.73</td>\n",
       "      <td>1</td>\n",
       "      <td>3.653047e-05</td>\n",
       "      <td>0</td>\n",
       "      <td>Monday</td>\n",
       "      <td>100.0</td>\n",
       "      <td>2016-09-08</td>\n",
       "      <td>2016-09-26</td>\n",
       "      <td>NaN</td>\n",
       "      <td>0.0</td>\n",
       "      <td>18 days 00:00:00</td>\n",
       "      <td>NaN</td>\n",
       "      <td>NaN</td>\n",
       "    </tr>\n",
       "    <tr>\n",
       "      <th>1</th>\n",
       "      <td>C1010012</td>\n",
       "      <td>1499.0</td>\n",
       "      <td>1</td>\n",
       "      <td>1.0</td>\n",
       "      <td>1499.0</td>\n",
       "      <td>24204.490</td>\n",
       "      <td>22705.490</td>\n",
       "      <td>M</td>\n",
       "      <td>MUMBAI</td>\n",
       "      <td>28</td>\n",
       "      <td>22</td>\n",
       "      <td>1</td>\n",
       "      <td>0</td>\n",
       "      <td>1499.0</td>\n",
       "      <td>1499.0</td>\n",
       "      <td>24204.49</td>\n",
       "      <td>1</td>\n",
       "      <td>2.720559e-05</td>\n",
       "      <td>0</td>\n",
       "      <td>Monday</td>\n",
       "      <td>100.0</td>\n",
       "      <td>2016-08-14</td>\n",
       "      <td>2016-08-14</td>\n",
       "      <td>100.0</td>\n",
       "      <td>0.0</td>\n",
       "      <td>NaN</td>\n",
       "      <td>20</td>\n",
       "      <td>100.0</td>\n",
       "    </tr>\n",
       "    <tr>\n",
       "      <th>2</th>\n",
       "      <td>C1010014</td>\n",
       "      <td>1455.0</td>\n",
       "      <td>2</td>\n",
       "      <td>2.0</td>\n",
       "      <td>727.5</td>\n",
       "      <td>100112.950</td>\n",
       "      <td>99385.450</td>\n",
       "      <td>FM</td>\n",
       "      <td>MUMBAI</td>\n",
       "      <td>31</td>\n",
       "      <td>25</td>\n",
       "      <td>1</td>\n",
       "      <td>0</td>\n",
       "      <td>250.0</td>\n",
       "      <td>1205.0</td>\n",
       "      <td>161848.76</td>\n",
       "      <td>2</td>\n",
       "      <td>1.819163e-04</td>\n",
       "      <td>0</td>\n",
       "      <td>Monday</td>\n",
       "      <td>100.0</td>\n",
       "      <td>2016-01-08</td>\n",
       "      <td>2016-07-08</td>\n",
       "      <td>100.0</td>\n",
       "      <td>0.0</td>\n",
       "      <td>182 days 00:00:00</td>\n",
       "      <td>NaN</td>\n",
       "      <td>NaN</td>\n",
       "    </tr>\n",
       "    <tr>\n",
       "      <th>3</th>\n",
       "      <td>C1010018</td>\n",
       "      <td>30.0</td>\n",
       "      <td>1</td>\n",
       "      <td>0.0</td>\n",
       "      <td>30.0</td>\n",
       "      <td>496.180</td>\n",
       "      <td>466.180</td>\n",
       "      <td>F</td>\n",
       "      <td>CHAMPARAN</td>\n",
       "      <td>32</td>\n",
       "      <td>27</td>\n",
       "      <td>1</td>\n",
       "      <td>0</td>\n",
       "      <td>30.0</td>\n",
       "      <td>30.0</td>\n",
       "      <td>496.18</td>\n",
       "      <td>0</td>\n",
       "      <td>5.577010e-07</td>\n",
       "      <td>0</td>\n",
       "      <td>Monday</td>\n",
       "      <td>100.0</td>\n",
       "      <td>2016-09-15</td>\n",
       "      <td>2016-09-15</td>\n",
       "      <td>100.0</td>\n",
       "      <td>0.0</td>\n",
       "      <td>NaN</td>\n",
       "      <td>17</td>\n",
       "      <td>100.0</td>\n",
       "    </tr>\n",
       "    <tr>\n",
       "      <th>4</th>\n",
       "      <td>C1010024</td>\n",
       "      <td>5000.0</td>\n",
       "      <td>1</td>\n",
       "      <td>1.0</td>\n",
       "      <td>5000.0</td>\n",
       "      <td>87058.650</td>\n",
       "      <td>82058.650</td>\n",
       "      <td>M</td>\n",
       "      <td>KOLKATA</td>\n",
       "      <td>57</td>\n",
       "      <td>52</td>\n",
       "      <td>1</td>\n",
       "      <td>0</td>\n",
       "      <td>5000.0</td>\n",
       "      <td>5000.0</td>\n",
       "      <td>87058.65</td>\n",
       "      <td>1</td>\n",
       "      <td>9.785299e-05</td>\n",
       "      <td>0</td>\n",
       "      <td>Monday</td>\n",
       "      <td>100.0</td>\n",
       "      <td>2016-08-18</td>\n",
       "      <td>2016-08-18</td>\n",
       "      <td>100.0</td>\n",
       "      <td>0.0</td>\n",
       "      <td>NaN</td>\n",
       "      <td>14</td>\n",
       "      <td>100.0</td>\n",
       "    </tr>\n",
       "  </tbody>\n",
       "</table>\n",
       "</div>"
      ],
      "text/plain": [
       "  CustomerID  TOT TransactionAmount (INR)  Number_of_transaction  \\\n",
       "0   C1010011                       5106.0                      2   \n",
       "1   C1010012                       1499.0                      1   \n",
       "2   C1010014                       1455.0                      2   \n",
       "3   C1010018                         30.0                      1   \n",
       "4   C1010024                       5000.0                      1   \n",
       "\n",
       "   Number_of_transaction_100  Average_transaction_amount  \\\n",
       "0                        2.0                      2553.0   \n",
       "1                        1.0                      1499.0   \n",
       "2                        2.0                       727.5   \n",
       "3                        0.0                        30.0   \n",
       "4                        1.0                      5000.0   \n",
       "\n",
       "   Average_amount_balance  Average_Utilisation Account_gender  \\\n",
       "0               76340.635            73787.635             FM   \n",
       "1               24204.490            22705.490              M   \n",
       "2              100112.950            99385.450             FM   \n",
       "3                 496.180              466.180              F   \n",
       "4               87058.650            82058.650              M   \n",
       "\n",
       "  Most_common_location  CustomerAge  Age_in_2016  Major  Old  Min Transaction  \\\n",
       "0                  NaN           30           24      1    0            356.0   \n",
       "1               MUMBAI           28           22      1    0           1499.0   \n",
       "2               MUMBAI           31           25      1    0            250.0   \n",
       "3            CHAMPARAN           32           27      1    0             30.0   \n",
       "4              KOLKATA           57           52      1    0           5000.0   \n",
       "\n",
       "   Max Transaction  LastAccountBalance  Class_income  Percentual_of_total  \\\n",
       "0           4750.0            32500.73             1         3.653047e-05   \n",
       "1           1499.0            24204.49             1         2.720559e-05   \n",
       "2           1205.0           161848.76             2         1.819163e-04   \n",
       "3             30.0              496.18             0         5.577010e-07   \n",
       "4           5000.0            87058.65             1         9.785299e-05   \n",
       "\n",
       "   Top100 Most_common_day  Percentage_most_common_day FirstTransactionDate  \\\n",
       "0       0          Monday                       100.0           2016-09-08   \n",
       "1       0          Monday                       100.0           2016-08-14   \n",
       "2       0          Monday                       100.0           2016-01-08   \n",
       "3       0          Monday                       100.0           2016-09-15   \n",
       "4       0          Monday                       100.0           2016-08-18   \n",
       "\n",
       "  LastTransactionDate  Percentage_most_common_location  \\\n",
       "0          2016-09-26                              NaN   \n",
       "1          2016-08-14                            100.0   \n",
       "2          2016-07-08                            100.0   \n",
       "3          2016-09-15                            100.0   \n",
       "4          2016-08-18                            100.0   \n",
       "\n",
       "   Number_of_transaction_10000 Medium_time_among_transaction Most_common_hour  \\\n",
       "0                          0.0              18 days 00:00:00              NaN   \n",
       "1                          0.0                           NaN               20   \n",
       "2                          0.0             182 days 00:00:00              NaN   \n",
       "3                          0.0                           NaN               17   \n",
       "4                          0.0                           NaN               14   \n",
       "\n",
       "   Percentage_most_common_hour  \n",
       "0                          NaN  \n",
       "1                        100.0  \n",
       "2                          NaN  \n",
       "3                        100.0  \n",
       "4                        100.0  "
      ]
     },
     "execution_count": 67,
     "metadata": {},
     "output_type": "execute_result"
    }
   ],
   "source": [
    "df=pd.read_pickle(\"/Users/mattia/Desktop/ADM(Aris)/HM4/customer28.pkl\") \n",
    "df.head()"
   ]
  },
  {
   "cell_type": "code",
   "execution_count": 68,
   "id": "f880d34f-61f2-4aa7-8c3a-d16f77c61a6b",
   "metadata": {},
   "outputs": [
    {
     "data": {
      "text/html": [
       "<div>\n",
       "<style scoped>\n",
       "    .dataframe tbody tr th:only-of-type {\n",
       "        vertical-align: middle;\n",
       "    }\n",
       "\n",
       "    .dataframe tbody tr th {\n",
       "        vertical-align: top;\n",
       "    }\n",
       "\n",
       "    .dataframe thead th {\n",
       "        text-align: right;\n",
       "    }\n",
       "</style>\n",
       "<table border=\"1\" class=\"dataframe\">\n",
       "  <thead>\n",
       "    <tr style=\"text-align: right;\">\n",
       "      <th></th>\n",
       "      <th>TOT TransactionAmount (INR)</th>\n",
       "      <th>Number_of_transaction</th>\n",
       "      <th>Number_of_transaction_100</th>\n",
       "      <th>Average_transaction_amount</th>\n",
       "      <th>Average_amount_balance</th>\n",
       "      <th>Average_Utilisation</th>\n",
       "      <th>Account_gender</th>\n",
       "      <th>Most_common_location</th>\n",
       "      <th>CustomerAge</th>\n",
       "      <th>Age_in_2016</th>\n",
       "      <th>Major</th>\n",
       "      <th>Old</th>\n",
       "      <th>Min Transaction</th>\n",
       "      <th>Max Transaction</th>\n",
       "      <th>LastAccountBalance</th>\n",
       "      <th>Class_income</th>\n",
       "      <th>Percentual_of_total</th>\n",
       "      <th>Top100</th>\n",
       "      <th>Most_common_day</th>\n",
       "      <th>Percentage_most_common_day</th>\n",
       "      <th>FirstTransactionDate</th>\n",
       "      <th>LastTransactionDate</th>\n",
       "      <th>Percentage_most_common_location</th>\n",
       "      <th>Number_of_transaction_10000</th>\n",
       "      <th>Medium_time_among_transaction</th>\n",
       "      <th>Most_common_hour</th>\n",
       "      <th>Percentage_most_common_hour</th>\n",
       "      <th>cluster</th>\n",
       "    </tr>\n",
       "    <tr>\n",
       "      <th>CustomerID</th>\n",
       "      <th></th>\n",
       "      <th></th>\n",
       "      <th></th>\n",
       "      <th></th>\n",
       "      <th></th>\n",
       "      <th></th>\n",
       "      <th></th>\n",
       "      <th></th>\n",
       "      <th></th>\n",
       "      <th></th>\n",
       "      <th></th>\n",
       "      <th></th>\n",
       "      <th></th>\n",
       "      <th></th>\n",
       "      <th></th>\n",
       "      <th></th>\n",
       "      <th></th>\n",
       "      <th></th>\n",
       "      <th></th>\n",
       "      <th></th>\n",
       "      <th></th>\n",
       "      <th></th>\n",
       "      <th></th>\n",
       "      <th></th>\n",
       "      <th></th>\n",
       "      <th></th>\n",
       "      <th></th>\n",
       "      <th></th>\n",
       "    </tr>\n",
       "  </thead>\n",
       "  <tbody>\n",
       "    <tr>\n",
       "      <th>C1010011</th>\n",
       "      <td>5106.0</td>\n",
       "      <td>2</td>\n",
       "      <td>2.0</td>\n",
       "      <td>2553.0</td>\n",
       "      <td>76340.635</td>\n",
       "      <td>73787.635</td>\n",
       "      <td>FM</td>\n",
       "      <td>NaN</td>\n",
       "      <td>30</td>\n",
       "      <td>24</td>\n",
       "      <td>1</td>\n",
       "      <td>0</td>\n",
       "      <td>356.0</td>\n",
       "      <td>4750.0</td>\n",
       "      <td>32500.73</td>\n",
       "      <td>1</td>\n",
       "      <td>3.653047e-05</td>\n",
       "      <td>0</td>\n",
       "      <td>Monday</td>\n",
       "      <td>100.0</td>\n",
       "      <td>2016-09-08</td>\n",
       "      <td>2016-09-26</td>\n",
       "      <td>NaN</td>\n",
       "      <td>0.0</td>\n",
       "      <td>18 days 00:00:00</td>\n",
       "      <td>NaN</td>\n",
       "      <td>NaN</td>\n",
       "      <td>2</td>\n",
       "    </tr>\n",
       "    <tr>\n",
       "      <th>C1010012</th>\n",
       "      <td>1499.0</td>\n",
       "      <td>1</td>\n",
       "      <td>1.0</td>\n",
       "      <td>1499.0</td>\n",
       "      <td>24204.490</td>\n",
       "      <td>22705.490</td>\n",
       "      <td>M</td>\n",
       "      <td>MUMBAI</td>\n",
       "      <td>28</td>\n",
       "      <td>22</td>\n",
       "      <td>1</td>\n",
       "      <td>0</td>\n",
       "      <td>1499.0</td>\n",
       "      <td>1499.0</td>\n",
       "      <td>24204.49</td>\n",
       "      <td>1</td>\n",
       "      <td>2.720559e-05</td>\n",
       "      <td>0</td>\n",
       "      <td>Monday</td>\n",
       "      <td>100.0</td>\n",
       "      <td>2016-08-14</td>\n",
       "      <td>2016-08-14</td>\n",
       "      <td>100.0</td>\n",
       "      <td>0.0</td>\n",
       "      <td>NaN</td>\n",
       "      <td>20</td>\n",
       "      <td>100.0</td>\n",
       "      <td>0</td>\n",
       "    </tr>\n",
       "    <tr>\n",
       "      <th>C1010014</th>\n",
       "      <td>1455.0</td>\n",
       "      <td>2</td>\n",
       "      <td>2.0</td>\n",
       "      <td>727.5</td>\n",
       "      <td>100112.950</td>\n",
       "      <td>99385.450</td>\n",
       "      <td>FM</td>\n",
       "      <td>MUMBAI</td>\n",
       "      <td>31</td>\n",
       "      <td>25</td>\n",
       "      <td>1</td>\n",
       "      <td>0</td>\n",
       "      <td>250.0</td>\n",
       "      <td>1205.0</td>\n",
       "      <td>161848.76</td>\n",
       "      <td>2</td>\n",
       "      <td>1.819163e-04</td>\n",
       "      <td>0</td>\n",
       "      <td>Monday</td>\n",
       "      <td>100.0</td>\n",
       "      <td>2016-01-08</td>\n",
       "      <td>2016-07-08</td>\n",
       "      <td>100.0</td>\n",
       "      <td>0.0</td>\n",
       "      <td>182 days 00:00:00</td>\n",
       "      <td>NaN</td>\n",
       "      <td>NaN</td>\n",
       "      <td>2</td>\n",
       "    </tr>\n",
       "    <tr>\n",
       "      <th>C1010018</th>\n",
       "      <td>30.0</td>\n",
       "      <td>1</td>\n",
       "      <td>0.0</td>\n",
       "      <td>30.0</td>\n",
       "      <td>496.180</td>\n",
       "      <td>466.180</td>\n",
       "      <td>F</td>\n",
       "      <td>CHAMPARAN</td>\n",
       "      <td>32</td>\n",
       "      <td>27</td>\n",
       "      <td>1</td>\n",
       "      <td>0</td>\n",
       "      <td>30.0</td>\n",
       "      <td>30.0</td>\n",
       "      <td>496.18</td>\n",
       "      <td>0</td>\n",
       "      <td>5.577010e-07</td>\n",
       "      <td>0</td>\n",
       "      <td>Monday</td>\n",
       "      <td>100.0</td>\n",
       "      <td>2016-09-15</td>\n",
       "      <td>2016-09-15</td>\n",
       "      <td>100.0</td>\n",
       "      <td>0.0</td>\n",
       "      <td>NaN</td>\n",
       "      <td>17</td>\n",
       "      <td>100.0</td>\n",
       "      <td>1</td>\n",
       "    </tr>\n",
       "    <tr>\n",
       "      <th>C1010024</th>\n",
       "      <td>5000.0</td>\n",
       "      <td>1</td>\n",
       "      <td>1.0</td>\n",
       "      <td>5000.0</td>\n",
       "      <td>87058.650</td>\n",
       "      <td>82058.650</td>\n",
       "      <td>M</td>\n",
       "      <td>KOLKATA</td>\n",
       "      <td>57</td>\n",
       "      <td>52</td>\n",
       "      <td>1</td>\n",
       "      <td>0</td>\n",
       "      <td>5000.0</td>\n",
       "      <td>5000.0</td>\n",
       "      <td>87058.65</td>\n",
       "      <td>1</td>\n",
       "      <td>9.785299e-05</td>\n",
       "      <td>0</td>\n",
       "      <td>Monday</td>\n",
       "      <td>100.0</td>\n",
       "      <td>2016-08-18</td>\n",
       "      <td>2016-08-18</td>\n",
       "      <td>100.0</td>\n",
       "      <td>0.0</td>\n",
       "      <td>NaN</td>\n",
       "      <td>14</td>\n",
       "      <td>100.0</td>\n",
       "      <td>0</td>\n",
       "    </tr>\n",
       "  </tbody>\n",
       "</table>\n",
       "</div>"
      ],
      "text/plain": [
       "            TOT TransactionAmount (INR)  Number_of_transaction  \\\n",
       "CustomerID                                                       \n",
       "C1010011                         5106.0                      2   \n",
       "C1010012                         1499.0                      1   \n",
       "C1010014                         1455.0                      2   \n",
       "C1010018                           30.0                      1   \n",
       "C1010024                         5000.0                      1   \n",
       "\n",
       "            Number_of_transaction_100  Average_transaction_amount  \\\n",
       "CustomerID                                                          \n",
       "C1010011                          2.0                      2553.0   \n",
       "C1010012                          1.0                      1499.0   \n",
       "C1010014                          2.0                       727.5   \n",
       "C1010018                          0.0                        30.0   \n",
       "C1010024                          1.0                      5000.0   \n",
       "\n",
       "            Average_amount_balance  Average_Utilisation Account_gender  \\\n",
       "CustomerID                                                               \n",
       "C1010011                 76340.635            73787.635             FM   \n",
       "C1010012                 24204.490            22705.490              M   \n",
       "C1010014                100112.950            99385.450             FM   \n",
       "C1010018                   496.180              466.180              F   \n",
       "C1010024                 87058.650            82058.650              M   \n",
       "\n",
       "           Most_common_location  CustomerAge  Age_in_2016  Major  Old  \\\n",
       "CustomerID                                                              \n",
       "C1010011                    NaN           30           24      1    0   \n",
       "C1010012                 MUMBAI           28           22      1    0   \n",
       "C1010014                 MUMBAI           31           25      1    0   \n",
       "C1010018              CHAMPARAN           32           27      1    0   \n",
       "C1010024                KOLKATA           57           52      1    0   \n",
       "\n",
       "            Min Transaction  Max Transaction  LastAccountBalance  \\\n",
       "CustomerID                                                         \n",
       "C1010011              356.0           4750.0            32500.73   \n",
       "C1010012             1499.0           1499.0            24204.49   \n",
       "C1010014              250.0           1205.0           161848.76   \n",
       "C1010018               30.0             30.0              496.18   \n",
       "C1010024             5000.0           5000.0            87058.65   \n",
       "\n",
       "            Class_income  Percentual_of_total  Top100 Most_common_day  \\\n",
       "CustomerID                                                              \n",
       "C1010011               1         3.653047e-05       0          Monday   \n",
       "C1010012               1         2.720559e-05       0          Monday   \n",
       "C1010014               2         1.819163e-04       0          Monday   \n",
       "C1010018               0         5.577010e-07       0          Monday   \n",
       "C1010024               1         9.785299e-05       0          Monday   \n",
       "\n",
       "            Percentage_most_common_day FirstTransactionDate  \\\n",
       "CustomerID                                                    \n",
       "C1010011                         100.0           2016-09-08   \n",
       "C1010012                         100.0           2016-08-14   \n",
       "C1010014                         100.0           2016-01-08   \n",
       "C1010018                         100.0           2016-09-15   \n",
       "C1010024                         100.0           2016-08-18   \n",
       "\n",
       "           LastTransactionDate  Percentage_most_common_location  \\\n",
       "CustomerID                                                        \n",
       "C1010011            2016-09-26                              NaN   \n",
       "C1010012            2016-08-14                            100.0   \n",
       "C1010014            2016-07-08                            100.0   \n",
       "C1010018            2016-09-15                            100.0   \n",
       "C1010024            2016-08-18                            100.0   \n",
       "\n",
       "            Number_of_transaction_10000 Medium_time_among_transaction  \\\n",
       "CustomerID                                                              \n",
       "C1010011                            0.0              18 days 00:00:00   \n",
       "C1010012                            0.0                           NaN   \n",
       "C1010014                            0.0             182 days 00:00:00   \n",
       "C1010018                            0.0                           NaN   \n",
       "C1010024                            0.0                           NaN   \n",
       "\n",
       "           Most_common_hour  Percentage_most_common_hour  cluster  \n",
       "CustomerID                                                         \n",
       "C1010011                NaN                          NaN        2  \n",
       "C1010012                 20                        100.0        0  \n",
       "C1010014                NaN                          NaN        2  \n",
       "C1010018                 17                        100.0        1  \n",
       "C1010024                 14                        100.0        0  "
      ]
     },
     "execution_count": 68,
     "metadata": {},
     "output_type": "execute_result"
    }
   ],
   "source": [
    "df=pd.merge(df,df_cluster[[\"CustomerID\",\"cluster\"]],on=\"CustomerID\")\n",
    "df.set_index('CustomerID',inplace=True)\n",
    "df.head()"
   ]
  },
  {
   "cell_type": "markdown",
   "id": "9543729a-1de8-478f-a62f-286c8abbc0a4",
   "metadata": {},
   "source": [
    "Now that we have our final dataset we will procede with the analysis."
   ]
  },
  {
   "cell_type": "markdown",
   "id": "fbcfa289-d821-4d4b-be89-f17aea03f45c",
   "metadata": {},
   "source": [
    "## Identify the cluster"
   ]
  },
  {
   "cell_type": "markdown",
   "id": "e997148b-5021-46d8-9ccd-39f2b14712d0",
   "metadata": {
    "jp-MarkdownHeadingCollapsed": true,
    "tags": []
   },
   "source": [
    "### Select the features that are relevant for identify the clusters"
   ]
  },
  {
   "cell_type": "markdown",
   "id": "544b6654-a042-40a0-acb3-2f125ffbcb74",
   "metadata": {},
   "source": [
    "With this table we are able to have a quick look on all numerical features in the clusters."
   ]
  },
  {
   "cell_type": "code",
   "execution_count": 69,
   "id": "7f718cac-e0c4-4f80-abb0-31b66fb7f281",
   "metadata": {},
   "outputs": [
    {
     "data": {
      "text/html": [
       "<div>\n",
       "<style scoped>\n",
       "    .dataframe tbody tr th:only-of-type {\n",
       "        vertical-align: middle;\n",
       "    }\n",
       "\n",
       "    .dataframe tbody tr th {\n",
       "        vertical-align: top;\n",
       "    }\n",
       "\n",
       "    .dataframe thead tr th {\n",
       "        text-align: left;\n",
       "    }\n",
       "\n",
       "    .dataframe thead tr:last-of-type th {\n",
       "        text-align: right;\n",
       "    }\n",
       "</style>\n",
       "<table border=\"1\" class=\"dataframe\">\n",
       "  <thead>\n",
       "    <tr>\n",
       "      <th></th>\n",
       "      <th colspan=\"8\" halign=\"left\">TOT TransactionAmount (INR)</th>\n",
       "      <th colspan=\"8\" halign=\"left\">Number_of_transaction</th>\n",
       "      <th colspan=\"8\" halign=\"left\">Number_of_transaction_100</th>\n",
       "      <th colspan=\"8\" halign=\"left\">Average_transaction_amount</th>\n",
       "      <th colspan=\"8\" halign=\"left\">Average_amount_balance</th>\n",
       "      <th colspan=\"8\" halign=\"left\">Average_Utilisation</th>\n",
       "      <th colspan=\"8\" halign=\"left\">CustomerAge</th>\n",
       "      <th colspan=\"8\" halign=\"left\">Age_in_2016</th>\n",
       "      <th colspan=\"8\" halign=\"left\">Major</th>\n",
       "      <th colspan=\"8\" halign=\"left\">Old</th>\n",
       "      <th colspan=\"8\" halign=\"left\">Min Transaction</th>\n",
       "      <th colspan=\"8\" halign=\"left\">Max Transaction</th>\n",
       "      <th colspan=\"8\" halign=\"left\">LastAccountBalance</th>\n",
       "      <th colspan=\"8\" halign=\"left\">Class_income</th>\n",
       "      <th colspan=\"8\" halign=\"left\">Percentual_of_total</th>\n",
       "      <th colspan=\"8\" halign=\"left\">Top100</th>\n",
       "      <th colspan=\"8\" halign=\"left\">Percentage_most_common_day</th>\n",
       "      <th colspan=\"8\" halign=\"left\">Percentage_most_common_location</th>\n",
       "      <th colspan=\"8\" halign=\"left\">Number_of_transaction_10000</th>\n",
       "      <th colspan=\"8\" halign=\"left\">Percentage_most_common_hour</th>\n",
       "    </tr>\n",
       "    <tr>\n",
       "      <th></th>\n",
       "      <th>count</th>\n",
       "      <th>mean</th>\n",
       "      <th>std</th>\n",
       "      <th>min</th>\n",
       "      <th>25%</th>\n",
       "      <th>50%</th>\n",
       "      <th>75%</th>\n",
       "      <th>max</th>\n",
       "      <th>count</th>\n",
       "      <th>mean</th>\n",
       "      <th>std</th>\n",
       "      <th>min</th>\n",
       "      <th>25%</th>\n",
       "      <th>50%</th>\n",
       "      <th>75%</th>\n",
       "      <th>max</th>\n",
       "      <th>count</th>\n",
       "      <th>mean</th>\n",
       "      <th>std</th>\n",
       "      <th>min</th>\n",
       "      <th>25%</th>\n",
       "      <th>50%</th>\n",
       "      <th>75%</th>\n",
       "      <th>max</th>\n",
       "      <th>count</th>\n",
       "      <th>mean</th>\n",
       "      <th>std</th>\n",
       "      <th>min</th>\n",
       "      <th>25%</th>\n",
       "      <th>50%</th>\n",
       "      <th>75%</th>\n",
       "      <th>max</th>\n",
       "      <th>count</th>\n",
       "      <th>mean</th>\n",
       "      <th>std</th>\n",
       "      <th>min</th>\n",
       "      <th>25%</th>\n",
       "      <th>50%</th>\n",
       "      <th>75%</th>\n",
       "      <th>max</th>\n",
       "      <th>count</th>\n",
       "      <th>mean</th>\n",
       "      <th>std</th>\n",
       "      <th>min</th>\n",
       "      <th>25%</th>\n",
       "      <th>50%</th>\n",
       "      <th>75%</th>\n",
       "      <th>max</th>\n",
       "      <th>count</th>\n",
       "      <th>mean</th>\n",
       "      <th>std</th>\n",
       "      <th>min</th>\n",
       "      <th>25%</th>\n",
       "      <th>50%</th>\n",
       "      <th>75%</th>\n",
       "      <th>max</th>\n",
       "      <th>count</th>\n",
       "      <th>mean</th>\n",
       "      <th>std</th>\n",
       "      <th>min</th>\n",
       "      <th>25%</th>\n",
       "      <th>50%</th>\n",
       "      <th>75%</th>\n",
       "      <th>max</th>\n",
       "      <th>count</th>\n",
       "      <th>mean</th>\n",
       "      <th>std</th>\n",
       "      <th>min</th>\n",
       "      <th>25%</th>\n",
       "      <th>50%</th>\n",
       "      <th>75%</th>\n",
       "      <th>max</th>\n",
       "      <th>count</th>\n",
       "      <th>mean</th>\n",
       "      <th>std</th>\n",
       "      <th>min</th>\n",
       "      <th>25%</th>\n",
       "      <th>50%</th>\n",
       "      <th>75%</th>\n",
       "      <th>max</th>\n",
       "      <th>count</th>\n",
       "      <th>mean</th>\n",
       "      <th>std</th>\n",
       "      <th>min</th>\n",
       "      <th>25%</th>\n",
       "      <th>50%</th>\n",
       "      <th>75%</th>\n",
       "      <th>max</th>\n",
       "      <th>count</th>\n",
       "      <th>mean</th>\n",
       "      <th>std</th>\n",
       "      <th>min</th>\n",
       "      <th>25%</th>\n",
       "      <th>50%</th>\n",
       "      <th>75%</th>\n",
       "      <th>max</th>\n",
       "      <th>count</th>\n",
       "      <th>mean</th>\n",
       "      <th>std</th>\n",
       "      <th>min</th>\n",
       "      <th>25%</th>\n",
       "      <th>50%</th>\n",
       "      <th>75%</th>\n",
       "      <th>max</th>\n",
       "      <th>count</th>\n",
       "      <th>mean</th>\n",
       "      <th>std</th>\n",
       "      <th>min</th>\n",
       "      <th>25%</th>\n",
       "      <th>50%</th>\n",
       "      <th>75%</th>\n",
       "      <th>max</th>\n",
       "      <th>count</th>\n",
       "      <th>mean</th>\n",
       "      <th>std</th>\n",
       "      <th>min</th>\n",
       "      <th>25%</th>\n",
       "      <th>50%</th>\n",
       "      <th>75%</th>\n",
       "      <th>max</th>\n",
       "      <th>count</th>\n",
       "      <th>mean</th>\n",
       "      <th>std</th>\n",
       "      <th>min</th>\n",
       "      <th>25%</th>\n",
       "      <th>50%</th>\n",
       "      <th>75%</th>\n",
       "      <th>max</th>\n",
       "      <th>count</th>\n",
       "      <th>mean</th>\n",
       "      <th>std</th>\n",
       "      <th>min</th>\n",
       "      <th>25%</th>\n",
       "      <th>50%</th>\n",
       "      <th>75%</th>\n",
       "      <th>max</th>\n",
       "      <th>count</th>\n",
       "      <th>mean</th>\n",
       "      <th>std</th>\n",
       "      <th>min</th>\n",
       "      <th>25%</th>\n",
       "      <th>50%</th>\n",
       "      <th>75%</th>\n",
       "      <th>max</th>\n",
       "      <th>count</th>\n",
       "      <th>mean</th>\n",
       "      <th>std</th>\n",
       "      <th>min</th>\n",
       "      <th>25%</th>\n",
       "      <th>50%</th>\n",
       "      <th>75%</th>\n",
       "      <th>max</th>\n",
       "      <th>count</th>\n",
       "      <th>mean</th>\n",
       "      <th>std</th>\n",
       "      <th>min</th>\n",
       "      <th>25%</th>\n",
       "      <th>50%</th>\n",
       "      <th>75%</th>\n",
       "      <th>max</th>\n",
       "    </tr>\n",
       "    <tr>\n",
       "      <th>cluster</th>\n",
       "      <th></th>\n",
       "      <th></th>\n",
       "      <th></th>\n",
       "      <th></th>\n",
       "      <th></th>\n",
       "      <th></th>\n",
       "      <th></th>\n",
       "      <th></th>\n",
       "      <th></th>\n",
       "      <th></th>\n",
       "      <th></th>\n",
       "      <th></th>\n",
       "      <th></th>\n",
       "      <th></th>\n",
       "      <th></th>\n",
       "      <th></th>\n",
       "      <th></th>\n",
       "      <th></th>\n",
       "      <th></th>\n",
       "      <th></th>\n",
       "      <th></th>\n",
       "      <th></th>\n",
       "      <th></th>\n",
       "      <th></th>\n",
       "      <th></th>\n",
       "      <th></th>\n",
       "      <th></th>\n",
       "      <th></th>\n",
       "      <th></th>\n",
       "      <th></th>\n",
       "      <th></th>\n",
       "      <th></th>\n",
       "      <th></th>\n",
       "      <th></th>\n",
       "      <th></th>\n",
       "      <th></th>\n",
       "      <th></th>\n",
       "      <th></th>\n",
       "      <th></th>\n",
       "      <th></th>\n",
       "      <th></th>\n",
       "      <th></th>\n",
       "      <th></th>\n",
       "      <th></th>\n",
       "      <th></th>\n",
       "      <th></th>\n",
       "      <th></th>\n",
       "      <th></th>\n",
       "      <th></th>\n",
       "      <th></th>\n",
       "      <th></th>\n",
       "      <th></th>\n",
       "      <th></th>\n",
       "      <th></th>\n",
       "      <th></th>\n",
       "      <th></th>\n",
       "      <th></th>\n",
       "      <th></th>\n",
       "      <th></th>\n",
       "      <th></th>\n",
       "      <th></th>\n",
       "      <th></th>\n",
       "      <th></th>\n",
       "      <th></th>\n",
       "      <th></th>\n",
       "      <th></th>\n",
       "      <th></th>\n",
       "      <th></th>\n",
       "      <th></th>\n",
       "      <th></th>\n",
       "      <th></th>\n",
       "      <th></th>\n",
       "      <th></th>\n",
       "      <th></th>\n",
       "      <th></th>\n",
       "      <th></th>\n",
       "      <th></th>\n",
       "      <th></th>\n",
       "      <th></th>\n",
       "      <th></th>\n",
       "      <th></th>\n",
       "      <th></th>\n",
       "      <th></th>\n",
       "      <th></th>\n",
       "      <th></th>\n",
       "      <th></th>\n",
       "      <th></th>\n",
       "      <th></th>\n",
       "      <th></th>\n",
       "      <th></th>\n",
       "      <th></th>\n",
       "      <th></th>\n",
       "      <th></th>\n",
       "      <th></th>\n",
       "      <th></th>\n",
       "      <th></th>\n",
       "      <th></th>\n",
       "      <th></th>\n",
       "      <th></th>\n",
       "      <th></th>\n",
       "      <th></th>\n",
       "      <th></th>\n",
       "      <th></th>\n",
       "      <th></th>\n",
       "      <th></th>\n",
       "      <th></th>\n",
       "      <th></th>\n",
       "      <th></th>\n",
       "      <th></th>\n",
       "      <th></th>\n",
       "      <th></th>\n",
       "      <th></th>\n",
       "      <th></th>\n",
       "      <th></th>\n",
       "      <th></th>\n",
       "      <th></th>\n",
       "      <th></th>\n",
       "      <th></th>\n",
       "      <th></th>\n",
       "      <th></th>\n",
       "      <th></th>\n",
       "      <th></th>\n",
       "      <th></th>\n",
       "      <th></th>\n",
       "      <th></th>\n",
       "      <th></th>\n",
       "      <th></th>\n",
       "      <th></th>\n",
       "      <th></th>\n",
       "      <th></th>\n",
       "      <th></th>\n",
       "      <th></th>\n",
       "      <th></th>\n",
       "      <th></th>\n",
       "      <th></th>\n",
       "      <th></th>\n",
       "      <th></th>\n",
       "      <th></th>\n",
       "      <th></th>\n",
       "      <th></th>\n",
       "      <th></th>\n",
       "      <th></th>\n",
       "      <th></th>\n",
       "      <th></th>\n",
       "      <th></th>\n",
       "      <th></th>\n",
       "      <th></th>\n",
       "      <th></th>\n",
       "      <th></th>\n",
       "      <th></th>\n",
       "      <th></th>\n",
       "      <th></th>\n",
       "      <th></th>\n",
       "      <th></th>\n",
       "      <th></th>\n",
       "      <th></th>\n",
       "      <th></th>\n",
       "      <th></th>\n",
       "      <th></th>\n",
       "      <th></th>\n",
       "    </tr>\n",
       "  </thead>\n",
       "  <tbody>\n",
       "    <tr>\n",
       "      <th>0</th>\n",
       "      <td>561120.0</td>\n",
       "      <td>978.389864</td>\n",
       "      <td>1486.329283</td>\n",
       "      <td>0.00</td>\n",
       "      <td>156.0</td>\n",
       "      <td>440.0</td>\n",
       "      <td>1100.00</td>\n",
       "      <td>18595.00</td>\n",
       "      <td>561120.0</td>\n",
       "      <td>1.103808</td>\n",
       "      <td>0.308544</td>\n",
       "      <td>1.0</td>\n",
       "      <td>1.0</td>\n",
       "      <td>1.0</td>\n",
       "      <td>1.0</td>\n",
       "      <td>3.0</td>\n",
       "      <td>561120.0</td>\n",
       "      <td>0.865790</td>\n",
       "      <td>0.490771</td>\n",
       "      <td>0.0</td>\n",
       "      <td>1.0</td>\n",
       "      <td>1.0</td>\n",
       "      <td>1.0</td>\n",
       "      <td>2.0</td>\n",
       "      <td>561120.0</td>\n",
       "      <td>886.012084</td>\n",
       "      <td>1345.862337</td>\n",
       "      <td>0.00</td>\n",
       "      <td>150.000000</td>\n",
       "      <td>400.000000</td>\n",
       "      <td>1000.0000</td>\n",
       "      <td>10020.00</td>\n",
       "      <td>561120.0</td>\n",
       "      <td>9.619335e+04</td>\n",
       "      <td>4.812682e+05</td>\n",
       "      <td>0.000000e+00</td>\n",
       "      <td>4.408860e+03</td>\n",
       "      <td>1.520245e+04</td>\n",
       "      <td>5.016250e+04</td>\n",
       "      <td>5.751831e+07</td>\n",
       "      <td>561120.0</td>\n",
       "      <td>9.530734e+04</td>\n",
       "      <td>4.811444e+05</td>\n",
       "      <td>-1.000000e+04</td>\n",
       "      <td>3.792302e+03</td>\n",
       "      <td>1.445031e+04</td>\n",
       "      <td>4.917003e+04</td>\n",
       "      <td>5.751799e+07</td>\n",
       "      <td>561120.0</td>\n",
       "      <td>37.566246</td>\n",
       "      <td>8.768291</td>\n",
       "      <td>22.0</td>\n",
       "      <td>32.0</td>\n",
       "      <td>35.0</td>\n",
       "      <td>41.0</td>\n",
       "      <td>122.0</td>\n",
       "      <td>561120.0</td>\n",
       "      <td>31.667182</td>\n",
       "      <td>8.766144</td>\n",
       "      <td>16.0</td>\n",
       "      <td>26.0</td>\n",
       "      <td>30.0</td>\n",
       "      <td>35.0</td>\n",
       "      <td>116.0</td>\n",
       "      <td>561120.0</td>\n",
       "      <td>0.999453</td>\n",
       "      <td>0.023384</td>\n",
       "      <td>0.0</td>\n",
       "      <td>1.0</td>\n",
       "      <td>1.0</td>\n",
       "      <td>1.0</td>\n",
       "      <td>1.0</td>\n",
       "      <td>561120.0</td>\n",
       "      <td>0.004224</td>\n",
       "      <td>0.064853</td>\n",
       "      <td>0.0</td>\n",
       "      <td>0.0</td>\n",
       "      <td>0.0</td>\n",
       "      <td>0.0</td>\n",
       "      <td>1.0</td>\n",
       "      <td>561120.0</td>\n",
       "      <td>826.178422</td>\n",
       "      <td>1325.702918</td>\n",
       "      <td>0.0</td>\n",
       "      <td>117.32</td>\n",
       "      <td>337.22</td>\n",
       "      <td>951.0</td>\n",
       "      <td>10020.00</td>\n",
       "      <td>561120.0</td>\n",
       "      <td>946.151881</td>\n",
       "      <td>1440.787437</td>\n",
       "      <td>0.00</td>\n",
       "      <td>151.0</td>\n",
       "      <td>420.0</td>\n",
       "      <td>1041.0375</td>\n",
       "      <td>15900.00</td>\n",
       "      <td>561120.0</td>\n",
       "      <td>9.565421e+04</td>\n",
       "      <td>4.771144e+05</td>\n",
       "      <td>0.00</td>\n",
       "      <td>3.943190e+03</td>\n",
       "      <td>1.423374e+04</td>\n",
       "      <td>48049.83</td>\n",
       "      <td>2.869063e+07</td>\n",
       "      <td>561120.0</td>\n",
       "      <td>0.750793</td>\n",
       "      <td>0.740737</td>\n",
       "      <td>0.0</td>\n",
       "      <td>0.0</td>\n",
       "      <td>1.0</td>\n",
       "      <td>1.0</td>\n",
       "      <td>3.0</td>\n",
       "      <td>561120.0</td>\n",
       "      <td>0.000108</td>\n",
       "      <td>0.000536</td>\n",
       "      <td>0.000000</td>\n",
       "      <td>0.000004</td>\n",
       "      <td>0.000016</td>\n",
       "      <td>0.000054</td>\n",
       "      <td>0.032248</td>\n",
       "      <td>561120.0</td>\n",
       "      <td>0.000000</td>\n",
       "      <td>0.000000</td>\n",
       "      <td>0.0</td>\n",
       "      <td>0.0</td>\n",
       "      <td>0.0</td>\n",
       "      <td>0.0</td>\n",
       "      <td>0.0</td>\n",
       "      <td>561120.0</td>\n",
       "      <td>100.0</td>\n",
       "      <td>0.0</td>\n",
       "      <td>100.0</td>\n",
       "      <td>100.0</td>\n",
       "      <td>100.0</td>\n",
       "      <td>100.0</td>\n",
       "      <td>100.0</td>\n",
       "      <td>506072.0</td>\n",
       "      <td>99.996048</td>\n",
       "      <td>0.362894</td>\n",
       "      <td>66.67</td>\n",
       "      <td>100.00</td>\n",
       "      <td>100.00</td>\n",
       "      <td>100.0</td>\n",
       "      <td>100.0</td>\n",
       "      <td>561120.0</td>\n",
       "      <td>0.000280</td>\n",
       "      <td>0.016725</td>\n",
       "      <td>0.0</td>\n",
       "      <td>0.0</td>\n",
       "      <td>0.0</td>\n",
       "      <td>0.0</td>\n",
       "      <td>1.0</td>\n",
       "      <td>506924.0</td>\n",
       "      <td>99.994806</td>\n",
       "      <td>0.416049</td>\n",
       "      <td>66.67</td>\n",
       "      <td>100.00</td>\n",
       "      <td>100.0</td>\n",
       "      <td>100.0</td>\n",
       "      <td>100.0</td>\n",
       "    </tr>\n",
       "    <tr>\n",
       "      <th>1</th>\n",
       "      <td>200907.0</td>\n",
       "      <td>1102.014714</td>\n",
       "      <td>1543.581526</td>\n",
       "      <td>0.00</td>\n",
       "      <td>200.0</td>\n",
       "      <td>509.0</td>\n",
       "      <td>1348.00</td>\n",
       "      <td>16210.00</td>\n",
       "      <td>200907.0</td>\n",
       "      <td>1.042736</td>\n",
       "      <td>0.202803</td>\n",
       "      <td>1.0</td>\n",
       "      <td>1.0</td>\n",
       "      <td>1.0</td>\n",
       "      <td>1.0</td>\n",
       "      <td>3.0</td>\n",
       "      <td>200907.0</td>\n",
       "      <td>0.869208</td>\n",
       "      <td>0.415738</td>\n",
       "      <td>0.0</td>\n",
       "      <td>1.0</td>\n",
       "      <td>1.0</td>\n",
       "      <td>1.0</td>\n",
       "      <td>2.0</td>\n",
       "      <td>200907.0</td>\n",
       "      <td>1056.437260</td>\n",
       "      <td>1476.704056</td>\n",
       "      <td>0.00</td>\n",
       "      <td>200.000000</td>\n",
       "      <td>500.000000</td>\n",
       "      <td>1289.0000</td>\n",
       "      <td>10800.00</td>\n",
       "      <td>200907.0</td>\n",
       "      <td>9.061923e+04</td>\n",
       "      <td>3.729448e+05</td>\n",
       "      <td>0.000000e+00</td>\n",
       "      <td>6.481733e+03</td>\n",
       "      <td>2.017366e+04</td>\n",
       "      <td>6.200019e+04</td>\n",
       "      <td>3.112891e+07</td>\n",
       "      <td>200907.0</td>\n",
       "      <td>8.956280e+04</td>\n",
       "      <td>3.728123e+05</td>\n",
       "      <td>-1.061618e+04</td>\n",
       "      <td>5.702400e+03</td>\n",
       "      <td>1.921975e+04</td>\n",
       "      <td>6.104204e+04</td>\n",
       "      <td>3.112825e+07</td>\n",
       "      <td>200907.0</td>\n",
       "      <td>36.876754</td>\n",
       "      <td>9.103079</td>\n",
       "      <td>22.0</td>\n",
       "      <td>31.0</td>\n",
       "      <td>34.0</td>\n",
       "      <td>40.0</td>\n",
       "      <td>122.0</td>\n",
       "      <td>200907.0</td>\n",
       "      <td>30.971793</td>\n",
       "      <td>9.104101</td>\n",
       "      <td>16.0</td>\n",
       "      <td>25.0</td>\n",
       "      <td>28.0</td>\n",
       "      <td>34.0</td>\n",
       "      <td>116.0</td>\n",
       "      <td>200907.0</td>\n",
       "      <td>0.999597</td>\n",
       "      <td>0.020075</td>\n",
       "      <td>0.0</td>\n",
       "      <td>1.0</td>\n",
       "      <td>1.0</td>\n",
       "      <td>1.0</td>\n",
       "      <td>1.0</td>\n",
       "      <td>200907.0</td>\n",
       "      <td>0.005525</td>\n",
       "      <td>0.074125</td>\n",
       "      <td>0.0</td>\n",
       "      <td>0.0</td>\n",
       "      <td>0.0</td>\n",
       "      <td>0.0</td>\n",
       "      <td>1.0</td>\n",
       "      <td>200907.0</td>\n",
       "      <td>1028.151127</td>\n",
       "      <td>1469.531607</td>\n",
       "      <td>0.0</td>\n",
       "      <td>188.00</td>\n",
       "      <td>499.00</td>\n",
       "      <td>1229.0</td>\n",
       "      <td>10800.00</td>\n",
       "      <td>200907.0</td>\n",
       "      <td>1084.780590</td>\n",
       "      <td>1518.587219</td>\n",
       "      <td>0.00</td>\n",
       "      <td>200.0</td>\n",
       "      <td>500.0</td>\n",
       "      <td>1314.0000</td>\n",
       "      <td>16110.00</td>\n",
       "      <td>200907.0</td>\n",
       "      <td>9.079304e+04</td>\n",
       "      <td>3.808211e+05</td>\n",
       "      <td>0.00</td>\n",
       "      <td>6.263295e+03</td>\n",
       "      <td>1.979681e+04</td>\n",
       "      <td>61413.40</td>\n",
       "      <td>3.112891e+07</td>\n",
       "      <td>200907.0</td>\n",
       "      <td>0.848567</td>\n",
       "      <td>0.726021</td>\n",
       "      <td>0.0</td>\n",
       "      <td>0.0</td>\n",
       "      <td>1.0</td>\n",
       "      <td>1.0</td>\n",
       "      <td>3.0</td>\n",
       "      <td>200907.0</td>\n",
       "      <td>0.000102</td>\n",
       "      <td>0.000428</td>\n",
       "      <td>0.000000</td>\n",
       "      <td>0.000007</td>\n",
       "      <td>0.000022</td>\n",
       "      <td>0.000069</td>\n",
       "      <td>0.034989</td>\n",
       "      <td>200907.0</td>\n",
       "      <td>0.000000</td>\n",
       "      <td>0.000000</td>\n",
       "      <td>0.0</td>\n",
       "      <td>0.0</td>\n",
       "      <td>0.0</td>\n",
       "      <td>0.0</td>\n",
       "      <td>0.0</td>\n",
       "      <td>200907.0</td>\n",
       "      <td>100.0</td>\n",
       "      <td>0.0</td>\n",
       "      <td>100.0</td>\n",
       "      <td>100.0</td>\n",
       "      <td>100.0</td>\n",
       "      <td>100.0</td>\n",
       "      <td>100.0</td>\n",
       "      <td>192991.0</td>\n",
       "      <td>99.999309</td>\n",
       "      <td>0.151738</td>\n",
       "      <td>66.67</td>\n",
       "      <td>100.00</td>\n",
       "      <td>100.00</td>\n",
       "      <td>100.0</td>\n",
       "      <td>100.0</td>\n",
       "      <td>200907.0</td>\n",
       "      <td>0.000607</td>\n",
       "      <td>0.024635</td>\n",
       "      <td>0.0</td>\n",
       "      <td>0.0</td>\n",
       "      <td>0.0</td>\n",
       "      <td>0.0</td>\n",
       "      <td>1.0</td>\n",
       "      <td>192886.0</td>\n",
       "      <td>99.999827</td>\n",
       "      <td>0.075890</td>\n",
       "      <td>66.67</td>\n",
       "      <td>100.00</td>\n",
       "      <td>100.0</td>\n",
       "      <td>100.0</td>\n",
       "      <td>100.0</td>\n",
       "    </tr>\n",
       "    <tr>\n",
       "      <th>2</th>\n",
       "      <td>59957.0</td>\n",
       "      <td>2758.158713</td>\n",
       "      <td>3538.955699</td>\n",
       "      <td>4.00</td>\n",
       "      <td>729.0</td>\n",
       "      <td>1543.0</td>\n",
       "      <td>3176.32</td>\n",
       "      <td>39602.75</td>\n",
       "      <td>59957.0</td>\n",
       "      <td>2.273479</td>\n",
       "      <td>0.504876</td>\n",
       "      <td>2.0</td>\n",
       "      <td>2.0</td>\n",
       "      <td>2.0</td>\n",
       "      <td>2.0</td>\n",
       "      <td>6.0</td>\n",
       "      <td>59957.0</td>\n",
       "      <td>1.860083</td>\n",
       "      <td>0.705752</td>\n",
       "      <td>0.0</td>\n",
       "      <td>1.0</td>\n",
       "      <td>2.0</td>\n",
       "      <td>2.0</td>\n",
       "      <td>6.0</td>\n",
       "      <td>59957.0</td>\n",
       "      <td>1218.269685</td>\n",
       "      <td>1555.196590</td>\n",
       "      <td>2.00</td>\n",
       "      <td>332.716667</td>\n",
       "      <td>680.316667</td>\n",
       "      <td>1390.0000</td>\n",
       "      <td>11999.50</td>\n",
       "      <td>59957.0</td>\n",
       "      <td>1.010602e+05</td>\n",
       "      <td>3.649124e+05</td>\n",
       "      <td>0.000000e+00</td>\n",
       "      <td>1.228850e+04</td>\n",
       "      <td>2.961770e+04</td>\n",
       "      <td>8.035557e+04</td>\n",
       "      <td>2.549986e+07</td>\n",
       "      <td>59957.0</td>\n",
       "      <td>9.984198e+04</td>\n",
       "      <td>3.647998e+05</td>\n",
       "      <td>-1.140905e+04</td>\n",
       "      <td>1.132949e+04</td>\n",
       "      <td>2.843793e+04</td>\n",
       "      <td>7.897797e+04</td>\n",
       "      <td>2.549899e+07</td>\n",
       "      <td>59957.0</td>\n",
       "      <td>37.426606</td>\n",
       "      <td>9.084545</td>\n",
       "      <td>22.0</td>\n",
       "      <td>31.0</td>\n",
       "      <td>35.0</td>\n",
       "      <td>41.0</td>\n",
       "      <td>122.0</td>\n",
       "      <td>59957.0</td>\n",
       "      <td>31.524693</td>\n",
       "      <td>9.083951</td>\n",
       "      <td>16.0</td>\n",
       "      <td>26.0</td>\n",
       "      <td>29.0</td>\n",
       "      <td>35.0</td>\n",
       "      <td>116.0</td>\n",
       "      <td>59957.0</td>\n",
       "      <td>0.999366</td>\n",
       "      <td>0.025167</td>\n",
       "      <td>0.0</td>\n",
       "      <td>1.0</td>\n",
       "      <td>1.0</td>\n",
       "      <td>1.0</td>\n",
       "      <td>1.0</td>\n",
       "      <td>59957.0</td>\n",
       "      <td>0.005354</td>\n",
       "      <td>0.072974</td>\n",
       "      <td>0.0</td>\n",
       "      <td>0.0</td>\n",
       "      <td>0.0</td>\n",
       "      <td>0.0</td>\n",
       "      <td>1.0</td>\n",
       "      <td>59957.0</td>\n",
       "      <td>339.082966</td>\n",
       "      <td>510.280362</td>\n",
       "      <td>0.0</td>\n",
       "      <td>60.00</td>\n",
       "      <td>190.00</td>\n",
       "      <td>400.0</td>\n",
       "      <td>9999.00</td>\n",
       "      <td>59957.0</td>\n",
       "      <td>2230.670745</td>\n",
       "      <td>3189.915573</td>\n",
       "      <td>3.00</td>\n",
       "      <td>500.0</td>\n",
       "      <td>1100.0</td>\n",
       "      <td>2426.0000</td>\n",
       "      <td>39000.00</td>\n",
       "      <td>59957.0</td>\n",
       "      <td>9.911235e+04</td>\n",
       "      <td>4.678362e+05</td>\n",
       "      <td>0.00</td>\n",
       "      <td>4.853410e+03</td>\n",
       "      <td>1.690421e+04</td>\n",
       "      <td>56769.24</td>\n",
       "      <td>3.112891e+07</td>\n",
       "      <td>59957.0</td>\n",
       "      <td>0.805527</td>\n",
       "      <td>0.744007</td>\n",
       "      <td>0.0</td>\n",
       "      <td>0.0</td>\n",
       "      <td>1.0</td>\n",
       "      <td>1.0</td>\n",
       "      <td>3.0</td>\n",
       "      <td>59957.0</td>\n",
       "      <td>0.000111</td>\n",
       "      <td>0.000526</td>\n",
       "      <td>0.000000</td>\n",
       "      <td>0.000005</td>\n",
       "      <td>0.000019</td>\n",
       "      <td>0.000064</td>\n",
       "      <td>0.034989</td>\n",
       "      <td>59957.0</td>\n",
       "      <td>0.000000</td>\n",
       "      <td>0.000000</td>\n",
       "      <td>0.0</td>\n",
       "      <td>0.0</td>\n",
       "      <td>0.0</td>\n",
       "      <td>0.0</td>\n",
       "      <td>0.0</td>\n",
       "      <td>59957.0</td>\n",
       "      <td>100.0</td>\n",
       "      <td>0.0</td>\n",
       "      <td>100.0</td>\n",
       "      <td>100.0</td>\n",
       "      <td>100.0</td>\n",
       "      <td>100.0</td>\n",
       "      <td>100.0</td>\n",
       "      <td>3677.0</td>\n",
       "      <td>81.468221</td>\n",
       "      <td>18.538753</td>\n",
       "      <td>40.00</td>\n",
       "      <td>66.67</td>\n",
       "      <td>66.67</td>\n",
       "      <td>100.0</td>\n",
       "      <td>100.0</td>\n",
       "      <td>59957.0</td>\n",
       "      <td>0.041580</td>\n",
       "      <td>0.199712</td>\n",
       "      <td>0.0</td>\n",
       "      <td>0.0</td>\n",
       "      <td>0.0</td>\n",
       "      <td>0.0</td>\n",
       "      <td>2.0</td>\n",
       "      <td>5804.0</td>\n",
       "      <td>82.580589</td>\n",
       "      <td>18.657139</td>\n",
       "      <td>33.33</td>\n",
       "      <td>66.67</td>\n",
       "      <td>100.0</td>\n",
       "      <td>100.0</td>\n",
       "      <td>100.0</td>\n",
       "    </tr>\n",
       "    <tr>\n",
       "      <th>3</th>\n",
       "      <td>101.0</td>\n",
       "      <td>9717.467525</td>\n",
       "      <td>23638.241573</td>\n",
       "      <td>131.35</td>\n",
       "      <td>1479.0</td>\n",
       "      <td>2800.0</td>\n",
       "      <td>5476.00</td>\n",
       "      <td>143961.00</td>\n",
       "      <td>101.0</td>\n",
       "      <td>1.237624</td>\n",
       "      <td>0.450522</td>\n",
       "      <td>1.0</td>\n",
       "      <td>1.0</td>\n",
       "      <td>1.0</td>\n",
       "      <td>1.0</td>\n",
       "      <td>3.0</td>\n",
       "      <td>101.0</td>\n",
       "      <td>1.207921</td>\n",
       "      <td>0.431667</td>\n",
       "      <td>1.0</td>\n",
       "      <td>1.0</td>\n",
       "      <td>1.0</td>\n",
       "      <td>1.0</td>\n",
       "      <td>3.0</td>\n",
       "      <td>101.0</td>\n",
       "      <td>8732.695809</td>\n",
       "      <td>23190.935247</td>\n",
       "      <td>126.71</td>\n",
       "      <td>1368.000000</td>\n",
       "      <td>2254.000000</td>\n",
       "      <td>4500.0000</td>\n",
       "      <td>143961.00</td>\n",
       "      <td>101.0</td>\n",
       "      <td>4.975331e+07</td>\n",
       "      <td>2.722940e+07</td>\n",
       "      <td>1.252693e+07</td>\n",
       "      <td>3.725486e+07</td>\n",
       "      <td>3.725486e+07</td>\n",
       "      <td>6.979933e+07</td>\n",
       "      <td>1.150355e+08</td>\n",
       "      <td>101.0</td>\n",
       "      <td>4.974458e+07</td>\n",
       "      <td>2.722809e+07</td>\n",
       "      <td>1.252473e+07</td>\n",
       "      <td>3.724491e+07</td>\n",
       "      <td>3.725450e+07</td>\n",
       "      <td>6.967791e+07</td>\n",
       "      <td>1.150339e+08</td>\n",
       "      <td>101.0</td>\n",
       "      <td>64.227723</td>\n",
       "      <td>17.022268</td>\n",
       "      <td>30.0</td>\n",
       "      <td>56.0</td>\n",
       "      <td>69.0</td>\n",
       "      <td>69.0</td>\n",
       "      <td>92.0</td>\n",
       "      <td>101.0</td>\n",
       "      <td>58.237624</td>\n",
       "      <td>17.003616</td>\n",
       "      <td>24.0</td>\n",
       "      <td>50.0</td>\n",
       "      <td>63.0</td>\n",
       "      <td>63.0</td>\n",
       "      <td>86.0</td>\n",
       "      <td>101.0</td>\n",
       "      <td>1.000000</td>\n",
       "      <td>0.000000</td>\n",
       "      <td>1.0</td>\n",
       "      <td>1.0</td>\n",
       "      <td>1.0</td>\n",
       "      <td>1.0</td>\n",
       "      <td>1.0</td>\n",
       "      <td>101.0</td>\n",
       "      <td>0.158416</td>\n",
       "      <td>0.366952</td>\n",
       "      <td>0.0</td>\n",
       "      <td>0.0</td>\n",
       "      <td>0.0</td>\n",
       "      <td>0.0</td>\n",
       "      <td>1.0</td>\n",
       "      <td>101.0</td>\n",
       "      <td>7896.182376</td>\n",
       "      <td>23216.640752</td>\n",
       "      <td>41.0</td>\n",
       "      <td>700.00</td>\n",
       "      <td>1975.13</td>\n",
       "      <td>3954.0</td>\n",
       "      <td>143961.00</td>\n",
       "      <td>101.0</td>\n",
       "      <td>9571.106931</td>\n",
       "      <td>23645.918782</td>\n",
       "      <td>131.35</td>\n",
       "      <td>1398.0</td>\n",
       "      <td>2500.0</td>\n",
       "      <td>5060.0000</td>\n",
       "      <td>143961.00</td>\n",
       "      <td>101.0</td>\n",
       "      <td>5.517008e+07</td>\n",
       "      <td>2.531634e+07</td>\n",
       "      <td>36090853.96</td>\n",
       "      <td>3.725486e+07</td>\n",
       "      <td>3.832115e+07</td>\n",
       "      <td>82244629.90</td>\n",
       "      <td>1.150355e+08</td>\n",
       "      <td>101.0</td>\n",
       "      <td>3.000000</td>\n",
       "      <td>0.000000</td>\n",
       "      <td>3.0</td>\n",
       "      <td>3.0</td>\n",
       "      <td>3.0</td>\n",
       "      <td>3.0</td>\n",
       "      <td>3.0</td>\n",
       "      <td>101.0</td>\n",
       "      <td>0.062011</td>\n",
       "      <td>0.028455</td>\n",
       "      <td>0.040566</td>\n",
       "      <td>0.041874</td>\n",
       "      <td>0.043073</td>\n",
       "      <td>0.092442</td>\n",
       "      <td>0.129299</td>\n",
       "      <td>101.0</td>\n",
       "      <td>0.990099</td>\n",
       "      <td>0.099504</td>\n",
       "      <td>0.0</td>\n",
       "      <td>1.0</td>\n",
       "      <td>1.0</td>\n",
       "      <td>1.0</td>\n",
       "      <td>1.0</td>\n",
       "      <td>101.0</td>\n",
       "      <td>100.0</td>\n",
       "      <td>0.0</td>\n",
       "      <td>100.0</td>\n",
       "      <td>100.0</td>\n",
       "      <td>100.0</td>\n",
       "      <td>100.0</td>\n",
       "      <td>100.0</td>\n",
       "      <td>80.0</td>\n",
       "      <td>100.000000</td>\n",
       "      <td>0.000000</td>\n",
       "      <td>100.00</td>\n",
       "      <td>100.00</td>\n",
       "      <td>100.00</td>\n",
       "      <td>100.0</td>\n",
       "      <td>100.0</td>\n",
       "      <td>101.0</td>\n",
       "      <td>0.128713</td>\n",
       "      <td>0.336552</td>\n",
       "      <td>0.0</td>\n",
       "      <td>0.0</td>\n",
       "      <td>0.0</td>\n",
       "      <td>0.0</td>\n",
       "      <td>1.0</td>\n",
       "      <td>79.0</td>\n",
       "      <td>100.000000</td>\n",
       "      <td>0.000000</td>\n",
       "      <td>100.00</td>\n",
       "      <td>100.00</td>\n",
       "      <td>100.0</td>\n",
       "      <td>100.0</td>\n",
       "      <td>100.0</td>\n",
       "    </tr>\n",
       "    <tr>\n",
       "      <th>4</th>\n",
       "      <td>16996.0</td>\n",
       "      <td>29086.695410</td>\n",
       "      <td>35829.516010</td>\n",
       "      <td>2062.00</td>\n",
       "      <td>13600.0</td>\n",
       "      <td>20000.0</td>\n",
       "      <td>30702.00</td>\n",
       "      <td>1560034.99</td>\n",
       "      <td>16996.0</td>\n",
       "      <td>1.178160</td>\n",
       "      <td>0.432467</td>\n",
       "      <td>1.0</td>\n",
       "      <td>1.0</td>\n",
       "      <td>1.0</td>\n",
       "      <td>1.0</td>\n",
       "      <td>5.0</td>\n",
       "      <td>16996.0</td>\n",
       "      <td>1.139092</td>\n",
       "      <td>0.379156</td>\n",
       "      <td>1.0</td>\n",
       "      <td>1.0</td>\n",
       "      <td>1.0</td>\n",
       "      <td>1.0</td>\n",
       "      <td>4.0</td>\n",
       "      <td>16996.0</td>\n",
       "      <td>25675.298905</td>\n",
       "      <td>33275.532033</td>\n",
       "      <td>2062.00</td>\n",
       "      <td>12543.000000</td>\n",
       "      <td>17250.000000</td>\n",
       "      <td>26923.2525</td>\n",
       "      <td>1560034.99</td>\n",
       "      <td>16996.0</td>\n",
       "      <td>3.267903e+05</td>\n",
       "      <td>1.301639e+06</td>\n",
       "      <td>0.000000e+00</td>\n",
       "      <td>1.723254e+04</td>\n",
       "      <td>6.059584e+04</td>\n",
       "      <td>2.160019e+05</td>\n",
       "      <td>3.445782e+07</td>\n",
       "      <td>16996.0</td>\n",
       "      <td>3.011150e+05</td>\n",
       "      <td>1.300424e+06</td>\n",
       "      <td>-1.517547e+06</td>\n",
       "      <td>-2.598863e+03</td>\n",
       "      <td>3.809475e+04</td>\n",
       "      <td>1.872601e+05</td>\n",
       "      <td>3.445241e+07</td>\n",
       "      <td>16996.0</td>\n",
       "      <td>42.661920</td>\n",
       "      <td>11.813898</td>\n",
       "      <td>22.0</td>\n",
       "      <td>34.0</td>\n",
       "      <td>40.0</td>\n",
       "      <td>49.0</td>\n",
       "      <td>121.0</td>\n",
       "      <td>16996.0</td>\n",
       "      <td>36.756590</td>\n",
       "      <td>11.810483</td>\n",
       "      <td>16.0</td>\n",
       "      <td>28.0</td>\n",
       "      <td>34.0</td>\n",
       "      <td>43.0</td>\n",
       "      <td>115.0</td>\n",
       "      <td>16996.0</td>\n",
       "      <td>0.999470</td>\n",
       "      <td>0.023006</td>\n",
       "      <td>0.0</td>\n",
       "      <td>1.0</td>\n",
       "      <td>1.0</td>\n",
       "      <td>1.0</td>\n",
       "      <td>1.0</td>\n",
       "      <td>16996.0</td>\n",
       "      <td>0.015474</td>\n",
       "      <td>0.123433</td>\n",
       "      <td>0.0</td>\n",
       "      <td>0.0</td>\n",
       "      <td>0.0</td>\n",
       "      <td>0.0</td>\n",
       "      <td>1.0</td>\n",
       "      <td>16996.0</td>\n",
       "      <td>22811.430305</td>\n",
       "      <td>33872.598753</td>\n",
       "      <td>0.0</td>\n",
       "      <td>11204.89</td>\n",
       "      <td>15376.00</td>\n",
       "      <td>25000.0</td>\n",
       "      <td>1560034.99</td>\n",
       "      <td>16996.0</td>\n",
       "      <td>28828.109398</td>\n",
       "      <td>35684.455370</td>\n",
       "      <td>2062.00</td>\n",
       "      <td>13545.0</td>\n",
       "      <td>20000.0</td>\n",
       "      <td>30000.0000</td>\n",
       "      <td>1560034.99</td>\n",
       "      <td>16996.0</td>\n",
       "      <td>3.259423e+05</td>\n",
       "      <td>1.292863e+06</td>\n",
       "      <td>0.00</td>\n",
       "      <td>1.397463e+04</td>\n",
       "      <td>5.565293e+04</td>\n",
       "      <td>209579.12</td>\n",
       "      <td>3.445782e+07</td>\n",
       "      <td>16996.0</td>\n",
       "      <td>1.248647</td>\n",
       "      <td>0.838371</td>\n",
       "      <td>0.0</td>\n",
       "      <td>1.0</td>\n",
       "      <td>1.0</td>\n",
       "      <td>2.0</td>\n",
       "      <td>3.0</td>\n",
       "      <td>16996.0</td>\n",
       "      <td>0.000366</td>\n",
       "      <td>0.001453</td>\n",
       "      <td>0.000000</td>\n",
       "      <td>0.000016</td>\n",
       "      <td>0.000063</td>\n",
       "      <td>0.000236</td>\n",
       "      <td>0.038730</td>\n",
       "      <td>16996.0</td>\n",
       "      <td>0.000000</td>\n",
       "      <td>0.000000</td>\n",
       "      <td>0.0</td>\n",
       "      <td>0.0</td>\n",
       "      <td>0.0</td>\n",
       "      <td>0.0</td>\n",
       "      <td>0.0</td>\n",
       "      <td>16996.0</td>\n",
       "      <td>100.0</td>\n",
       "      <td>0.0</td>\n",
       "      <td>100.0</td>\n",
       "      <td>100.0</td>\n",
       "      <td>100.0</td>\n",
       "      <td>100.0</td>\n",
       "      <td>100.0</td>\n",
       "      <td>14421.0</td>\n",
       "      <td>99.915062</td>\n",
       "      <td>1.710300</td>\n",
       "      <td>50.00</td>\n",
       "      <td>100.00</td>\n",
       "      <td>100.00</td>\n",
       "      <td>100.0</td>\n",
       "      <td>100.0</td>\n",
       "      <td>16996.0</td>\n",
       "      <td>1.003295</td>\n",
       "      <td>0.066791</td>\n",
       "      <td>0.0</td>\n",
       "      <td>1.0</td>\n",
       "      <td>1.0</td>\n",
       "      <td>1.0</td>\n",
       "      <td>2.0</td>\n",
       "      <td>14495.0</td>\n",
       "      <td>99.872379</td>\n",
       "      <td>2.180632</td>\n",
       "      <td>50.00</td>\n",
       "      <td>100.00</td>\n",
       "      <td>100.0</td>\n",
       "      <td>100.0</td>\n",
       "      <td>100.0</td>\n",
       "    </tr>\n",
       "  </tbody>\n",
       "</table>\n",
       "</div>"
      ],
      "text/plain": [
       "        TOT TransactionAmount (INR)                                       \\\n",
       "                              count          mean           std      min   \n",
       "cluster                                                                    \n",
       "0                          561120.0    978.389864   1486.329283     0.00   \n",
       "1                          200907.0   1102.014714   1543.581526     0.00   \n",
       "2                           59957.0   2758.158713   3538.955699     4.00   \n",
       "3                             101.0   9717.467525  23638.241573   131.35   \n",
       "4                           16996.0  29086.695410  35829.516010  2062.00   \n",
       "\n",
       "                                                Number_of_transaction  \\\n",
       "             25%      50%       75%         max                 count   \n",
       "cluster                                                                 \n",
       "0          156.0    440.0   1100.00    18595.00              561120.0   \n",
       "1          200.0    509.0   1348.00    16210.00              200907.0   \n",
       "2          729.0   1543.0   3176.32    39602.75               59957.0   \n",
       "3         1479.0   2800.0   5476.00   143961.00                 101.0   \n",
       "4        13600.0  20000.0  30702.00  1560034.99               16996.0   \n",
       "\n",
       "                                                      \\\n",
       "             mean       std  min  25%  50%  75%  max   \n",
       "cluster                                                \n",
       "0        1.103808  0.308544  1.0  1.0  1.0  1.0  3.0   \n",
       "1        1.042736  0.202803  1.0  1.0  1.0  1.0  3.0   \n",
       "2        2.273479  0.504876  2.0  2.0  2.0  2.0  6.0   \n",
       "3        1.237624  0.450522  1.0  1.0  1.0  1.0  3.0   \n",
       "4        1.178160  0.432467  1.0  1.0  1.0  1.0  5.0   \n",
       "\n",
       "        Number_of_transaction_100                                          \\\n",
       "                            count      mean       std  min  25%  50%  75%   \n",
       "cluster                                                                     \n",
       "0                        561120.0  0.865790  0.490771  0.0  1.0  1.0  1.0   \n",
       "1                        200907.0  0.869208  0.415738  0.0  1.0  1.0  1.0   \n",
       "2                         59957.0  1.860083  0.705752  0.0  1.0  2.0  2.0   \n",
       "3                           101.0  1.207921  0.431667  1.0  1.0  1.0  1.0   \n",
       "4                         16996.0  1.139092  0.379156  1.0  1.0  1.0  1.0   \n",
       "\n",
       "             Average_transaction_amount                                       \\\n",
       "         max                      count          mean           std      min   \n",
       "cluster                                                                        \n",
       "0        2.0                   561120.0    886.012084   1345.862337     0.00   \n",
       "1        2.0                   200907.0   1056.437260   1476.704056     0.00   \n",
       "2        6.0                    59957.0   1218.269685   1555.196590     2.00   \n",
       "3        3.0                      101.0   8732.695809  23190.935247   126.71   \n",
       "4        4.0                    16996.0  25675.298905  33275.532033  2062.00   \n",
       "\n",
       "                                                             \\\n",
       "                  25%           50%         75%         max   \n",
       "cluster                                                       \n",
       "0          150.000000    400.000000   1000.0000    10020.00   \n",
       "1          200.000000    500.000000   1289.0000    10800.00   \n",
       "2          332.716667    680.316667   1390.0000    11999.50   \n",
       "3         1368.000000   2254.000000   4500.0000   143961.00   \n",
       "4        12543.000000  17250.000000  26923.2525  1560034.99   \n",
       "\n",
       "        Average_amount_balance                                            \\\n",
       "                         count          mean           std           min   \n",
       "cluster                                                                    \n",
       "0                     561120.0  9.619335e+04  4.812682e+05  0.000000e+00   \n",
       "1                     200907.0  9.061923e+04  3.729448e+05  0.000000e+00   \n",
       "2                      59957.0  1.010602e+05  3.649124e+05  0.000000e+00   \n",
       "3                        101.0  4.975331e+07  2.722940e+07  1.252693e+07   \n",
       "4                      16996.0  3.267903e+05  1.301639e+06  0.000000e+00   \n",
       "\n",
       "                                                                 \\\n",
       "                  25%           50%           75%           max   \n",
       "cluster                                                           \n",
       "0        4.408860e+03  1.520245e+04  5.016250e+04  5.751831e+07   \n",
       "1        6.481733e+03  2.017366e+04  6.200019e+04  3.112891e+07   \n",
       "2        1.228850e+04  2.961770e+04  8.035557e+04  2.549986e+07   \n",
       "3        3.725486e+07  3.725486e+07  6.979933e+07  1.150355e+08   \n",
       "4        1.723254e+04  6.059584e+04  2.160019e+05  3.445782e+07   \n",
       "\n",
       "        Average_Utilisation                                            \\\n",
       "                      count          mean           std           min   \n",
       "cluster                                                                 \n",
       "0                  561120.0  9.530734e+04  4.811444e+05 -1.000000e+04   \n",
       "1                  200907.0  8.956280e+04  3.728123e+05 -1.061618e+04   \n",
       "2                   59957.0  9.984198e+04  3.647998e+05 -1.140905e+04   \n",
       "3                     101.0  4.974458e+07  2.722809e+07  1.252473e+07   \n",
       "4                   16996.0  3.011150e+05  1.300424e+06 -1.517547e+06   \n",
       "\n",
       "                                                                CustomerAge  \\\n",
       "                  25%           50%           75%           max       count   \n",
       "cluster                                                                       \n",
       "0        3.792302e+03  1.445031e+04  4.917003e+04  5.751799e+07    561120.0   \n",
       "1        5.702400e+03  1.921975e+04  6.104204e+04  3.112825e+07    200907.0   \n",
       "2        1.132949e+04  2.843793e+04  7.897797e+04  2.549899e+07     59957.0   \n",
       "3        3.724491e+07  3.725450e+07  6.967791e+07  1.150339e+08       101.0   \n",
       "4       -2.598863e+03  3.809475e+04  1.872601e+05  3.445241e+07     16996.0   \n",
       "\n",
       "                                                             Age_in_2016  \\\n",
       "              mean        std   min   25%   50%   75%    max       count   \n",
       "cluster                                                                    \n",
       "0        37.566246   8.768291  22.0  32.0  35.0  41.0  122.0    561120.0   \n",
       "1        36.876754   9.103079  22.0  31.0  34.0  40.0  122.0    200907.0   \n",
       "2        37.426606   9.084545  22.0  31.0  35.0  41.0  122.0     59957.0   \n",
       "3        64.227723  17.022268  30.0  56.0  69.0  69.0   92.0       101.0   \n",
       "4        42.661920  11.813898  22.0  34.0  40.0  49.0  121.0     16996.0   \n",
       "\n",
       "                                                                 Major  \\\n",
       "              mean        std   min   25%   50%   75%    max     count   \n",
       "cluster                                                                  \n",
       "0        31.667182   8.766144  16.0  26.0  30.0  35.0  116.0  561120.0   \n",
       "1        30.971793   9.104101  16.0  25.0  28.0  34.0  116.0  200907.0   \n",
       "2        31.524693   9.083951  16.0  26.0  29.0  35.0  116.0   59957.0   \n",
       "3        58.237624  17.003616  24.0  50.0  63.0  63.0   86.0     101.0   \n",
       "4        36.756590  11.810483  16.0  28.0  34.0  43.0  115.0   16996.0   \n",
       "\n",
       "                                                           Old            \\\n",
       "             mean       std  min  25%  50%  75%  max     count      mean   \n",
       "cluster                                                                    \n",
       "0        0.999453  0.023384  0.0  1.0  1.0  1.0  1.0  561120.0  0.004224   \n",
       "1        0.999597  0.020075  0.0  1.0  1.0  1.0  1.0  200907.0  0.005525   \n",
       "2        0.999366  0.025167  0.0  1.0  1.0  1.0  1.0   59957.0  0.005354   \n",
       "3        1.000000  0.000000  1.0  1.0  1.0  1.0  1.0     101.0  0.158416   \n",
       "4        0.999470  0.023006  0.0  1.0  1.0  1.0  1.0   16996.0  0.015474   \n",
       "\n",
       "                                           Min Transaction                \\\n",
       "              std  min  25%  50%  75%  max           count          mean   \n",
       "cluster                                                                    \n",
       "0        0.064853  0.0  0.0  0.0  0.0  1.0        561120.0    826.178422   \n",
       "1        0.074125  0.0  0.0  0.0  0.0  1.0        200907.0   1028.151127   \n",
       "2        0.072974  0.0  0.0  0.0  0.0  1.0         59957.0    339.082966   \n",
       "3        0.366952  0.0  0.0  0.0  0.0  1.0           101.0   7896.182376   \n",
       "4        0.123433  0.0  0.0  0.0  0.0  1.0         16996.0  22811.430305   \n",
       "\n",
       "                                                                      \\\n",
       "                  std   min       25%       50%      75%         max   \n",
       "cluster                                                                \n",
       "0         1325.702918   0.0    117.32    337.22    951.0    10020.00   \n",
       "1         1469.531607   0.0    188.00    499.00   1229.0    10800.00   \n",
       "2          510.280362   0.0     60.00    190.00    400.0     9999.00   \n",
       "3        23216.640752  41.0    700.00   1975.13   3954.0   143961.00   \n",
       "4        33872.598753   0.0  11204.89  15376.00  25000.0  1560034.99   \n",
       "\n",
       "        Max Transaction                                                \\\n",
       "                  count          mean           std      min      25%   \n",
       "cluster                                                                 \n",
       "0              561120.0    946.151881   1440.787437     0.00    151.0   \n",
       "1              200907.0   1084.780590   1518.587219     0.00    200.0   \n",
       "2               59957.0   2230.670745   3189.915573     3.00    500.0   \n",
       "3                 101.0   9571.106931  23645.918782   131.35   1398.0   \n",
       "4               16996.0  28828.109398  35684.455370  2062.00  13545.0   \n",
       "\n",
       "                                         LastAccountBalance                \\\n",
       "             50%         75%         max              count          mean   \n",
       "cluster                                                                     \n",
       "0          420.0   1041.0375    15900.00           561120.0  9.565421e+04   \n",
       "1          500.0   1314.0000    16110.00           200907.0  9.079304e+04   \n",
       "2         1100.0   2426.0000    39000.00            59957.0  9.911235e+04   \n",
       "3         2500.0   5060.0000   143961.00              101.0  5.517008e+07   \n",
       "4        20000.0  30000.0000  1560034.99            16996.0  3.259423e+05   \n",
       "\n",
       "                                                                             \\\n",
       "                  std          min           25%           50%          75%   \n",
       "cluster                                                                       \n",
       "0        4.771144e+05         0.00  3.943190e+03  1.423374e+04     48049.83   \n",
       "1        3.808211e+05         0.00  6.263295e+03  1.979681e+04     61413.40   \n",
       "2        4.678362e+05         0.00  4.853410e+03  1.690421e+04     56769.24   \n",
       "3        2.531634e+07  36090853.96  3.725486e+07  3.832115e+07  82244629.90   \n",
       "4        1.292863e+06         0.00  1.397463e+04  5.565293e+04    209579.12   \n",
       "\n",
       "                      Class_income                                          \\\n",
       "                  max        count      mean       std  min  25%  50%  75%   \n",
       "cluster                                                                      \n",
       "0        2.869063e+07     561120.0  0.750793  0.740737  0.0  0.0  1.0  1.0   \n",
       "1        3.112891e+07     200907.0  0.848567  0.726021  0.0  0.0  1.0  1.0   \n",
       "2        3.112891e+07      59957.0  0.805527  0.744007  0.0  0.0  1.0  1.0   \n",
       "3        1.150355e+08        101.0  3.000000  0.000000  3.0  3.0  3.0  3.0   \n",
       "4        3.445782e+07      16996.0  1.248647  0.838371  0.0  1.0  1.0  2.0   \n",
       "\n",
       "             Percentual_of_total                                          \\\n",
       "         max               count      mean       std       min       25%   \n",
       "cluster                                                                    \n",
       "0        3.0            561120.0  0.000108  0.000536  0.000000  0.000004   \n",
       "1        3.0            200907.0  0.000102  0.000428  0.000000  0.000007   \n",
       "2        3.0             59957.0  0.000111  0.000526  0.000000  0.000005   \n",
       "3        3.0               101.0  0.062011  0.028455  0.040566  0.041874   \n",
       "4        3.0             16996.0  0.000366  0.001453  0.000000  0.000016   \n",
       "\n",
       "                                         Top100                                \\\n",
       "              50%       75%       max     count      mean       std  min  25%   \n",
       "cluster                                                                         \n",
       "0        0.000016  0.000054  0.032248  561120.0  0.000000  0.000000  0.0  0.0   \n",
       "1        0.000022  0.000069  0.034989  200907.0  0.000000  0.000000  0.0  0.0   \n",
       "2        0.000019  0.000064  0.034989   59957.0  0.000000  0.000000  0.0  0.0   \n",
       "3        0.043073  0.092442  0.129299     101.0  0.990099  0.099504  0.0  1.0   \n",
       "4        0.000063  0.000236  0.038730   16996.0  0.000000  0.000000  0.0  0.0   \n",
       "\n",
       "                       Percentage_most_common_day                            \\\n",
       "         50%  75%  max                      count   mean  std    min    25%   \n",
       "cluster                                                                       \n",
       "0        0.0  0.0  0.0                   561120.0  100.0  0.0  100.0  100.0   \n",
       "1        0.0  0.0  0.0                   200907.0  100.0  0.0  100.0  100.0   \n",
       "2        0.0  0.0  0.0                    59957.0  100.0  0.0  100.0  100.0   \n",
       "3        1.0  1.0  1.0                      101.0  100.0  0.0  100.0  100.0   \n",
       "4        0.0  0.0  0.0                    16996.0  100.0  0.0  100.0  100.0   \n",
       "\n",
       "                             Percentage_most_common_location              \\\n",
       "           50%    75%    max                           count        mean   \n",
       "cluster                                                                    \n",
       "0        100.0  100.0  100.0                        506072.0   99.996048   \n",
       "1        100.0  100.0  100.0                        192991.0   99.999309   \n",
       "2        100.0  100.0  100.0                          3677.0   81.468221   \n",
       "3        100.0  100.0  100.0                            80.0  100.000000   \n",
       "4        100.0  100.0  100.0                         14421.0   99.915062   \n",
       "\n",
       "                                                          \\\n",
       "               std     min     25%     50%    75%    max   \n",
       "cluster                                                    \n",
       "0         0.362894   66.67  100.00  100.00  100.0  100.0   \n",
       "1         0.151738   66.67  100.00  100.00  100.0  100.0   \n",
       "2        18.538753   40.00   66.67   66.67  100.0  100.0   \n",
       "3         0.000000  100.00  100.00  100.00  100.0  100.0   \n",
       "4         1.710300   50.00  100.00  100.00  100.0  100.0   \n",
       "\n",
       "        Number_of_transaction_10000                                          \\\n",
       "                              count      mean       std  min  25%  50%  75%   \n",
       "cluster                                                                       \n",
       "0                          561120.0  0.000280  0.016725  0.0  0.0  0.0  0.0   \n",
       "1                          200907.0  0.000607  0.024635  0.0  0.0  0.0  0.0   \n",
       "2                           59957.0  0.041580  0.199712  0.0  0.0  0.0  0.0   \n",
       "3                             101.0  0.128713  0.336552  0.0  0.0  0.0  0.0   \n",
       "4                           16996.0  1.003295  0.066791  0.0  1.0  1.0  1.0   \n",
       "\n",
       "             Percentage_most_common_hour                                 \\\n",
       "         max                       count        mean        std     min   \n",
       "cluster                                                                   \n",
       "0        1.0                    506924.0   99.994806   0.416049   66.67   \n",
       "1        1.0                    192886.0   99.999827   0.075890   66.67   \n",
       "2        2.0                      5804.0   82.580589  18.657139   33.33   \n",
       "3        1.0                        79.0  100.000000   0.000000  100.00   \n",
       "4        2.0                     14495.0   99.872379   2.180632   50.00   \n",
       "\n",
       "                                      \n",
       "            25%    50%    75%    max  \n",
       "cluster                               \n",
       "0        100.00  100.0  100.0  100.0  \n",
       "1        100.00  100.0  100.0  100.0  \n",
       "2         66.67  100.0  100.0  100.0  \n",
       "3        100.00  100.0  100.0  100.0  \n",
       "4        100.00  100.0  100.0  100.0  "
      ]
     },
     "execution_count": 69,
     "metadata": {},
     "output_type": "execute_result"
    }
   ],
   "source": [
    "df.groupby(\"cluster\").describe()"
   ]
  },
  {
   "cell_type": "markdown",
   "id": "ab407af3-6289-4f73-ab6c-58e65be0d519",
   "metadata": {},
   "source": [
    "It seems that all the following features are different between the clusters:\n",
    "- TOT TransactionAmount (INR) (numerical)\n",
    "- Average_transaction_amount  (numerical)\n",
    "- Class income                (numerical)\n",
    "- Customer age                (numerical)\n",
    "- Min transaction             (numerical) \n",
    "- Max transaction             (numerical)\n",
    "\n",
    "Also we check the gender features:"
   ]
  },
  {
   "cell_type": "code",
   "execution_count": 70,
   "id": "9f1d14c8-ffda-42c0-b85b-f614b08f12ff",
   "metadata": {},
   "outputs": [
    {
     "data": {
      "text/plain": [
       "cluster  Account_gender\n",
       "0        M                 561120\n",
       "1        F                 200907\n",
       "2        FM                 53785\n",
       "         M                   5778\n",
       "         F                    394\n",
       "3        M                     78\n",
       "         F                     18\n",
       "         FM                     5\n",
       "4        M                  11660\n",
       "         F                   4425\n",
       "         FM                   911\n",
       "Name: Account_gender, dtype: int64"
      ]
     },
     "execution_count": 70,
     "metadata": {},
     "output_type": "execute_result"
    }
   ],
   "source": [
    "df.groupby(\"cluster\")[\"Account_gender\"].value_counts()"
   ]
  },
  {
   "cell_type": "markdown",
   "id": "66a35005-5a54-47f3-8dee-fc2f0628800e",
   "metadata": {},
   "source": [
    "It seems that   gender feature assume different distribution among clusters."
   ]
  },
  {
   "cell_type": "markdown",
   "id": "b4d20d2c-1864-4c2b-b577-0a0163fcc8bf",
   "metadata": {
    "jp-MarkdownHeadingCollapsed": true,
    "tags": []
   },
   "source": [
    "### Built the classes for the numerical features"
   ]
  },
  {
   "cell_type": "markdown",
   "id": "d823e6b1-b717-474b-9cf0-24efbb3653c1",
   "metadata": {
    "jp-MarkdownHeadingCollapsed": true,
    "tags": []
   },
   "source": [
    "#### \"TOT TransactionAmount (INR)\""
   ]
  },
  {
   "cell_type": "markdown",
   "id": "1c54e644-ec6a-4b39-84de-41ffcaf6ccc1",
   "metadata": {},
   "source": [
    "In order to create better classes we look the quantile and the mean of the distribution. "
   ]
  },
  {
   "cell_type": "code",
   "execution_count": 71,
   "id": "8693f161-9915-4e50-81e4-64af6de67f09",
   "metadata": {},
   "outputs": [
    {
     "data": {
      "text/plain": [
       "count     839081.00\n",
       "mean        1705.56\n",
       "std         6687.66\n",
       "min            0.00\n",
       "25%          198.00\n",
       "50%          500.00\n",
       "75%         1418.00\n",
       "max      1560034.99\n",
       "Name: TOT TransactionAmount (INR), dtype: object"
      ]
     },
     "execution_count": 71,
     "metadata": {},
     "output_type": "execute_result"
    }
   ],
   "source": [
    "df[\"TOT TransactionAmount (INR)\"].describe().apply(lambda x: '%.2f' % x)"
   ]
  },
  {
   "cell_type": "markdown",
   "id": "05078915-e163-4425-9918-47e8481ff93b",
   "metadata": {},
   "source": [
    "The classes will be:\n",
    "Class , range:\n",
    "- Lower 0,     [0,500)\n",
    "- Medium 1,    [500,2000)\n",
    "- High 2,   [2000,10000)\n",
    "- Very High 3,[10000,inf)"
   ]
  },
  {
   "cell_type": "code",
   "execution_count": 72,
   "id": "7f766cc3-4295-4e93-a0f8-3618787269c8",
   "metadata": {},
   "outputs": [],
   "source": [
    "df[\"TOT TransactionAmount (INR) CLASS\"]=0\n",
    "df.loc[(df[\"TOT TransactionAmount (INR)\"] >= 500 )& (df[\"TOT TransactionAmount (INR)\"] < 2000 ),\"TOT TransactionAmount (INR) CLASS\"]=1\n",
    "df.loc[(df[\"TOT TransactionAmount (INR)\"] >= 2000 )& (df[\"TOT TransactionAmount (INR)\"] < 10000 ),\"TOT TransactionAmount (INR) CLASS\"]=2\n",
    "df.loc[(df[\"TOT TransactionAmount (INR)\"] >=10000 ),\"TOT TransactionAmount (INR) CLASS\"]=3"
   ]
  },
  {
   "cell_type": "markdown",
   "id": "3f2b4100-3b5c-4522-a743-bf4c58aa640e",
   "metadata": {},
   "source": [
    "Let's have a look at the classes."
   ]
  },
  {
   "cell_type": "code",
   "execution_count": 73,
   "id": "8f2ab108-37de-4f69-a03c-f9427bb4f978",
   "metadata": {},
   "outputs": [
    {
     "data": {
      "text/plain": [
       "0    401296\n",
       "1    285806\n",
       "2    129912\n",
       "3     22067\n",
       "Name: TOT TransactionAmount (INR) CLASS, dtype: int64"
      ]
     },
     "execution_count": 73,
     "metadata": {},
     "output_type": "execute_result"
    }
   ],
   "source": [
    "df[\"TOT TransactionAmount (INR) CLASS\"].value_counts()"
   ]
  },
  {
   "cell_type": "markdown",
   "id": "4ff95b55-8c96-4a81-b65d-c5f0dac775f9",
   "metadata": {},
   "source": [
    "It seems that the class are balanced."
   ]
  },
  {
   "cell_type": "markdown",
   "id": "dd8f4b27-f442-4996-b644-217be8ef5bb2",
   "metadata": {
    "tags": []
   },
   "source": [
    "#### Average_transaction_amount"
   ]
  },
  {
   "cell_type": "markdown",
   "id": "28d04490-80b5-4d16-aca5-75c076faa14a",
   "metadata": {},
   "source": [
    "Since this feature is pretty similar to the previous one we will use the same classes."
   ]
  },
  {
   "cell_type": "code",
   "execution_count": 74,
   "id": "a2c90346-ac4f-4fa1-855a-1c0196fe9ef5",
   "metadata": {},
   "outputs": [
    {
     "data": {
      "text/plain": [
       "count     839081.00\n",
       "mean        1453.62\n",
       "std         6045.20\n",
       "min            0.00\n",
       "25%          180.00\n",
       "50%          475.00\n",
       "75%         1175.73\n",
       "max      1560034.99\n",
       "Name: Average_transaction_amount, dtype: object"
      ]
     },
     "execution_count": 74,
     "metadata": {},
     "output_type": "execute_result"
    }
   ],
   "source": [
    "df[\"Average_transaction_amount\"].describe().apply(lambda x: '%.2f' % x)"
   ]
  },
  {
   "cell_type": "markdown",
   "id": "e8e5f298-b7dd-49a5-a4c1-07650d58a6bd",
   "metadata": {},
   "source": [
    "The classes will be:\n",
    "Class , range:\n",
    "- Lower 0,     [0,500)\n",
    "- Medium 1,    [500,2000)\n",
    "- High 2,   [2000,10000)\n",
    "- Very High 3,[10000,inf)"
   ]
  },
  {
   "cell_type": "code",
   "execution_count": 75,
   "id": "bfdedb14-0b75-4b2f-954c-9556fa7715eb",
   "metadata": {},
   "outputs": [],
   "source": [
    "df[\"Average_transaction_amount_class\"]=0\n",
    "df.loc[(df[\"Average_transaction_amount\"] >= 500 )& (df[\"Average_transaction_amount\"] < 2000 ),\"Average_transaction_amount_class\"]=1\n",
    "df.loc[(df[\"Average_transaction_amount\"] >= 2000 )& (df[\"Average_transaction_amount\"] < 10000 ),\"Average_transaction_amount_class\"]=2\n",
    "df.loc[(df[\"Average_transaction_amount\"] >=10000 ),\"Average_transaction_amount_class\"]=3"
   ]
  },
  {
   "cell_type": "code",
   "execution_count": 76,
   "id": "3fb8b22e-c59e-4a56-a8a8-48fbfd0a9706",
   "metadata": {},
   "outputs": [
    {
     "data": {
      "text/plain": [
       "0    429821\n",
       "1    284295\n",
       "2    107077\n",
       "3     17888\n",
       "Name: Average_transaction_amount_class, dtype: int64"
      ]
     },
     "execution_count": 76,
     "metadata": {},
     "output_type": "execute_result"
    }
   ],
   "source": [
    "df[\"Average_transaction_amount_class\"].value_counts()"
   ]
  },
  {
   "cell_type": "markdown",
   "id": "1477bb66-3da2-4a34-91c4-5b5331537843",
   "metadata": {
    "jp-MarkdownHeadingCollapsed": true,
    "tags": []
   },
   "source": [
    "#### Class income"
   ]
  },
  {
   "cell_type": "markdown",
   "id": "077b8d93-2be6-445f-8411-580a230b5e24",
   "metadata": {},
   "source": [
    "This feature is already in class form."
   ]
  },
  {
   "cell_type": "markdown",
   "id": "6813ca4d-1546-4049-9292-66db96ba06b1",
   "metadata": {
    "jp-MarkdownHeadingCollapsed": true,
    "tags": []
   },
   "source": [
    "#### Customer age (Age_in_2016)"
   ]
  },
  {
   "cell_type": "markdown",
   "id": "190210bc-6514-46d1-b720-cd429e59c163",
   "metadata": {},
   "source": [
    "The classes will be:\n",
    "Class , range:\n",
    "- minor 0,     [0,18)\n",
    "- young 1,    [18,25)\n",
    "- workers 2,   [25,65)\n",
    "- pensioners 3,[65,inf)"
   ]
  },
  {
   "cell_type": "code",
   "execution_count": 77,
   "id": "57e592b9-b2b9-4148-a41b-b01f5d4bf620",
   "metadata": {},
   "outputs": [],
   "source": [
    "df[\"Age_in_2016_class\"]=0\n",
    "df.loc[(df[\"Age_in_2016\"] >= 18 )& (df[\"Age_in_2016\"] < 25 ),\"Age_in_2016_class\"]=1\n",
    "df.loc[(df[\"Age_in_2016\"] >= 25 )& (df[\"Age_in_2016\"] < 65 ),\"Age_in_2016_class\"]=2\n",
    "df.loc[(df[\"Age_in_2016\"] >= 65 ),\"Age_in_2016_class\"]=3"
   ]
  },
  {
   "cell_type": "code",
   "execution_count": 78,
   "id": "f4204417-1d06-4ed6-879f-0b5c02222505",
   "metadata": {},
   "outputs": [
    {
     "data": {
      "text/plain": [
       "2    690864\n",
       "1    139644\n",
       "3      8138\n",
       "0       435\n",
       "Name: Age_in_2016_class, dtype: int64"
      ]
     },
     "execution_count": 78,
     "metadata": {},
     "output_type": "execute_result"
    }
   ],
   "source": [
    "df[\"Age_in_2016_class\"].value_counts()"
   ]
  },
  {
   "cell_type": "code",
   "execution_count": 79,
   "id": "2615396e-a554-4ec2-b6bd-88f2e4525843",
   "metadata": {},
   "outputs": [],
   "source": [
    "##"
   ]
  },
  {
   "cell_type": "code",
   "execution_count": 80,
   "id": "e7df4d01-d5fa-416a-af13-0fc46d8f9b77",
   "metadata": {},
   "outputs": [
    {
     "data": {
      "text/plain": [
       "Index(['TOT TransactionAmount (INR)', 'Number_of_transaction',\n",
       "       'Number_of_transaction_100', 'Average_transaction_amount',\n",
       "       'Average_amount_balance', 'Average_Utilisation', 'Account_gender',\n",
       "       'Most_common_location', 'CustomerAge', 'Age_in_2016', 'Major', 'Old',\n",
       "       'Min Transaction', 'Max Transaction', 'LastAccountBalance',\n",
       "       'Class_income', 'Percentual_of_total', 'Top100', 'Most_common_day',\n",
       "       'Percentage_most_common_day', 'FirstTransactionDate',\n",
       "       'LastTransactionDate', 'Percentage_most_common_location',\n",
       "       'Number_of_transaction_10000', 'Medium_time_among_transaction',\n",
       "       'Most_common_hour', 'Percentage_most_common_hour', 'cluster',\n",
       "       'TOT TransactionAmount (INR) CLASS', 'Average_transaction_amount_class',\n",
       "       'Age_in_2016_class'],\n",
       "      dtype='object')"
      ]
     },
     "execution_count": 80,
     "metadata": {},
     "output_type": "execute_result"
    }
   ],
   "source": [
    "df.columns"
   ]
  },
  {
   "cell_type": "markdown",
   "id": "32e036c6-bd81-4015-8401-8d8aef455c98",
   "metadata": {
    "tags": []
   },
   "source": [
    "## Pivot tables"
   ]
  },
  {
   "cell_type": "markdown",
   "id": "904017b1-c441-44df-819c-89e0f79abb64",
   "metadata": {
    "tags": []
   },
   "source": [
    "### Pivot tables for Account_gender"
   ]
  },
  {
   "cell_type": "code",
   "execution_count": 84,
   "id": "beacf635-5a1e-4917-98ab-6492fcb63f5e",
   "metadata": {},
   "outputs": [
    {
     "data": {
      "text/html": [
       "<div>\n",
       "<style scoped>\n",
       "    .dataframe tbody tr th:only-of-type {\n",
       "        vertical-align: middle;\n",
       "    }\n",
       "\n",
       "    .dataframe tbody tr th {\n",
       "        vertical-align: top;\n",
       "    }\n",
       "\n",
       "    .dataframe thead tr th {\n",
       "        text-align: left;\n",
       "    }\n",
       "\n",
       "    .dataframe thead tr:last-of-type th {\n",
       "        text-align: right;\n",
       "    }\n",
       "</style>\n",
       "<table border=\"1\" class=\"dataframe\">\n",
       "  <thead>\n",
       "    <tr>\n",
       "      <th></th>\n",
       "      <th colspan=\"3\" halign=\"left\">Account_gender</th>\n",
       "    </tr>\n",
       "    <tr>\n",
       "      <th>Account_gender</th>\n",
       "      <th>F</th>\n",
       "      <th>FM</th>\n",
       "      <th>M</th>\n",
       "    </tr>\n",
       "    <tr>\n",
       "      <th>cluster</th>\n",
       "      <th></th>\n",
       "      <th></th>\n",
       "      <th></th>\n",
       "    </tr>\n",
       "  </thead>\n",
       "  <tbody>\n",
       "    <tr>\n",
       "      <th>0</th>\n",
       "      <td>0.0</td>\n",
       "      <td>0.0</td>\n",
       "      <td>561120.0</td>\n",
       "    </tr>\n",
       "    <tr>\n",
       "      <th>1</th>\n",
       "      <td>200907.0</td>\n",
       "      <td>0.0</td>\n",
       "      <td>0.0</td>\n",
       "    </tr>\n",
       "    <tr>\n",
       "      <th>2</th>\n",
       "      <td>394.0</td>\n",
       "      <td>53785.0</td>\n",
       "      <td>5778.0</td>\n",
       "    </tr>\n",
       "    <tr>\n",
       "      <th>3</th>\n",
       "      <td>18.0</td>\n",
       "      <td>5.0</td>\n",
       "      <td>78.0</td>\n",
       "    </tr>\n",
       "    <tr>\n",
       "      <th>4</th>\n",
       "      <td>4425.0</td>\n",
       "      <td>911.0</td>\n",
       "      <td>11660.0</td>\n",
       "    </tr>\n",
       "  </tbody>\n",
       "</table>\n",
       "</div>"
      ],
      "text/plain": [
       "               Account_gender                   \n",
       "Account_gender              F       FM         M\n",
       "cluster                                         \n",
       "0                         0.0      0.0  561120.0\n",
       "1                    200907.0      0.0       0.0\n",
       "2                       394.0  53785.0    5778.0\n",
       "3                        18.0      5.0      78.0\n",
       "4                      4425.0    911.0   11660.0"
      ]
     },
     "execution_count": 84,
     "metadata": {},
     "output_type": "execute_result"
    }
   ],
   "source": [
    "table = pd.pivot_table(df, index=['cluster'],aggfunc={'Account_gender': 'count',},columns='Account_gender').fillna(0)\n",
    "table"
   ]
  },
  {
   "cell_type": "markdown",
   "id": "92b24935-7c03-4fad-94e8-d682d8d79456",
   "metadata": {
    "jp-MarkdownHeadingCollapsed": true,
    "tags": []
   },
   "source": [
    "### Pivot tables for tot transaction amount"
   ]
  },
  {
   "cell_type": "code",
   "execution_count": 85,
   "id": "554f51ce-e2b6-4029-8f0a-497bddc770fe",
   "metadata": {},
   "outputs": [
    {
     "data": {
      "text/html": [
       "<div>\n",
       "<style scoped>\n",
       "    .dataframe tbody tr th:only-of-type {\n",
       "        vertical-align: middle;\n",
       "    }\n",
       "\n",
       "    .dataframe tbody tr th {\n",
       "        vertical-align: top;\n",
       "    }\n",
       "\n",
       "    .dataframe thead tr th {\n",
       "        text-align: left;\n",
       "    }\n",
       "\n",
       "    .dataframe thead tr:last-of-type th {\n",
       "        text-align: right;\n",
       "    }\n",
       "</style>\n",
       "<table border=\"1\" class=\"dataframe\">\n",
       "  <thead>\n",
       "    <tr>\n",
       "      <th></th>\n",
       "      <th colspan=\"4\" halign=\"left\">TOT TransactionAmount (INR) CLASS</th>\n",
       "    </tr>\n",
       "    <tr>\n",
       "      <th>TOT TransactionAmount (INR) CLASS</th>\n",
       "      <th>0</th>\n",
       "      <th>1</th>\n",
       "      <th>2</th>\n",
       "      <th>3</th>\n",
       "    </tr>\n",
       "    <tr>\n",
       "      <th>cluster</th>\n",
       "      <th></th>\n",
       "      <th></th>\n",
       "      <th></th>\n",
       "      <th></th>\n",
       "    </tr>\n",
       "  </thead>\n",
       "  <tbody>\n",
       "    <tr>\n",
       "      <th>0</th>\n",
       "      <td>296111.0</td>\n",
       "      <td>187002.0</td>\n",
       "      <td>76663.0</td>\n",
       "      <td>1344.0</td>\n",
       "    </tr>\n",
       "    <tr>\n",
       "      <th>1</th>\n",
       "      <td>95851.0</td>\n",
       "      <td>72583.0</td>\n",
       "      <td>31972.0</td>\n",
       "      <td>501.0</td>\n",
       "    </tr>\n",
       "    <tr>\n",
       "      <th>2</th>\n",
       "      <td>9324.0</td>\n",
       "      <td>26196.0</td>\n",
       "      <td>21218.0</td>\n",
       "      <td>3219.0</td>\n",
       "    </tr>\n",
       "    <tr>\n",
       "      <th>3</th>\n",
       "      <td>10.0</td>\n",
       "      <td>25.0</td>\n",
       "      <td>50.0</td>\n",
       "      <td>16.0</td>\n",
       "    </tr>\n",
       "    <tr>\n",
       "      <th>4</th>\n",
       "      <td>0.0</td>\n",
       "      <td>0.0</td>\n",
       "      <td>9.0</td>\n",
       "      <td>16987.0</td>\n",
       "    </tr>\n",
       "  </tbody>\n",
       "</table>\n",
       "</div>"
      ],
      "text/plain": [
       "                                  TOT TransactionAmount (INR) CLASS            \\\n",
       "TOT TransactionAmount (INR) CLASS                                 0         1   \n",
       "cluster                                                                         \n",
       "0                                                          296111.0  187002.0   \n",
       "1                                                           95851.0   72583.0   \n",
       "2                                                            9324.0   26196.0   \n",
       "3                                                              10.0      25.0   \n",
       "4                                                               0.0       0.0   \n",
       "\n",
       "                                                     \n",
       "TOT TransactionAmount (INR) CLASS        2        3  \n",
       "cluster                                              \n",
       "0                                  76663.0   1344.0  \n",
       "1                                  31972.0    501.0  \n",
       "2                                  21218.0   3219.0  \n",
       "3                                     50.0     16.0  \n",
       "4                                      9.0  16987.0  "
      ]
     },
     "execution_count": 85,
     "metadata": {},
     "output_type": "execute_result"
    }
   ],
   "source": [
    "table = pd.pivot_table(df, index=['cluster'],aggfunc={\"TOT TransactionAmount (INR) CLASS\": 'count',},columns=\"TOT TransactionAmount (INR) CLASS\").fillna(0)\n",
    "table"
   ]
  },
  {
   "cell_type": "markdown",
   "id": "91de7104-3389-4b76-8b92-c0f4797fb2f6",
   "metadata": {
    "jp-MarkdownHeadingCollapsed": true,
    "tags": []
   },
   "source": [
    "### Pivot tables for \"Average_transaction_amount_class\""
   ]
  },
  {
   "cell_type": "code",
   "execution_count": 89,
   "id": "b2f73841-304f-4031-80ce-4a483fa7cb89",
   "metadata": {},
   "outputs": [
    {
     "data": {
      "text/html": [
       "<div>\n",
       "<style scoped>\n",
       "    .dataframe tbody tr th:only-of-type {\n",
       "        vertical-align: middle;\n",
       "    }\n",
       "\n",
       "    .dataframe tbody tr th {\n",
       "        vertical-align: top;\n",
       "    }\n",
       "\n",
       "    .dataframe thead tr th {\n",
       "        text-align: left;\n",
       "    }\n",
       "\n",
       "    .dataframe thead tr:last-of-type th {\n",
       "        text-align: right;\n",
       "    }\n",
       "</style>\n",
       "<table border=\"1\" class=\"dataframe\">\n",
       "  <thead>\n",
       "    <tr>\n",
       "      <th></th>\n",
       "      <th colspan=\"4\" halign=\"left\">Average_transaction_amount_class</th>\n",
       "    </tr>\n",
       "    <tr>\n",
       "      <th>Average_transaction_amount_class</th>\n",
       "      <th>0</th>\n",
       "      <th>1</th>\n",
       "      <th>2</th>\n",
       "      <th>3</th>\n",
       "    </tr>\n",
       "    <tr>\n",
       "      <th>cluster</th>\n",
       "      <th></th>\n",
       "      <th></th>\n",
       "      <th></th>\n",
       "      <th></th>\n",
       "    </tr>\n",
       "  </thead>\n",
       "  <tbody>\n",
       "    <tr>\n",
       "      <th>0</th>\n",
       "      <td>309359.0</td>\n",
       "      <td>184004.0</td>\n",
       "      <td>67015.0</td>\n",
       "      <td>742.0</td>\n",
       "    </tr>\n",
       "    <tr>\n",
       "      <th>1</th>\n",
       "      <td>97578.0</td>\n",
       "      <td>72713.0</td>\n",
       "      <td>30229.0</td>\n",
       "      <td>387.0</td>\n",
       "    </tr>\n",
       "    <tr>\n",
       "      <th>2</th>\n",
       "      <td>22871.0</td>\n",
       "      <td>27549.0</td>\n",
       "      <td>9372.0</td>\n",
       "      <td>165.0</td>\n",
       "    </tr>\n",
       "    <tr>\n",
       "      <th>3</th>\n",
       "      <td>13.0</td>\n",
       "      <td>29.0</td>\n",
       "      <td>44.0</td>\n",
       "      <td>15.0</td>\n",
       "    </tr>\n",
       "    <tr>\n",
       "      <th>4</th>\n",
       "      <td>0.0</td>\n",
       "      <td>0.0</td>\n",
       "      <td>417.0</td>\n",
       "      <td>16579.0</td>\n",
       "    </tr>\n",
       "  </tbody>\n",
       "</table>\n",
       "</div>"
      ],
      "text/plain": [
       "                                 Average_transaction_amount_class            \\\n",
       "Average_transaction_amount_class                                0         1   \n",
       "cluster                                                                       \n",
       "0                                                        309359.0  184004.0   \n",
       "1                                                         97578.0   72713.0   \n",
       "2                                                         22871.0   27549.0   \n",
       "3                                                            13.0      29.0   \n",
       "4                                                             0.0       0.0   \n",
       "\n",
       "                                                    \n",
       "Average_transaction_amount_class        2        3  \n",
       "cluster                                             \n",
       "0                                 67015.0    742.0  \n",
       "1                                 30229.0    387.0  \n",
       "2                                  9372.0    165.0  \n",
       "3                                    44.0     15.0  \n",
       "4                                   417.0  16579.0  "
      ]
     },
     "execution_count": 89,
     "metadata": {},
     "output_type": "execute_result"
    }
   ],
   "source": [
    "table = pd.pivot_table(df, index=['cluster'],aggfunc={\"Average_transaction_amount_class\": 'count'},columns=\"Average_transaction_amount_class\").fillna(0)\n",
    "table"
   ]
  },
  {
   "cell_type": "markdown",
   "id": "30e2c191-70ed-4d35-89eb-00305b12ef35",
   "metadata": {
    "jp-MarkdownHeadingCollapsed": true,
    "tags": []
   },
   "source": [
    "### Pivot tables for Class_income"
   ]
  },
  {
   "cell_type": "code",
   "execution_count": 90,
   "id": "e5f34e10-2854-4c53-bb0c-be6ffea1395d",
   "metadata": {},
   "outputs": [
    {
     "data": {
      "text/html": [
       "<div>\n",
       "<style scoped>\n",
       "    .dataframe tbody tr th:only-of-type {\n",
       "        vertical-align: middle;\n",
       "    }\n",
       "\n",
       "    .dataframe tbody tr th {\n",
       "        vertical-align: top;\n",
       "    }\n",
       "\n",
       "    .dataframe thead tr th {\n",
       "        text-align: left;\n",
       "    }\n",
       "\n",
       "    .dataframe thead tr:last-of-type th {\n",
       "        text-align: right;\n",
       "    }\n",
       "</style>\n",
       "<table border=\"1\" class=\"dataframe\">\n",
       "  <thead>\n",
       "    <tr>\n",
       "      <th></th>\n",
       "      <th colspan=\"4\" halign=\"left\">Class_income</th>\n",
       "    </tr>\n",
       "    <tr>\n",
       "      <th>Class_income</th>\n",
       "      <th>0</th>\n",
       "      <th>1</th>\n",
       "      <th>2</th>\n",
       "      <th>3</th>\n",
       "    </tr>\n",
       "    <tr>\n",
       "      <th>cluster</th>\n",
       "      <th></th>\n",
       "      <th></th>\n",
       "      <th></th>\n",
       "      <th></th>\n",
       "    </tr>\n",
       "  </thead>\n",
       "  <tbody>\n",
       "    <tr>\n",
       "      <th>0</th>\n",
       "      <td>232395.0</td>\n",
       "      <td>245052.0</td>\n",
       "      <td>74786.0</td>\n",
       "      <td>8887.0</td>\n",
       "    </tr>\n",
       "    <tr>\n",
       "      <th>1</th>\n",
       "      <td>67984.0</td>\n",
       "      <td>97844.0</td>\n",
       "      <td>32598.0</td>\n",
       "      <td>2481.0</td>\n",
       "    </tr>\n",
       "    <tr>\n",
       "      <th>2</th>\n",
       "      <td>22636.0</td>\n",
       "      <td>27267.0</td>\n",
       "      <td>9132.0</td>\n",
       "      <td>922.0</td>\n",
       "    </tr>\n",
       "    <tr>\n",
       "      <th>3</th>\n",
       "      <td>0.0</td>\n",
       "      <td>0.0</td>\n",
       "      <td>0.0</td>\n",
       "      <td>101.0</td>\n",
       "    </tr>\n",
       "    <tr>\n",
       "      <th>4</th>\n",
       "      <td>3332.0</td>\n",
       "      <td>7159.0</td>\n",
       "      <td>5452.0</td>\n",
       "      <td>1053.0</td>\n",
       "    </tr>\n",
       "  </tbody>\n",
       "</table>\n",
       "</div>"
      ],
      "text/plain": [
       "             Class_income                           \n",
       "Class_income            0         1        2       3\n",
       "cluster                                             \n",
       "0                232395.0  245052.0  74786.0  8887.0\n",
       "1                 67984.0   97844.0  32598.0  2481.0\n",
       "2                 22636.0   27267.0   9132.0   922.0\n",
       "3                     0.0       0.0      0.0   101.0\n",
       "4                  3332.0    7159.0   5452.0  1053.0"
      ]
     },
     "execution_count": 90,
     "metadata": {},
     "output_type": "execute_result"
    }
   ],
   "source": [
    "table = pd.pivot_table(df, index=['cluster'],aggfunc={\"Class_income\": 'count'},columns=\"Class_income\").fillna(0)\n",
    "table"
   ]
  },
  {
   "cell_type": "markdown",
   "id": "e8beb468-ec14-4c9e-b5e9-0110d5366871",
   "metadata": {
    "jp-MarkdownHeadingCollapsed": true,
    "tags": []
   },
   "source": [
    "### Pivot tables for age"
   ]
  },
  {
   "cell_type": "code",
   "execution_count": 92,
   "id": "b588eeb1-92ac-47e0-a961-a0af56b8558b",
   "metadata": {},
   "outputs": [
    {
     "data": {
      "text/html": [
       "<div>\n",
       "<style scoped>\n",
       "    .dataframe tbody tr th:only-of-type {\n",
       "        vertical-align: middle;\n",
       "    }\n",
       "\n",
       "    .dataframe tbody tr th {\n",
       "        vertical-align: top;\n",
       "    }\n",
       "\n",
       "    .dataframe thead tr th {\n",
       "        text-align: left;\n",
       "    }\n",
       "\n",
       "    .dataframe thead tr:last-of-type th {\n",
       "        text-align: right;\n",
       "    }\n",
       "</style>\n",
       "<table border=\"1\" class=\"dataframe\">\n",
       "  <thead>\n",
       "    <tr>\n",
       "      <th></th>\n",
       "      <th colspan=\"4\" halign=\"left\">Age_in_2016_class</th>\n",
       "    </tr>\n",
       "    <tr>\n",
       "      <th>Age_in_2016_class</th>\n",
       "      <th>0</th>\n",
       "      <th>1</th>\n",
       "      <th>2</th>\n",
       "      <th>3</th>\n",
       "    </tr>\n",
       "    <tr>\n",
       "      <th>cluster</th>\n",
       "      <th></th>\n",
       "      <th></th>\n",
       "      <th></th>\n",
       "      <th></th>\n",
       "    </tr>\n",
       "  </thead>\n",
       "  <tbody>\n",
       "    <tr>\n",
       "      <th>0</th>\n",
       "      <td>307.0</td>\n",
       "      <td>89603.0</td>\n",
       "      <td>466371.0</td>\n",
       "      <td>4839.0</td>\n",
       "    </tr>\n",
       "    <tr>\n",
       "      <th>1</th>\n",
       "      <td>81.0</td>\n",
       "      <td>38416.0</td>\n",
       "      <td>160329.0</td>\n",
       "      <td>2081.0</td>\n",
       "    </tr>\n",
       "    <tr>\n",
       "      <th>2</th>\n",
       "      <td>38.0</td>\n",
       "      <td>10253.0</td>\n",
       "      <td>49024.0</td>\n",
       "      <td>642.0</td>\n",
       "    </tr>\n",
       "    <tr>\n",
       "      <th>3</th>\n",
       "      <td>0.0</td>\n",
       "      <td>1.0</td>\n",
       "      <td>81.0</td>\n",
       "      <td>19.0</td>\n",
       "    </tr>\n",
       "    <tr>\n",
       "      <th>4</th>\n",
       "      <td>9.0</td>\n",
       "      <td>1371.0</td>\n",
       "      <td>15059.0</td>\n",
       "      <td>557.0</td>\n",
       "    </tr>\n",
       "  </tbody>\n",
       "</table>\n",
       "</div>"
      ],
      "text/plain": [
       "                  Age_in_2016_class                           \n",
       "Age_in_2016_class                 0        1         2       3\n",
       "cluster                                                       \n",
       "0                             307.0  89603.0  466371.0  4839.0\n",
       "1                              81.0  38416.0  160329.0  2081.0\n",
       "2                              38.0  10253.0   49024.0   642.0\n",
       "3                               0.0      1.0      81.0    19.0\n",
       "4                               9.0   1371.0   15059.0   557.0"
      ]
     },
     "execution_count": 92,
     "metadata": {},
     "output_type": "execute_result"
    }
   ],
   "source": [
    "table = pd.pivot_table(df, index=['cluster'],aggfunc={\"Age_in_2016_class\": 'count'},columns=\"Age_in_2016_class\").fillna(0)\n",
    "table"
   ]
  },
  {
   "cell_type": "markdown",
   "id": "086e7977-36f4-48c3-955d-adf63226e77b",
   "metadata": {},
   "source": [
    "## Percentage by column for each pivot table"
   ]
  },
  {
   "cell_type": "markdown",
   "id": "d09ff6f8-24f2-49d6-a3a0-ab090867e4a1",
   "metadata": {
    "tags": []
   },
   "source": [
    "### Gender account"
   ]
  },
  {
   "cell_type": "code",
   "execution_count": 120,
   "id": "38e8e9e1-531e-4689-9fda-b984d49d4870",
   "metadata": {},
   "outputs": [
    {
     "data": {
      "text/html": [
       "<div>\n",
       "<style scoped>\n",
       "    .dataframe tbody tr th:only-of-type {\n",
       "        vertical-align: middle;\n",
       "    }\n",
       "\n",
       "    .dataframe tbody tr th {\n",
       "        vertical-align: top;\n",
       "    }\n",
       "\n",
       "    .dataframe thead th {\n",
       "        text-align: right;\n",
       "    }\n",
       "</style>\n",
       "<table border=\"1\" class=\"dataframe\">\n",
       "  <thead>\n",
       "    <tr style=\"text-align: right;\">\n",
       "      <th>Account_gender</th>\n",
       "      <th>F</th>\n",
       "      <th>FM</th>\n",
       "      <th>M</th>\n",
       "    </tr>\n",
       "    <tr>\n",
       "      <th>cluster</th>\n",
       "      <th></th>\n",
       "      <th></th>\n",
       "      <th></th>\n",
       "    </tr>\n",
       "  </thead>\n",
       "  <tbody>\n",
       "    <tr>\n",
       "      <th>0</th>\n",
       "      <td>0.000000</td>\n",
       "      <td>0.000000</td>\n",
       "      <td>100.000000</td>\n",
       "    </tr>\n",
       "    <tr>\n",
       "      <th>1</th>\n",
       "      <td>100.000000</td>\n",
       "      <td>0.000000</td>\n",
       "      <td>0.000000</td>\n",
       "    </tr>\n",
       "    <tr>\n",
       "      <th>2</th>\n",
       "      <td>0.657138</td>\n",
       "      <td>89.705956</td>\n",
       "      <td>9.636906</td>\n",
       "    </tr>\n",
       "    <tr>\n",
       "      <th>3</th>\n",
       "      <td>17.821782</td>\n",
       "      <td>4.950495</td>\n",
       "      <td>77.227723</td>\n",
       "    </tr>\n",
       "    <tr>\n",
       "      <th>4</th>\n",
       "      <td>26.035538</td>\n",
       "      <td>5.360085</td>\n",
       "      <td>68.604378</td>\n",
       "    </tr>\n",
       "  </tbody>\n",
       "</table>\n",
       "</div>"
      ],
      "text/plain": [
       "Account_gender           F         FM           M\n",
       "cluster                                          \n",
       "0                 0.000000   0.000000  100.000000\n",
       "1               100.000000   0.000000    0.000000\n",
       "2                 0.657138  89.705956    9.636906\n",
       "3                17.821782   4.950495   77.227723\n",
       "4                26.035538   5.360085   68.604378"
      ]
     },
     "execution_count": 120,
     "metadata": {},
     "output_type": "execute_result"
    }
   ],
   "source": [
    "pd.crosstab(df.cluster,df.Account_gender).apply(lambda r: r/r.sum()*100, axis=1)"
   ]
  },
  {
   "cell_type": "markdown",
   "id": "042fb518-cf8a-4f09-b2e3-bec0622bb0ba",
   "metadata": {
    "jp-MarkdownHeadingCollapsed": true,
    "tags": []
   },
   "source": [
    "### Tot transaction amount"
   ]
  },
  {
   "cell_type": "code",
   "execution_count": 122,
   "id": "8da4a5c0-0998-470a-bc3f-e0f91d192e24",
   "metadata": {},
   "outputs": [
    {
     "data": {
      "text/html": [
       "<div>\n",
       "<style scoped>\n",
       "    .dataframe tbody tr th:only-of-type {\n",
       "        vertical-align: middle;\n",
       "    }\n",
       "\n",
       "    .dataframe tbody tr th {\n",
       "        vertical-align: top;\n",
       "    }\n",
       "\n",
       "    .dataframe thead th {\n",
       "        text-align: right;\n",
       "    }\n",
       "</style>\n",
       "<table border=\"1\" class=\"dataframe\">\n",
       "  <thead>\n",
       "    <tr style=\"text-align: right;\">\n",
       "      <th>TOT TransactionAmount (INR) CLASS</th>\n",
       "      <th>0</th>\n",
       "      <th>1</th>\n",
       "      <th>2</th>\n",
       "      <th>3</th>\n",
       "    </tr>\n",
       "    <tr>\n",
       "      <th>cluster</th>\n",
       "      <th></th>\n",
       "      <th></th>\n",
       "      <th></th>\n",
       "      <th></th>\n",
       "    </tr>\n",
       "  </thead>\n",
       "  <tbody>\n",
       "    <tr>\n",
       "      <th>0</th>\n",
       "      <td>52.771421</td>\n",
       "      <td>33.326561</td>\n",
       "      <td>13.662496</td>\n",
       "      <td>0.239521</td>\n",
       "    </tr>\n",
       "    <tr>\n",
       "      <th>1</th>\n",
       "      <td>47.709139</td>\n",
       "      <td>36.127661</td>\n",
       "      <td>15.913831</td>\n",
       "      <td>0.249369</td>\n",
       "    </tr>\n",
       "    <tr>\n",
       "      <th>2</th>\n",
       "      <td>15.551145</td>\n",
       "      <td>43.691312</td>\n",
       "      <td>35.388695</td>\n",
       "      <td>5.368848</td>\n",
       "    </tr>\n",
       "    <tr>\n",
       "      <th>3</th>\n",
       "      <td>9.900990</td>\n",
       "      <td>24.752475</td>\n",
       "      <td>49.504950</td>\n",
       "      <td>15.841584</td>\n",
       "    </tr>\n",
       "    <tr>\n",
       "      <th>4</th>\n",
       "      <td>0.000000</td>\n",
       "      <td>0.000000</td>\n",
       "      <td>0.052954</td>\n",
       "      <td>99.947046</td>\n",
       "    </tr>\n",
       "  </tbody>\n",
       "</table>\n",
       "</div>"
      ],
      "text/plain": [
       "TOT TransactionAmount (INR) CLASS          0          1          2          3\n",
       "cluster                                                                      \n",
       "0                                  52.771421  33.326561  13.662496   0.239521\n",
       "1                                  47.709139  36.127661  15.913831   0.249369\n",
       "2                                  15.551145  43.691312  35.388695   5.368848\n",
       "3                                   9.900990  24.752475  49.504950  15.841584\n",
       "4                                   0.000000   0.000000   0.052954  99.947046"
      ]
     },
     "execution_count": 122,
     "metadata": {},
     "output_type": "execute_result"
    }
   ],
   "source": [
    "pd.crosstab(df.cluster,df[\"TOT TransactionAmount (INR) CLASS\"]).apply(lambda r: r/r.sum()*100, axis=1)"
   ]
  },
  {
   "cell_type": "markdown",
   "id": "7760197b-8196-4c7f-9f52-8604e1a40626",
   "metadata": {
    "jp-MarkdownHeadingCollapsed": true,
    "tags": []
   },
   "source": [
    "### Average_transaction_amount_class"
   ]
  },
  {
   "cell_type": "code",
   "execution_count": 123,
   "id": "993435eb-ec11-4185-94af-481a17b1e8e0",
   "metadata": {},
   "outputs": [
    {
     "data": {
      "text/html": [
       "<div>\n",
       "<style scoped>\n",
       "    .dataframe tbody tr th:only-of-type {\n",
       "        vertical-align: middle;\n",
       "    }\n",
       "\n",
       "    .dataframe tbody tr th {\n",
       "        vertical-align: top;\n",
       "    }\n",
       "\n",
       "    .dataframe thead th {\n",
       "        text-align: right;\n",
       "    }\n",
       "</style>\n",
       "<table border=\"1\" class=\"dataframe\">\n",
       "  <thead>\n",
       "    <tr style=\"text-align: right;\">\n",
       "      <th>Average_transaction_amount_class</th>\n",
       "      <th>0</th>\n",
       "      <th>1</th>\n",
       "      <th>2</th>\n",
       "      <th>3</th>\n",
       "    </tr>\n",
       "    <tr>\n",
       "      <th>cluster</th>\n",
       "      <th></th>\n",
       "      <th></th>\n",
       "      <th></th>\n",
       "      <th></th>\n",
       "    </tr>\n",
       "  </thead>\n",
       "  <tbody>\n",
       "    <tr>\n",
       "      <th>0</th>\n",
       "      <td>55.132414</td>\n",
       "      <td>32.792273</td>\n",
       "      <td>11.943078</td>\n",
       "      <td>0.132236</td>\n",
       "    </tr>\n",
       "    <tr>\n",
       "      <th>1</th>\n",
       "      <td>48.568741</td>\n",
       "      <td>36.192368</td>\n",
       "      <td>15.046265</td>\n",
       "      <td>0.192626</td>\n",
       "    </tr>\n",
       "    <tr>\n",
       "      <th>2</th>\n",
       "      <td>38.145671</td>\n",
       "      <td>45.947929</td>\n",
       "      <td>15.631202</td>\n",
       "      <td>0.275197</td>\n",
       "    </tr>\n",
       "    <tr>\n",
       "      <th>3</th>\n",
       "      <td>12.871287</td>\n",
       "      <td>28.712871</td>\n",
       "      <td>43.564356</td>\n",
       "      <td>14.851485</td>\n",
       "    </tr>\n",
       "    <tr>\n",
       "      <th>4</th>\n",
       "      <td>0.000000</td>\n",
       "      <td>0.000000</td>\n",
       "      <td>2.453518</td>\n",
       "      <td>97.546482</td>\n",
       "    </tr>\n",
       "  </tbody>\n",
       "</table>\n",
       "</div>"
      ],
      "text/plain": [
       "Average_transaction_amount_class          0          1          2          3\n",
       "cluster                                                                     \n",
       "0                                 55.132414  32.792273  11.943078   0.132236\n",
       "1                                 48.568741  36.192368  15.046265   0.192626\n",
       "2                                 38.145671  45.947929  15.631202   0.275197\n",
       "3                                 12.871287  28.712871  43.564356  14.851485\n",
       "4                                  0.000000   0.000000   2.453518  97.546482"
      ]
     },
     "execution_count": 123,
     "metadata": {},
     "output_type": "execute_result"
    }
   ],
   "source": [
    "pd.crosstab(df.cluster,df.Average_transaction_amount_class).apply(lambda r: r/r.sum()*100, axis=1)"
   ]
  },
  {
   "cell_type": "markdown",
   "id": "683fb3d1-a911-467a-83c7-f43c94095963",
   "metadata": {
    "jp-MarkdownHeadingCollapsed": true,
    "tags": []
   },
   "source": [
    "### Class_income"
   ]
  },
  {
   "cell_type": "code",
   "execution_count": 124,
   "id": "91f1f4fa-0f5a-4249-b8b9-44bf0a8481e8",
   "metadata": {},
   "outputs": [
    {
     "data": {
      "text/html": [
       "<div>\n",
       "<style scoped>\n",
       "    .dataframe tbody tr th:only-of-type {\n",
       "        vertical-align: middle;\n",
       "    }\n",
       "\n",
       "    .dataframe tbody tr th {\n",
       "        vertical-align: top;\n",
       "    }\n",
       "\n",
       "    .dataframe thead th {\n",
       "        text-align: right;\n",
       "    }\n",
       "</style>\n",
       "<table border=\"1\" class=\"dataframe\">\n",
       "  <thead>\n",
       "    <tr style=\"text-align: right;\">\n",
       "      <th>Class_income</th>\n",
       "      <th>0</th>\n",
       "      <th>1</th>\n",
       "      <th>2</th>\n",
       "      <th>3</th>\n",
       "    </tr>\n",
       "    <tr>\n",
       "      <th>cluster</th>\n",
       "      <th></th>\n",
       "      <th></th>\n",
       "      <th></th>\n",
       "      <th></th>\n",
       "    </tr>\n",
       "  </thead>\n",
       "  <tbody>\n",
       "    <tr>\n",
       "      <th>0</th>\n",
       "      <td>41.416275</td>\n",
       "      <td>43.671942</td>\n",
       "      <td>13.327987</td>\n",
       "      <td>1.583797</td>\n",
       "    </tr>\n",
       "    <tr>\n",
       "      <th>1</th>\n",
       "      <td>33.838542</td>\n",
       "      <td>48.701140</td>\n",
       "      <td>16.225418</td>\n",
       "      <td>1.234900</td>\n",
       "    </tr>\n",
       "    <tr>\n",
       "      <th>2</th>\n",
       "      <td>37.753724</td>\n",
       "      <td>45.477592</td>\n",
       "      <td>15.230915</td>\n",
       "      <td>1.537769</td>\n",
       "    </tr>\n",
       "    <tr>\n",
       "      <th>3</th>\n",
       "      <td>0.000000</td>\n",
       "      <td>0.000000</td>\n",
       "      <td>0.000000</td>\n",
       "      <td>100.000000</td>\n",
       "    </tr>\n",
       "    <tr>\n",
       "      <th>4</th>\n",
       "      <td>19.604613</td>\n",
       "      <td>42.121676</td>\n",
       "      <td>32.078136</td>\n",
       "      <td>6.195575</td>\n",
       "    </tr>\n",
       "  </tbody>\n",
       "</table>\n",
       "</div>"
      ],
      "text/plain": [
       "Class_income          0          1          2           3\n",
       "cluster                                                  \n",
       "0             41.416275  43.671942  13.327987    1.583797\n",
       "1             33.838542  48.701140  16.225418    1.234900\n",
       "2             37.753724  45.477592  15.230915    1.537769\n",
       "3              0.000000   0.000000   0.000000  100.000000\n",
       "4             19.604613  42.121676  32.078136    6.195575"
      ]
     },
     "execution_count": 124,
     "metadata": {},
     "output_type": "execute_result"
    }
   ],
   "source": [
    "pd.crosstab(df.cluster,df.Class_income).apply(lambda r: r/r.sum()*100, axis=1)"
   ]
  },
  {
   "cell_type": "markdown",
   "id": "bf881914-8262-4582-8627-34fab0ccae63",
   "metadata": {
    "jp-MarkdownHeadingCollapsed": true,
    "tags": []
   },
   "source": [
    "### Age"
   ]
  },
  {
   "cell_type": "code",
   "execution_count": 125,
   "id": "d5e43e4f-36a2-4220-b51e-9ac3f5192017",
   "metadata": {},
   "outputs": [
    {
     "data": {
      "text/html": [
       "<div>\n",
       "<style scoped>\n",
       "    .dataframe tbody tr th:only-of-type {\n",
       "        vertical-align: middle;\n",
       "    }\n",
       "\n",
       "    .dataframe tbody tr th {\n",
       "        vertical-align: top;\n",
       "    }\n",
       "\n",
       "    .dataframe thead th {\n",
       "        text-align: right;\n",
       "    }\n",
       "</style>\n",
       "<table border=\"1\" class=\"dataframe\">\n",
       "  <thead>\n",
       "    <tr style=\"text-align: right;\">\n",
       "      <th>Age_in_2016_class</th>\n",
       "      <th>0</th>\n",
       "      <th>1</th>\n",
       "      <th>2</th>\n",
       "      <th>3</th>\n",
       "    </tr>\n",
       "    <tr>\n",
       "      <th>cluster</th>\n",
       "      <th></th>\n",
       "      <th></th>\n",
       "      <th></th>\n",
       "      <th></th>\n",
       "    </tr>\n",
       "  </thead>\n",
       "  <tbody>\n",
       "    <tr>\n",
       "      <th>0</th>\n",
       "      <td>0.054712</td>\n",
       "      <td>15.968599</td>\n",
       "      <td>83.114307</td>\n",
       "      <td>0.862382</td>\n",
       "    </tr>\n",
       "    <tr>\n",
       "      <th>1</th>\n",
       "      <td>0.040317</td>\n",
       "      <td>19.121285</td>\n",
       "      <td>79.802595</td>\n",
       "      <td>1.035803</td>\n",
       "    </tr>\n",
       "    <tr>\n",
       "      <th>2</th>\n",
       "      <td>0.063379</td>\n",
       "      <td>17.100589</td>\n",
       "      <td>81.765265</td>\n",
       "      <td>1.070767</td>\n",
       "    </tr>\n",
       "    <tr>\n",
       "      <th>3</th>\n",
       "      <td>0.000000</td>\n",
       "      <td>0.990099</td>\n",
       "      <td>80.198020</td>\n",
       "      <td>18.811881</td>\n",
       "    </tr>\n",
       "    <tr>\n",
       "      <th>4</th>\n",
       "      <td>0.052954</td>\n",
       "      <td>8.066604</td>\n",
       "      <td>88.603201</td>\n",
       "      <td>3.277242</td>\n",
       "    </tr>\n",
       "  </tbody>\n",
       "</table>\n",
       "</div>"
      ],
      "text/plain": [
       "Age_in_2016_class         0          1          2          3\n",
       "cluster                                                     \n",
       "0                  0.054712  15.968599  83.114307   0.862382\n",
       "1                  0.040317  19.121285  79.802595   1.035803\n",
       "2                  0.063379  17.100589  81.765265   1.070767\n",
       "3                  0.000000   0.990099  80.198020  18.811881\n",
       "4                  0.052954   8.066604  88.603201   3.277242"
      ]
     },
     "execution_count": 125,
     "metadata": {},
     "output_type": "execute_result"
    }
   ],
   "source": [
    "pd.crosstab(df.cluster,df.Age_in_2016_class).apply(lambda r: r/r.sum()*100, axis=1)"
   ]
  },
  {
   "cell_type": "markdown",
   "id": "7b04a12b-5880-4538-8f0e-f2e58de37dce",
   "metadata": {
    "jp-MarkdownHeadingCollapsed": true,
    "tags": []
   },
   "source": [
    "# Clusters report"
   ]
  },
  {
   "cell_type": "markdown",
   "id": "2b66e431-b034-4f3e-b444-467d1a50774b",
   "metadata": {},
   "source": [
    "| cluster  | size  |  About gender | about how much they have  | about average transactions   |  about age |\n",
    "|---|---|---|---|---|---|\n",
    "| 0 | 561120| only men  |  substanial equality between low and medium clients|  most of standard and lower transaction |   |\n",
    "| 1 |  200907| only women  | 48% have  between [10.000,100.000) INR | most of standard and lower transaction  |   |\n",
    "| 2 | 59957|  most of mixed account 89% (men ad women) |  substanial equality between low and medium clients | most of standard and lower transaction  |   |\n",
    "| 3 |  101|  77% of men |  100% have more than 1.000.000 INR | 43% of transaction between [2000,10000) INR and 14% of transaction highier than 10.000 INR  | 18% of pensioners  |\n",
    "| 4 | 16996|  68% of men  | 32% have  between [100.000,1.000.000) INR  |  97% have done transaction highier than 10.000 INR  |   |\n",
    "\n",
    "\n",
    "- All the clusters have around 80% of people between 25 and 65.   \n",
    "- Clusters 0,1,2 have around 15% of accounts that have money between [100.000,1.000.000) INR.   \n",
    "- Clusters 0,1,2 have around 15% of accounts that have done transaction between [2000,10000) INR.   \n",
    "\n"
   ]
  },
  {
   "cell_type": "markdown",
   "id": "4c1f647a-b29b-4f0c-a0d8-c60163eff23a",
   "metadata": {},
   "source": [
    "We can conclude that the 3th and the 4th cluster are made up of the richest accounts.   \n",
    "While 0,1,2 clusters are made up mostly of standards accounts."
   ]
  },
  {
   "cell_type": "markdown",
   "id": "1e5c7c99-2e2a-4494-b029-6ee8c1dc137d",
   "metadata": {},
   "source": [
    "**Note:**   \n",
    "A reminder of average transactions classes:  \n",
    "- Lower 0,     [0,500)\n",
    "- Medium 1,    [500,2000)\n",
    "- High 2,   [2000,10000)\n",
    "- Very High 3,[10000,inf)\n"
   ]
  },
  {
   "cell_type": "markdown",
   "metadata": {},
   "source": [
    "# Algorithmic Question"
   ]
  },
  {
   "cell_type": "markdown",
   "metadata": {},
   "source": [
    "First of all we take as input ***n*** the number of entrances, ***m*** the number of students and ***g*** the number of the guards."
   ]
  },
  {
   "cell_type": "code",
   "execution_count": 6,
   "metadata": {},
   "outputs": [
    {
     "name": "stdout",
     "output_type": "stream",
     "text": [
      "2 5 1\n"
     ]
    }
   ],
   "source": [
    "n, m, g = map(int,input().split())"
   ]
  },
  {
   "cell_type": "markdown",
   "metadata": {},
   "source": [
    "Then we can take as input m integers that correspond to the number of the entrances in which each students should enter.    \n",
    "We store these number as a list called ***students***."
   ]
  },
  {
   "cell_type": "code",
   "execution_count": 7,
   "metadata": {},
   "outputs": [
    {
     "name": "stdout",
     "output_type": "stream",
     "text": [
      "1 2 1 2 2\n"
     ]
    }
   ],
   "source": [
    "students = list(map(int,input().split()))"
   ]
  },
  {
   "cell_type": "markdown",
   "metadata": {},
   "source": [
    "We can now create a function that return ***'YES'*** if the number of guards taken as input is enough or ***'NO'*** otherwise.   \n",
    "The idea is to create an empty list ***open*** in which we can everytime append the number of the open entrance."
   ]
  },
  {
   "cell_type": "code",
   "execution_count": 3,
   "metadata": {},
   "outputs": [],
   "source": [
    "def enough_guard(students,m,g):\n",
    "    open = []\n",
    "    # for every element students[i] in students\n",
    "    for i in range(m):\n",
    "        # if the door students[i] is already open and the door is present also in the 'last' elements of the list we can skip the for loop\n",
    "        if students[i] in open and students[i] in students[i+1:]:\n",
    "            continue\n",
    "        # if the door students[i] is already open and it isn't present in the 'last' element of the list this mean that we can close that door.\n",
    "        # So we can delete from open the element students[i] and add 1 to the number of the guards available\n",
    "        elif students[i] in open and students[i] not in students[i+1:]:\n",
    "            g += 1\n",
    "            open.remove(students[i])\n",
    "            continue\n",
    "        # if the door students[i] isn't already open and it's also present in the 'last' elements of the list students and if the number of guards is greater than 0\n",
    "        # then we can add the number of the door to the list open and take away a guard from the number of available guards\n",
    "        # instead if g<=0 these mean that g guards are not enough \n",
    "        elif students[i] not in open and students[i] in students[i+1:]:\n",
    "            if g >0:\n",
    "                open.append(students[i])\n",
    "                g -= 1\n",
    "                continue\n",
    "            else:\n",
    "                return 'NO'\n",
    "        # if students[i] is not already open but also it's not present in the 'last' part of the list this mean that in that entrance should enter just one student\n",
    "        # so we can check if there is a guard available. If not this means that the number of guards g is not enough\n",
    "        elif students[i] not in open and students[i] not in students[i+1:]:\n",
    "            if g>0:\n",
    "                continue\n",
    "            else:\n",
    "                return 'NO'\n",
    "\n",
    "    return 'YES'\n"
   ]
  },
  {
   "cell_type": "code",
   "execution_count": 8,
   "metadata": {},
   "outputs": [],
   "source": [
    "YES_or_NO = enough_guard(students,m,g)     "
   ]
  },
  {
   "cell_type": "markdown",
   "metadata": {},
   "source": [
    "Output with as input:   \n",
    "4 5 1  \n",
    "1 1 3 3 3"
   ]
  },
  {
   "cell_type": "code",
   "execution_count": 5,
   "metadata": {},
   "outputs": [
    {
     "name": "stdout",
     "output_type": "stream",
     "text": [
      "YES\n"
     ]
    }
   ],
   "source": [
    "print(YES_or_NO)"
   ]
  },
  {
   "cell_type": "markdown",
   "metadata": {},
   "source": [
    "Output with as input:   \n",
    "2 5 1    \n",
    "1 2 1 2 2"
   ]
  },
  {
   "cell_type": "code",
   "execution_count": 9,
   "metadata": {},
   "outputs": [
    {
     "name": "stdout",
     "output_type": "stream",
     "text": [
      "NO\n"
     ]
    }
   ],
   "source": [
    "print(YES_or_NO)"
   ]
  }
 ],
 "metadata": {
  "kernelspec": {
   "display_name": "Python 3 (ipykernel)",
   "language": "python",
   "name": "python3"
  },
  "language_info": {
   "codemirror_mode": {
    "name": "ipython",
    "version": 3
   },
   "file_extension": ".py",
   "mimetype": "text/x-python",
   "name": "python",
   "nbconvert_exporter": "python",
   "pygments_lexer": "ipython3",
   "version": "3.9.12"
  },
  "vscode": {
   "interpreter": {
    "hash": "0095c6ec66f02ae1bc8a134f6078f14ee669be44a5c4ac33d7f267434e255fcc"
   }
  }
 },
 "nbformat": 4,
 "nbformat_minor": 2
}
