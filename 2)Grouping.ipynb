{
 "cells": [
  {
   "cell_type": "markdown",
   "id": "55376417-4223-4c41-8738-1444a31f3952",
   "metadata": {},
   "source": [
    "# 2.1 Getting your data + feature engineering"
   ]
  },
  {
   "cell_type": "code",
   "execution_count": 367,
   "id": "cb47dfdc-1362-4851-ab16-827bc5afcba2",
   "metadata": {},
   "outputs": [],
   "source": [
    "import pandas as pd\n",
    "from datetime import datetime\n",
    "import numpy as np\n",
    "pd.options.mode.chained_assignment = None  # default='warn'\n",
    "\n",
    "df=pd.read_csv(\"bank_transactions.csv\")"
   ]
  },
  {
   "cell_type": "code",
   "execution_count": 368,
   "id": "0a242992-976d-47e4-a562-1ec4db1198f1",
   "metadata": {},
   "outputs": [
    {
     "name": "stdout",
     "output_type": "stream",
     "text": [
      "<class 'pandas.core.frame.DataFrame'>\n",
      "RangeIndex: 1048567 entries, 0 to 1048566\n",
      "Data columns (total 9 columns):\n",
      " #   Column                   Non-Null Count    Dtype  \n",
      "---  ------                   --------------    -----  \n",
      " 0   TransactionID            1048567 non-null  object \n",
      " 1   CustomerID               1048567 non-null  object \n",
      " 2   CustomerDOB              1045170 non-null  object \n",
      " 3   CustGender               1047467 non-null  object \n",
      " 4   CustLocation             1048416 non-null  object \n",
      " 5   CustAccountBalance       1046198 non-null  float64\n",
      " 6   TransactionDate          1048567 non-null  object \n",
      " 7   TransactionTime          1048567 non-null  int64  \n",
      " 8   TransactionAmount (INR)  1048567 non-null  float64\n",
      "dtypes: float64(2), int64(1), object(6)\n",
      "memory usage: 72.0+ MB\n"
     ]
    }
   ],
   "source": [
    "df.info() "
   ]
  },
  {
   "cell_type": "markdown",
   "id": "63ba6418-22df-449f-8457-67de7014f1b1",
   "metadata": {},
   "source": [
    "## Na analysis"
   ]
  },
  {
   "cell_type": "code",
   "execution_count": 369,
   "id": "5f79f698-ad09-47a2-9efe-c686b15c440c",
   "metadata": {},
   "outputs": [
    {
     "data": {
      "text/plain": [
       "(1048567, 9)"
      ]
     },
     "execution_count": 369,
     "metadata": {},
     "output_type": "execute_result"
    }
   ],
   "source": [
    "df.shape"
   ]
  },
  {
   "cell_type": "code",
   "execution_count": 370,
   "id": "94e0fca6-0466-48ca-99bf-ea562dc02ea8",
   "metadata": {},
   "outputs": [
    {
     "data": {
      "text/plain": [
       "TransactionID                 0\n",
       "CustomerID                    0\n",
       "CustomerDOB                3397\n",
       "CustGender                 1100\n",
       "CustLocation                151\n",
       "CustAccountBalance         2369\n",
       "TransactionDate               0\n",
       "TransactionTime               0\n",
       "TransactionAmount (INR)       0\n",
       "dtype: int64"
      ]
     },
     "execution_count": 370,
     "metadata": {},
     "output_type": "execute_result"
    }
   ],
   "source": [
    "df.isna().sum()"
   ]
  },
  {
   "cell_type": "markdown",
   "id": "d5113a3f-7c14-40f2-9ebd-08cf2051d6d7",
   "metadata": {},
   "source": [
    "Since we have to create new variables starting with the ones that we have, we think that rows with NA values\n",
    "are useless.\n",
    "Also we can notice that rows which contain NA values are in a small number compared to the shape of the dataframe.\n",
    "According to these  we delete them."
   ]
  },
  {
   "cell_type": "code",
   "execution_count": 371,
   "id": "79f4c334-f329-4cd4-a51e-26d71fb20bab",
   "metadata": {},
   "outputs": [
    {
     "data": {
      "text/plain": [
       "(1041614, 9)"
      ]
     },
     "execution_count": 371,
     "metadata": {},
     "output_type": "execute_result"
    }
   ],
   "source": [
    "df.dropna(inplace=True)\n",
    "df.shape"
   ]
  },
  {
   "cell_type": "markdown",
   "id": "9ff51e10-7372-4714-b4ea-9a59abf3288a",
   "metadata": {},
   "source": [
    "## Change the data type"
   ]
  },
  {
   "cell_type": "code",
   "execution_count": 372,
   "id": "68444649-41dd-48fb-af31-cb928b2dd950",
   "metadata": {},
   "outputs": [
    {
     "data": {
      "text/html": [
       "<div>\n",
       "<style scoped>\n",
       "    .dataframe tbody tr th:only-of-type {\n",
       "        vertical-align: middle;\n",
       "    }\n",
       "\n",
       "    .dataframe tbody tr th {\n",
       "        vertical-align: top;\n",
       "    }\n",
       "\n",
       "    .dataframe thead th {\n",
       "        text-align: right;\n",
       "    }\n",
       "</style>\n",
       "<table border=\"1\" class=\"dataframe\">\n",
       "  <thead>\n",
       "    <tr style=\"text-align: right;\">\n",
       "      <th></th>\n",
       "      <th>CustomerDOB</th>\n",
       "      <th>TransactionDate</th>\n",
       "      <th>TransactionTime</th>\n",
       "    </tr>\n",
       "  </thead>\n",
       "  <tbody>\n",
       "    <tr>\n",
       "      <th>0</th>\n",
       "      <td>10/1/94</td>\n",
       "      <td>2/8/16</td>\n",
       "      <td>143207</td>\n",
       "    </tr>\n",
       "  </tbody>\n",
       "</table>\n",
       "</div>"
      ],
      "text/plain": [
       "  CustomerDOB TransactionDate  TransactionTime\n",
       "0     10/1/94          2/8/16           143207"
      ]
     },
     "execution_count": 372,
     "metadata": {},
     "output_type": "execute_result"
    }
   ],
   "source": [
    "df[[\"CustomerDOB\",\"TransactionDate\",\"TransactionTime\"]].head(1)"
   ]
  },
  {
   "cell_type": "markdown",
   "id": "8c98ca53-f947-4282-a996-7ef0f379d311",
   "metadata": {},
   "source": [
    "Since there are variables with date and times not in the proper format we will change the type of those variables."
   ]
  },
  {
   "cell_type": "code",
   "execution_count": 373,
   "id": "639c94ad-0290-41a6-acfa-cfc9f5329ee2",
   "metadata": {},
   "outputs": [],
   "source": [
    "df.CustomerDOB=pd.to_datetime(df.CustomerDOB)\n",
    "df.TransactionDate=pd.to_datetime(df.TransactionDate)"
   ]
  },
  {
   "cell_type": "code",
   "execution_count": 374,
   "id": "de0ed4cd-391c-4d19-b9e2-01c2b8acabad",
   "metadata": {},
   "outputs": [
    {
     "data": {
      "text/html": [
       "<div>\n",
       "<style scoped>\n",
       "    .dataframe tbody tr th:only-of-type {\n",
       "        vertical-align: middle;\n",
       "    }\n",
       "\n",
       "    .dataframe tbody tr th {\n",
       "        vertical-align: top;\n",
       "    }\n",
       "\n",
       "    .dataframe thead th {\n",
       "        text-align: right;\n",
       "    }\n",
       "</style>\n",
       "<table border=\"1\" class=\"dataframe\">\n",
       "  <thead>\n",
       "    <tr style=\"text-align: right;\">\n",
       "      <th></th>\n",
       "      <th>CustomerDOB</th>\n",
       "      <th>TransactionDate</th>\n",
       "    </tr>\n",
       "  </thead>\n",
       "  <tbody>\n",
       "    <tr>\n",
       "      <th>0</th>\n",
       "      <td>1994-10-01</td>\n",
       "      <td>2016-02-08</td>\n",
       "    </tr>\n",
       "  </tbody>\n",
       "</table>\n",
       "</div>"
      ],
      "text/plain": [
       "  CustomerDOB TransactionDate\n",
       "0  1994-10-01      2016-02-08"
      ]
     },
     "execution_count": 374,
     "metadata": {},
     "output_type": "execute_result"
    }
   ],
   "source": [
    "df[[\"CustomerDOB\",\"TransactionDate\"]].head(1)"
   ]
  },
  {
   "cell_type": "code",
   "execution_count": 375,
   "id": "f92e4e9c-7556-43df-834a-4aa603b152b9",
   "metadata": {},
   "outputs": [],
   "source": [
    "df.TransactionTime = df.TransactionTime.apply(lambda x: datetime.strptime(str(x).zfill(6), '%H%M%S').time())"
   ]
  },
  {
   "cell_type": "markdown",
   "id": "d7f4acca-d5b7-46b7-9ff2-2f53487f1928",
   "metadata": {},
   "source": [
    "Now the time variables seems to be correct."
   ]
  },
  {
   "cell_type": "code",
   "execution_count": 376,
   "id": "a0726c58-4f55-449f-9d0e-0d24a389d996",
   "metadata": {},
   "outputs": [
    {
     "data": {
      "text/html": [
       "<div>\n",
       "<style scoped>\n",
       "    .dataframe tbody tr th:only-of-type {\n",
       "        vertical-align: middle;\n",
       "    }\n",
       "\n",
       "    .dataframe tbody tr th {\n",
       "        vertical-align: top;\n",
       "    }\n",
       "\n",
       "    .dataframe thead th {\n",
       "        text-align: right;\n",
       "    }\n",
       "</style>\n",
       "<table border=\"1\" class=\"dataframe\">\n",
       "  <thead>\n",
       "    <tr style=\"text-align: right;\">\n",
       "      <th></th>\n",
       "      <th>CustomerDOB</th>\n",
       "      <th>TransactionDate</th>\n",
       "      <th>TransactionTime</th>\n",
       "    </tr>\n",
       "  </thead>\n",
       "  <tbody>\n",
       "    <tr>\n",
       "      <th>0</th>\n",
       "      <td>1994-10-01</td>\n",
       "      <td>2016-02-08</td>\n",
       "      <td>14:32:07</td>\n",
       "    </tr>\n",
       "  </tbody>\n",
       "</table>\n",
       "</div>"
      ],
      "text/plain": [
       "  CustomerDOB TransactionDate TransactionTime\n",
       "0  1994-10-01      2016-02-08        14:32:07"
      ]
     },
     "execution_count": 376,
     "metadata": {},
     "output_type": "execute_result"
    }
   ],
   "source": [
    "df[[\"CustomerDOB\",\"TransactionDate\",\"TransactionTime\"]].head(1)"
   ]
  },
  {
   "cell_type": "markdown",
   "id": "ec29359b-e4ca-4d23-bb53-a72fa34e4398",
   "metadata": {},
   "source": [
    "## Delete costumer that results born in 1800"
   ]
  },
  {
   "cell_type": "code",
   "execution_count": 377,
   "id": "8bcc857c-7bae-4ec7-9dcb-1c7f24d986a0",
   "metadata": {},
   "outputs": [
    {
     "data": {
      "text/plain": [
       "(985322, 9)"
      ]
     },
     "execution_count": 377,
     "metadata": {},
     "output_type": "execute_result"
    }
   ],
   "source": [
    "df.drop(df[df.CustomerDOB.dt.year == 1800].index, axis=0, inplace=True)\n",
    "df.shape"
   ]
  },
  {
   "cell_type": "markdown",
   "id": "8474bca7-194a-4d28-a139-77f5fb6c94b0",
   "metadata": {},
   "source": [
    "There was 56292 transactions belonging to customer born in 1800, or registered by error born in 1800."
   ]
  },
  {
   "cell_type": "markdown",
   "id": "4ce0c833-4eab-4633-83ac-98531f7b354e",
   "metadata": {},
   "source": [
    "# Create new variables\n"
   ]
  },
  {
   "cell_type": "markdown",
   "id": "b3248c27-1817-4b73-a256-6301b700b56d",
   "metadata": {},
   "source": [
    "## Grouping by customer ID\n",
    "Each row will be a different client.\n",
    "There are some issue with gender's variable so we are escluding it for now."
   ]
  },
  {
   "cell_type": "code",
   "execution_count": 378,
   "id": "c43e4537-e030-4bf6-959c-786c4b732627",
   "metadata": {},
   "outputs": [],
   "source": [
    "customer=df.groupby(\"CustomerID\").sum()\n",
    "customer=customer.rename(columns={\"TransactionAmount (INR)\":\"TOT TransactionAmount (INR)\"})\n",
    "customer.drop(columns=[\"CustAccountBalance\"],inplace=True)"
   ]
  },
  {
   "cell_type": "markdown",
   "id": "bcbc7aec-002d-45aa-bda3-d884653a945a",
   "metadata": {},
   "source": [
    "We have deleted because is a features that must not be summed."
   ]
  },
  {
   "cell_type": "markdown",
   "id": "6b91ce25-b338-47db-a200-3a9081900ec5",
   "metadata": {},
   "source": [
    "### Create  \"Number of transactions\""
   ]
  },
  {
   "cell_type": "code",
   "execution_count": 379,
   "id": "38f8bbbd-95ed-448b-9f4d-eb889f7851a0",
   "metadata": {},
   "outputs": [],
   "source": [
    "number_transaction=pd.DataFrame(df.groupby(\"CustomerID\").count().TransactionID)\n",
    "number_transaction=number_transaction.rename(columns={\"TransactionID\":\"Number_of_transaction\"})\n",
    "customer=pd.merge(customer,number_transaction,on=\"CustomerID\")"
   ]
  },
  {
   "cell_type": "markdown",
   "id": "ae4e3979-5b44-4889-96de-344a6b62e44f",
   "metadata": {},
   "source": [
    "### Create  \"Number of transactions\" bigger than 100 USD"
   ]
  },
  {
   "cell_type": "code",
   "execution_count": 380,
   "id": "4b928b5a-f059-4104-be55-a3d330e96141",
   "metadata": {},
   "outputs": [],
   "source": [
    "number_transaction=pd.DataFrame(df[df[\"TransactionAmount (INR)\"]> 100].groupby(\"CustomerID\").count().TransactionID)\n",
    "number_transaction=number_transaction.rename(columns={\"TransactionID\":\"Number_of_transaction_100\"})\n",
    "customer=pd.merge(customer,number_transaction,on=\"CustomerID\", how='left')\n",
    "\n",
    "#Put 0 instead of NaN\n",
    "customer.Number_of_transaction_100=customer.Number_of_transaction_100.fillna(0)"
   ]
  },
  {
   "cell_type": "markdown",
   "id": "f61718c7-ec6e-4ef5-af6d-eec058cae41a",
   "metadata": {},
   "source": [
    "### Average of the transactions"
   ]
  },
  {
   "cell_type": "code",
   "execution_count": 381,
   "id": "da38f03c-79f9-4703-b4e0-0ab5d50c9378",
   "metadata": {},
   "outputs": [],
   "source": [
    "means=pd.DataFrame(df.groupby(\"CustomerID\")[\"TransactionAmount (INR)\"].mean())\n",
    "means=means.rename(columns={\"TransactionAmount (INR)\":\"Average_transaction_amount\"})\n",
    "customer=pd.merge(customer,means,on=\"CustomerID\")"
   ]
  },
  {
   "cell_type": "markdown",
   "id": "9705cda2-3e94-4d66-a7d2-a42cbf36ebda",
   "metadata": {},
   "source": [
    "### Average balance"
   ]
  },
  {
   "cell_type": "code",
   "execution_count": 382,
   "id": "b03ff6c0-99ff-4fd6-af38-ce3edf7812f3",
   "metadata": {},
   "outputs": [],
   "source": [
    "average=pd.DataFrame(df.groupby(\"CustomerID\")[\"CustAccountBalance\"].mean())\n",
    "average=average.rename(columns={\"CustAccountBalance\":\"Average_amount_balance\"})\n",
    "customer=pd.merge(customer,average,on=\"CustomerID\")"
   ]
  },
  {
   "cell_type": "markdown",
   "id": "7cb258fd-7a8a-4875-800f-c50dee00e9a9",
   "metadata": {
    "tags": []
   },
   "source": [
    "### Utilisation \n",
    "Average difference between the balance and the transaction amount for each customer (this is mainly known in the banking world as utilisation)."
   ]
  },
  {
   "cell_type": "code",
   "execution_count": 383,
   "id": "2bdd3172-cd1e-40c6-a201-aeb2e76312eb",
   "metadata": {},
   "outputs": [],
   "source": [
    "df['Utilisation'] = df['CustAccountBalance'] - df['TransactionAmount (INR)']\n",
    "\n",
    "average=pd.DataFrame(df.groupby(\"CustomerID\")['Utilisation'].mean())\n",
    "average=average.rename(columns={\"Utilisation\":\"Average_Utilisation\"})\n",
    "customer=pd.merge(customer,average,on=\"CustomerID\")"
   ]
  },
  {
   "cell_type": "markdown",
   "id": "4ac65f29-8e14-435b-8193-55764ca791db",
   "metadata": {},
   "source": [
    "### Gender of the customer"
   ]
  },
  {
   "cell_type": "code",
   "execution_count": 384,
   "id": "7736f552-b3e1-4f8b-9fcf-900a3a9027a5",
   "metadata": {},
   "outputs": [],
   "source": [
    "sesso=df[[\"CustomerID\",\"CustGender\"]].drop_duplicates(subset=[\"CustomerID\"])\n",
    "customer=pd.merge(customer,sesso,on=\"CustomerID\")"
   ]
  },
  {
   "cell_type": "markdown",
   "id": "70c77232-b831-4e6c-9c7e-1d5961983db8",
   "metadata": {},
   "source": [
    "### Most frequent location of the customer"
   ]
  },
  {
   "cell_type": "code",
   "execution_count": 385,
   "id": "36ad2bfc-ed77-4e8b-b940-90914a89632d",
   "metadata": {},
   "outputs": [
    {
     "data": {
      "text/plain": [
       "(839081, 9)"
      ]
     },
     "execution_count": 385,
     "metadata": {},
     "output_type": "execute_result"
    }
   ],
   "source": [
    "#We create a subset of the dataset.\n",
    "data=df[['CustomerID','CustLocation']]\n",
    "\n",
    "#Create a new variable\n",
    "data['Most_common_location'] = data.groupby('CustomerID')['CustLocation'].transform(lambda x: x.mode()[0])\n",
    "\n",
    "#We drop the duplicates in order to avoid error during the merging. That's the reason of the creation of the subset.\n",
    "data.drop_duplicates(subset=['CustomerID'],inplace=True)\n",
    "\n",
    "#Merging data\n",
    "customer=pd.merge(customer,data[[\"CustomerID\",'Most_common_location']],on=\"CustomerID\")\n",
    "\n",
    "customer.shape"
   ]
  },
  {
   "cell_type": "markdown",
   "id": "d7d0f5e7-6f6e-4048-9c89-1935e1f4a2f9",
   "metadata": {},
   "source": [
    "## Create other 20 features"
   ]
  },
  {
   "cell_type": "markdown",
   "id": "e12968fa-3304-48b8-8c18-1f91a2c077eb",
   "metadata": {},
   "source": [
    "### CustomerAge"
   ]
  },
  {
   "cell_type": "code",
   "execution_count": 386,
   "id": "24854ec0-6980-4478-bf25-04bbbb396236",
   "metadata": {
    "tags": []
   },
   "outputs": [
    {
     "data": {
      "text/plain": [
       "(839081, 10)"
      ]
     },
     "execution_count": 386,
     "metadata": {},
     "output_type": "execute_result"
    }
   ],
   "source": [
    "#We create a subset of the dataset.\n",
    "data=df[[\"CustomerID\",\"CustomerDOB\"]]\n",
    "\n",
    "data.loc[data.CustomerDOB.dt.year > 2000, 'CustomerDOB'] = data.loc[data.CustomerDOB.dt.year > 2000, 'CustomerDOB'] - pd.DateOffset(years = 100)\n",
    "\n",
    "#We drop the duplicates in order to avoid error during the merging. That's the reason of the creation of the subset.\n",
    "data.drop_duplicates(subset=['CustomerID'],inplace=True)\n",
    "\n",
    "#Create a new variable\n",
    "data['CustomerAge'] = (( pd.to_datetime('today') - data.CustomerDOB ) / np.timedelta64(1, 'Y')).round(0)\n",
    "\n",
    "#Change the type of the column\n",
    "data['CustomerAge'] = data['CustomerAge'].astype(int)\n",
    "\n",
    "#Merging\n",
    "customer=pd.merge(customer,data[[\"CustomerID\",'CustomerAge']],on=\"CustomerID\")\n",
    "\n",
    "customer.shape"
   ]
  },
  {
   "cell_type": "markdown",
   "id": "645ad95f-ae10-4e31-a220-332eb7f3da60",
   "metadata": {},
   "source": [
    "### Binary for major costumer and Age_in_2016\n",
    "The feature \"Major\" will be 1 is the costumer was major in 2016, 0 if the costumer was under 18 years old in 2016.\n"
   ]
  },
  {
   "cell_type": "code",
   "execution_count": 387,
   "id": "1e4b2680-3ab4-4e16-9429-325903a1268a",
   "metadata": {
    "tags": []
   },
   "outputs": [
    {
     "data": {
      "text/plain": [
       "(839081, 12)"
      ]
     },
     "execution_count": 387,
     "metadata": {},
     "output_type": "execute_result"
    }
   ],
   "source": [
    "#Create a new variable\n",
    "data['Age_in_2016'] = (( pd.to_datetime('2016-12-31') - data.CustomerDOB ) / np.timedelta64(1, 'Y')).round(0)\n",
    "\n",
    "data['Major']=1\n",
    "data.loc[data[\"Age_in_2016\"] <18,'Major']=0\n",
    "\n",
    "#Change the type of the column\n",
    "data[\"Age_in_2016\"] = data[\"Age_in_2016\"].astype(int)\n",
    "\n",
    "#Merging\n",
    "customer=pd.merge(customer,data[[\"CustomerID\",\"Age_in_2016\",'Major']],on=\"CustomerID\")\n",
    "\n",
    "customer.shape"
   ]
  },
  {
   "cell_type": "code",
   "execution_count": 388,
   "id": "16412541-7fef-41a8-9711-3a066b493ea0",
   "metadata": {},
   "outputs": [],
   "source": [
    "customer.to_pickle(\"/Users/mattia/Desktop/ADM(Aris)/HM4/customer.pkl\")"
   ]
  },
  {
   "cell_type": "markdown",
   "id": "d0952cee-9711-422d-88e6-b37956d583c2",
   "metadata": {},
   "source": [
    "### Old customer\n",
    "The feature \"OLD\" will be 1 is the costumer in 2016 was 70 years old or more."
   ]
  },
  {
   "cell_type": "code",
   "execution_count": 389,
   "id": "ea8f50c2-50a3-4cce-b6d2-37f38e5d2d36",
   "metadata": {},
   "outputs": [
    {
     "data": {
      "text/plain": [
       "(839081, 13)"
      ]
     },
     "execution_count": 389,
     "metadata": {},
     "output_type": "execute_result"
    }
   ],
   "source": [
    "#Create a new variable\n",
    "data['Old']=0\n",
    "data.loc[data[\"Age_in_2016\"] >= 70,'Old']=1\n",
    "\n",
    "#Merging\n",
    "customer=pd.merge(customer,data[[\"CustomerID\",'Old']],on=\"CustomerID\")\n",
    "\n",
    "customer.shape"
   ]
  },
  {
   "cell_type": "markdown",
   "id": "dc22b64b-ec59-493b-8b67-068309f2aa9a",
   "metadata": {},
   "source": [
    "### "
   ]
  },
  {
   "cell_type": "code",
   "execution_count": 392,
   "id": "37232eb3-a08a-47b1-9cfb-50e1431a7355",
   "metadata": {},
   "outputs": [
    {
     "data": {
      "text/html": [
       "<div>\n",
       "<style scoped>\n",
       "    .dataframe tbody tr th:only-of-type {\n",
       "        vertical-align: middle;\n",
       "    }\n",
       "\n",
       "    .dataframe tbody tr th {\n",
       "        vertical-align: top;\n",
       "    }\n",
       "\n",
       "    .dataframe thead th {\n",
       "        text-align: right;\n",
       "    }\n",
       "</style>\n",
       "<table border=\"1\" class=\"dataframe\">\n",
       "  <thead>\n",
       "    <tr style=\"text-align: right;\">\n",
       "      <th></th>\n",
       "      <th>TransactionID</th>\n",
       "      <th>CustomerID</th>\n",
       "      <th>CustomerDOB</th>\n",
       "      <th>CustGender</th>\n",
       "      <th>CustLocation</th>\n",
       "      <th>CustAccountBalance</th>\n",
       "      <th>TransactionDate</th>\n",
       "      <th>TransactionTime</th>\n",
       "      <th>TransactionAmount (INR)</th>\n",
       "      <th>Utilisation</th>\n",
       "    </tr>\n",
       "  </thead>\n",
       "  <tbody>\n",
       "    <tr>\n",
       "      <th>0</th>\n",
       "      <td>T1</td>\n",
       "      <td>C5841053</td>\n",
       "      <td>1994-10-01</td>\n",
       "      <td>F</td>\n",
       "      <td>JAMSHEDPUR</td>\n",
       "      <td>17819.05</td>\n",
       "      <td>2016-02-08</td>\n",
       "      <td>14:32:07</td>\n",
       "      <td>25.0</td>\n",
       "      <td>17794.05</td>\n",
       "    </tr>\n",
       "    <tr>\n",
       "      <th>1</th>\n",
       "      <td>T2</td>\n",
       "      <td>C2142763</td>\n",
       "      <td>2057-04-04</td>\n",
       "      <td>M</td>\n",
       "      <td>JHAJJAR</td>\n",
       "      <td>2270.69</td>\n",
       "      <td>2016-02-08</td>\n",
       "      <td>14:18:58</td>\n",
       "      <td>27999.0</td>\n",
       "      <td>-25728.31</td>\n",
       "    </tr>\n",
       "    <tr>\n",
       "      <th>2</th>\n",
       "      <td>T3</td>\n",
       "      <td>C4417068</td>\n",
       "      <td>1996-11-26</td>\n",
       "      <td>F</td>\n",
       "      <td>MUMBAI</td>\n",
       "      <td>17874.44</td>\n",
       "      <td>2016-02-08</td>\n",
       "      <td>14:27:12</td>\n",
       "      <td>459.0</td>\n",
       "      <td>17415.44</td>\n",
       "    </tr>\n",
       "    <tr>\n",
       "      <th>3</th>\n",
       "      <td>T4</td>\n",
       "      <td>C5342380</td>\n",
       "      <td>1973-09-14</td>\n",
       "      <td>F</td>\n",
       "      <td>MUMBAI</td>\n",
       "      <td>866503.21</td>\n",
       "      <td>2016-02-08</td>\n",
       "      <td>14:27:14</td>\n",
       "      <td>2060.0</td>\n",
       "      <td>864443.21</td>\n",
       "    </tr>\n",
       "    <tr>\n",
       "      <th>4</th>\n",
       "      <td>T5</td>\n",
       "      <td>C9031234</td>\n",
       "      <td>1988-03-24</td>\n",
       "      <td>F</td>\n",
       "      <td>NAVI MUMBAI</td>\n",
       "      <td>6714.43</td>\n",
       "      <td>2016-02-08</td>\n",
       "      <td>18:11:56</td>\n",
       "      <td>1762.5</td>\n",
       "      <td>4951.93</td>\n",
       "    </tr>\n",
       "    <tr>\n",
       "      <th>...</th>\n",
       "      <td>...</td>\n",
       "      <td>...</td>\n",
       "      <td>...</td>\n",
       "      <td>...</td>\n",
       "      <td>...</td>\n",
       "      <td>...</td>\n",
       "      <td>...</td>\n",
       "      <td>...</td>\n",
       "      <td>...</td>\n",
       "      <td>...</td>\n",
       "    </tr>\n",
       "    <tr>\n",
       "      <th>1048562</th>\n",
       "      <td>T1048563</td>\n",
       "      <td>C8020229</td>\n",
       "      <td>1990-08-04</td>\n",
       "      <td>M</td>\n",
       "      <td>NEW DELHI</td>\n",
       "      <td>7635.19</td>\n",
       "      <td>2016-09-18</td>\n",
       "      <td>18:48:24</td>\n",
       "      <td>799.0</td>\n",
       "      <td>6836.19</td>\n",
       "    </tr>\n",
       "    <tr>\n",
       "      <th>1048563</th>\n",
       "      <td>T1048564</td>\n",
       "      <td>C6459278</td>\n",
       "      <td>1992-02-20</td>\n",
       "      <td>M</td>\n",
       "      <td>NASHIK</td>\n",
       "      <td>27311.42</td>\n",
       "      <td>2016-09-18</td>\n",
       "      <td>18:37:34</td>\n",
       "      <td>460.0</td>\n",
       "      <td>26851.42</td>\n",
       "    </tr>\n",
       "    <tr>\n",
       "      <th>1048564</th>\n",
       "      <td>T1048565</td>\n",
       "      <td>C6412354</td>\n",
       "      <td>1989-05-18</td>\n",
       "      <td>M</td>\n",
       "      <td>HYDERABAD</td>\n",
       "      <td>221757.06</td>\n",
       "      <td>2016-09-18</td>\n",
       "      <td>18:33:13</td>\n",
       "      <td>770.0</td>\n",
       "      <td>220987.06</td>\n",
       "    </tr>\n",
       "    <tr>\n",
       "      <th>1048565</th>\n",
       "      <td>T1048566</td>\n",
       "      <td>C6420483</td>\n",
       "      <td>1978-08-30</td>\n",
       "      <td>M</td>\n",
       "      <td>VISAKHAPATNAM</td>\n",
       "      <td>10117.87</td>\n",
       "      <td>2016-09-18</td>\n",
       "      <td>18:47:06</td>\n",
       "      <td>1000.0</td>\n",
       "      <td>9117.87</td>\n",
       "    </tr>\n",
       "    <tr>\n",
       "      <th>1048566</th>\n",
       "      <td>T1048567</td>\n",
       "      <td>C8337524</td>\n",
       "      <td>1984-05-03</td>\n",
       "      <td>M</td>\n",
       "      <td>PUNE</td>\n",
       "      <td>75734.42</td>\n",
       "      <td>2016-09-18</td>\n",
       "      <td>18:12:22</td>\n",
       "      <td>1166.0</td>\n",
       "      <td>74568.42</td>\n",
       "    </tr>\n",
       "  </tbody>\n",
       "</table>\n",
       "<p>985322 rows × 10 columns</p>\n",
       "</div>"
      ],
      "text/plain": [
       "        TransactionID CustomerID CustomerDOB CustGender   CustLocation  \\\n",
       "0                  T1   C5841053  1994-10-01          F     JAMSHEDPUR   \n",
       "1                  T2   C2142763  2057-04-04          M        JHAJJAR   \n",
       "2                  T3   C4417068  1996-11-26          F         MUMBAI   \n",
       "3                  T4   C5342380  1973-09-14          F         MUMBAI   \n",
       "4                  T5   C9031234  1988-03-24          F    NAVI MUMBAI   \n",
       "...               ...        ...         ...        ...            ...   \n",
       "1048562      T1048563   C8020229  1990-08-04          M      NEW DELHI   \n",
       "1048563      T1048564   C6459278  1992-02-20          M         NASHIK   \n",
       "1048564      T1048565   C6412354  1989-05-18          M      HYDERABAD   \n",
       "1048565      T1048566   C6420483  1978-08-30          M  VISAKHAPATNAM   \n",
       "1048566      T1048567   C8337524  1984-05-03          M           PUNE   \n",
       "\n",
       "         CustAccountBalance TransactionDate TransactionTime  \\\n",
       "0                  17819.05      2016-02-08        14:32:07   \n",
       "1                   2270.69      2016-02-08        14:18:58   \n",
       "2                  17874.44      2016-02-08        14:27:12   \n",
       "3                 866503.21      2016-02-08        14:27:14   \n",
       "4                   6714.43      2016-02-08        18:11:56   \n",
       "...                     ...             ...             ...   \n",
       "1048562             7635.19      2016-09-18        18:48:24   \n",
       "1048563            27311.42      2016-09-18        18:37:34   \n",
       "1048564           221757.06      2016-09-18        18:33:13   \n",
       "1048565            10117.87      2016-09-18        18:47:06   \n",
       "1048566            75734.42      2016-09-18        18:12:22   \n",
       "\n",
       "         TransactionAmount (INR)  Utilisation  \n",
       "0                           25.0     17794.05  \n",
       "1                        27999.0    -25728.31  \n",
       "2                          459.0     17415.44  \n",
       "3                         2060.0    864443.21  \n",
       "4                         1762.5      4951.93  \n",
       "...                          ...          ...  \n",
       "1048562                    799.0      6836.19  \n",
       "1048563                    460.0     26851.42  \n",
       "1048564                    770.0    220987.06  \n",
       "1048565                   1000.0      9117.87  \n",
       "1048566                   1166.0     74568.42  \n",
       "\n",
       "[985322 rows x 10 columns]"
      ]
     },
     "execution_count": 392,
     "metadata": {},
     "output_type": "execute_result"
    }
   ],
   "source": [
    "df"
   ]
  },
  {
   "cell_type": "code",
   "execution_count": null,
   "id": "3e583fed-4a14-4f5b-ba60-c4f2c4f2cc30",
   "metadata": {},
   "outputs": [],
   "source": []
  },
  {
   "cell_type": "code",
   "execution_count": null,
   "id": "2f65066b-7267-4fc9-a512-e8c1fe536488",
   "metadata": {},
   "outputs": [],
   "source": []
  },
  {
   "cell_type": "code",
   "execution_count": null,
   "id": "34b4a245-a39f-4c96-83cc-cfb307f6b28e",
   "metadata": {},
   "outputs": [],
   "source": []
  },
  {
   "cell_type": "code",
   "execution_count": null,
   "id": "cbf23511-f666-4cc1-b6ef-670648178330",
   "metadata": {},
   "outputs": [],
   "source": []
  },
  {
   "cell_type": "code",
   "execution_count": null,
   "id": "cbac19e8-f416-4a61-b7cb-7c988e2cf2d0",
   "metadata": {},
   "outputs": [],
   "source": []
  },
  {
   "cell_type": "code",
   "execution_count": null,
   "id": "007bad53-bec4-47f9-a9f2-9fdd72f5f146",
   "metadata": {},
   "outputs": [],
   "source": []
  },
  {
   "cell_type": "code",
   "execution_count": null,
   "id": "0a7a6ce7-eb26-476c-bcfa-8a0831bef223",
   "metadata": {},
   "outputs": [],
   "source": []
  },
  {
   "cell_type": "code",
   "execution_count": null,
   "id": "dc32e961-f032-4cf8-af9e-363a73dbbd05",
   "metadata": {},
   "outputs": [],
   "source": []
  },
  {
   "cell_type": "code",
   "execution_count": null,
   "id": "01da3153-f6a8-49c0-b991-b3285217264d",
   "metadata": {},
   "outputs": [],
   "source": []
  },
  {
   "cell_type": "code",
   "execution_count": null,
   "id": "6d1929d1-85e5-4a37-948a-caec3662df01",
   "metadata": {},
   "outputs": [],
   "source": []
  },
  {
   "cell_type": "code",
   "execution_count": null,
   "id": "817d4bd5-865d-4a65-b3bd-f5c4ff509ced",
   "metadata": {},
   "outputs": [],
   "source": []
  },
  {
   "cell_type": "code",
   "execution_count": null,
   "id": "3b1ef9bf-96da-4f62-b46a-70c505f39084",
   "metadata": {},
   "outputs": [],
   "source": []
  },
  {
   "cell_type": "markdown",
   "id": "cc2b12ed-79cb-432c-9ee0-871bdf1c2085",
   "metadata": {},
   "source": [
    "# Export the data"
   ]
  },
  {
   "cell_type": "code",
   "execution_count": 390,
   "id": "031e0961-59be-4500-a7de-f837a722b262",
   "metadata": {},
   "outputs": [],
   "source": [
    "customer.to_pickle(\"/Users/mattia/Desktop/ADM(Aris)/HM4/customer.pkl\")"
   ]
  }
 ],
 "metadata": {
  "kernelspec": {
   "display_name": "Python 3 (ipykernel)",
   "language": "python",
   "name": "python3"
  },
  "language_info": {
   "codemirror_mode": {
    "name": "ipython",
    "version": 3
   },
   "file_extension": ".py",
   "mimetype": "text/x-python",
   "name": "python",
   "nbconvert_exporter": "python",
   "pygments_lexer": "ipython3",
   "version": "3.10.8"
  }
 },
 "nbformat": 4,
 "nbformat_minor": 5
}
